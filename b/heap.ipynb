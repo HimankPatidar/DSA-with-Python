{
 "cells": [
  {
   "cell_type": "code",
   "execution_count": null,
   "id": "c8d08e31",
   "metadata": {},
   "outputs": [
    {
     "name": "stdout",
     "output_type": "stream",
     "text": [
      "Min Heap: [-4, 1, 3, 2, 7, 9, 10, 14, 8, 16]\n"
     ]
    }
   ],
   "source": [
    "#Build Min Heap ( heapify )\n",
    "# Time Complexity: O(n)\n",
    "# Space Complexity: O(1)\n",
    "\n",
    "A = [-4, 1, 3, 2, 16, 9, 10, 14, 8, 7]\n",
    "\n",
    "import heapq\n",
    "heapq.heapify(A)\n",
    "print(\"Min Heap:\", A)\n"
   ]
  },
  {
   "cell_type": "code",
   "execution_count": 2,
   "id": "e1d47238",
   "metadata": {},
   "outputs": [
    {
     "name": "stdout",
     "output_type": "stream",
     "text": [
      "After Push: [-4, 1, 3, 2, 5, 9, 10, 14, 8, 16, 7]\n"
     ]
    }
   ],
   "source": [
    "# Heap Pushdef heap_push(heap, item):\n",
    "\n",
    "heapq.heappush(A, 5)\n",
    "print(\"After Push:\", A)"
   ]
  },
  {
   "cell_type": "code",
   "execution_count": 4,
   "id": "c220fcf4",
   "metadata": {},
   "outputs": [
    {
     "name": "stdout",
     "output_type": "stream",
     "text": [
      "After Pop: [2, 5, 3, 7, 16, 9, 10, 14, 8]\n",
      "Popped Element: 1\n"
     ]
    },
    {
     "data": {
      "text/plain": [
       "([2, 5, 3, 7, 16, 9, 10, 14, 8], 1)"
      ]
     },
     "execution_count": 4,
     "metadata": {},
     "output_type": "execute_result"
    }
   ],
   "source": [
    "# heap Pop\n",
    "# Time Complexity: O(log n)\n",
    "\n",
    "minn = heapq.heappop(A)\n",
    "print(\"After Pop:\", A)\n",
    "print(\"Popped Element:\", minn)\n",
    "A, minn\n"
   ]
  },
  {
   "cell_type": "code",
   "execution_count": 8,
   "id": "8fd0984a",
   "metadata": {},
   "outputs": [
    {
     "name": "stdout",
     "output_type": "stream",
     "text": [
      "Sorted Array: []\n"
     ]
    }
   ],
   "source": [
    "# Heap SOrt\n",
    "# Time Complexity: O(n log n)\n",
    "# Space Complexity: O(n)\n",
    "# O(1) Space is possible with in-place sorting algorithms, but not with heapsort.\n",
    "\n",
    "def heap_sort(arr):\n",
    "    heapq.heapify(arr)\n",
    "    n = len(arr)\n",
    "    new_list = [0] * n\n",
    "    for i in range(n):\n",
    "        minn = heapq.heappop(arr)\n",
    "        new_list[i] = minn\n",
    "\n",
    "    return new_list\n",
    "\n",
    "sorted_A = heap_sort(A)\n",
    "print(\"Sorted Array:\", sorted_A)\n"
   ]
  },
  {
   "cell_type": "code",
   "execution_count": 10,
   "id": "38342538",
   "metadata": {},
   "outputs": [
    {
     "data": {
      "text/plain": [
       "[1, 2, 3, 6, 16, 9, 10, 14, 8, 7]"
      ]
     },
     "execution_count": 10,
     "metadata": {},
     "output_type": "execute_result"
    }
   ],
   "source": [
    "# Heap push Pop : Time Complexity: O(log n)\n",
    "A = [-4, 1, 3, 2, 16, 9, 10, 14, 8, 7]\n",
    "\n",
    "heapq.heappushpop(A, 6)\n",
    "# print(\"After Push Pop:\", A)\n",
    "A"
   ]
  },
  {
   "cell_type": "code",
   "execution_count": 11,
   "id": "e1061467",
   "metadata": {},
   "outputs": [
    {
     "data": {
      "text/plain": [
       "[-16, -14, -10, -8, -7, -9, -3, -2, 4, -1]"
      ]
     },
     "execution_count": 11,
     "metadata": {},
     "output_type": "execute_result"
    }
   ],
   "source": [
    "# MAx Heap\n",
    "B = [-4, 1, 3, 2, 16, 9, 10, 14, 8, 7]\n",
    "n = len(B)\n",
    "\n",
    "for i in range(n):\n",
    "    B[i] = -B[i]\n",
    "heapq.heapify(B)\n",
    "# print(\"Max Heap:\", [-x for x in B])\n",
    "B\n"
   ]
  },
  {
   "cell_type": "code",
   "execution_count": 12,
   "id": "41bb6407",
   "metadata": {},
   "outputs": [
    {
     "name": "stdout",
     "output_type": "stream",
     "text": [
      "Max Element: 16\n"
     ]
    }
   ],
   "source": [
    "largest = -heapq.heappop(B)\n",
    "print(\"Max Element:\", largest)"
   ]
  },
  {
   "cell_type": "code",
   "execution_count": 15,
   "id": "830dba5c",
   "metadata": {},
   "outputs": [
    {
     "data": {
      "text/plain": [
       "1"
      ]
     },
     "execution_count": 15,
     "metadata": {},
     "output_type": "execute_result"
    }
   ],
   "source": [
    "# Peek at Min : # Time Complexity: O(1)\n",
    "A[0]"
   ]
  },
  {
   "cell_type": "code",
   "execution_count": 14,
   "id": "2fb0d3dc",
   "metadata": {},
   "outputs": [
    {
     "data": {
      "text/plain": [
       "[-14, -8, -10, -2, -7, -9, -3, -1, 4, -5, -5]"
      ]
     },
     "execution_count": 14,
     "metadata": {},
     "output_type": "execute_result"
    }
   ],
   "source": [
    "heapq.heappush(B, -5)\n",
    "# print(\"After Push Max Heap:\", [-x for x in B])\n",
    "B"
   ]
  },
  {
   "cell_type": "code",
   "execution_count": 18,
   "id": "14e10601",
   "metadata": {},
   "outputs": [
    {
     "name": "stdout",
     "output_type": "stream",
     "text": [
      "[3] 1\n",
      "[1, 3] 2\n",
      "[1, 3, 4] 3\n",
      "[1, 1, 4, 3] 4\n",
      "[1, 1, 4, 3, 5] 5\n",
      "[1, 1, 4, 3, 5, 9] 6\n",
      "[1, 1, 2, 3, 5, 9, 4] 7\n",
      "[1, 1, 2, 3, 5, 9, 4, 6] 8\n",
      "[1, 1, 2, 3, 5, 9, 4, 6, 5] 9\n",
      "[1, 1, 2, 3, 3, 9, 4, 6, 5, 5] 10\n",
      "[1, 1, 2, 3, 3, 9, 4, 6, 5, 5, 5] 11\n"
     ]
    }
   ],
   "source": [
    "# build heap From scratch : Time Complexity: O(n log n)\n",
    "\n",
    "c = [3, 1, 4, 1, 5, 9, 2, 6, 5, 3, 5]\n",
    "\n",
    "heap = []\n",
    "\n",
    "for x in c:\n",
    "    heapq.heappush(heap, x)\n",
    "    print(heap, len(heap))\n"
   ]
  },
  {
   "cell_type": "code",
   "execution_count": 19,
   "id": "aa0a17cf",
   "metadata": {},
   "outputs": [
    {
     "data": {
      "text/plain": [
       "Counter({5: 1, 1: 1, 3: 1, 2: 1, 16: 1, 9: 1, 10: 1, 14: 1, 8: 1, 7: 1})"
      ]
     },
     "execution_count": 19,
     "metadata": {},
     "output_type": "execute_result"
    }
   ],
   "source": [
    "# putting tuples in heap\n",
    "\n",
    "D = [5, 1, 3, 2, 16, 9, 10, 14, 8, 7]\n",
    "\n",
    "from collections import Counter\n",
    "\n",
    "counter = Counter(D)\n",
    "\n",
    "counter"
   ]
  },
  {
   "cell_type": "code",
   "execution_count": 22,
   "metadata": {},
   "outputs": [
    {
     "name": "stdout",
     "output_type": "stream",
     "text": [
      "[(1, 5)] 1\n",
      "[(1, 1), (1, 5)] 2\n",
      "[(1, 1), (1, 5), (1, 3)] 3\n",
      "[(1, 1), (1, 2), (1, 3), (1, 5)] 4\n",
      "[(1, 1), (1, 2), (1, 3), (1, 5), (1, 16)] 5\n",
      "[(1, 1), (1, 2), (1, 3), (1, 5), (1, 16), (1, 9)] 6\n",
      "[(1, 1), (1, 2), (1, 3), (1, 5), (1, 16), (1, 9), (1, 10)] 7\n",
      "[(1, 1), (1, 2), (1, 3), (1, 5), (1, 16), (1, 9), (1, 10), (1, 14)] 8\n",
      "[(1, 1), (1, 2), (1, 3), (1, 5), (1, 16), (1, 9), (1, 10), (1, 14), (1, 8)] 9\n",
      "[(1, 1), (1, 2), (1, 3), (1, 5), (1, 7), (1, 9), (1, 10), (1, 14), (1, 8), (1, 16)] 10\n"
     ]
    }
   ],
   "source": [
    "heap = []\n",
    "for key, value in counter.items():\n",
    "    heapq.heappush(heap, (value, key))\n",
    "    print(heap, len(heap))\n"
   ]
  },
  {
   "cell_type": "code",
   "execution_count": null,
   "metadata": {},
   "outputs": [],
   "source": []
  },
  {
   "cell_type": "code",
   "execution_count": null,
   "id": "e3c3d62f",
   "metadata": {},
   "outputs": [],
   "source": []
  },
  {
   "cell_type": "code",
   "execution_count": null,
   "metadata": {},
   "outputs": [],
   "source": []
  }
 ],
 "metadata": {
  "kernelspec": {
   "display_name": "Python 3",
   "language": "python",
   "name": "python3"
  },
  "language_info": {
   "codemirror_mode": {
    "name": "ipython",
    "version": 3
   },
   "file_extension": ".py",
   "mimetype": "text/x-python",
   "name": "python",
   "nbconvert_exporter": "python",
   "pygments_lexer": "ipython3",
   "version": "3.12.3"
  }
 },
 "nbformat": 4,
 "nbformat_minor": 5
}
