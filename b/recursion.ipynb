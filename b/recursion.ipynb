{
 "cells": [
  {
   "cell_type": "code",
   "execution_count": null,
   "id": "90275565",
   "metadata": {},
   "outputs": [
    {
     "data": {
      "text/plain": [
       "55"
      ]
     },
     "execution_count": 4,
     "metadata": {},
     "output_type": "execute_result"
    }
   ],
   "source": [
    "#Fibonacco \n",
    "# F(0) = 0\n",
    "# F(1) = 1\n",
    "# F(n) = F(n-1) + F(n-2) for n > 1\n",
    "\n",
    "# Time complexity: O(2^n)\n",
    "# Space complexity: O(n) due to recursion stack\n",
    "\n",
    "def F(n):\n",
    "    if n == 0:\n",
    "        return 0\n",
    "    elif n == 1:\n",
    "        return 1\n",
    "    else:\n",
    "        return F(n - 1) + F(n - 2)\n",
    "    \n",
    "F(10)  # Example usage, should return 55"
   ]
  },
  {
   "cell_type": "code",
   "execution_count": 13,
   "metadata": {},
   "outputs": [
    {
     "name": "stdout",
     "output_type": "stream",
     "text": [
      "1\n"
     ]
    }
   ],
   "source": [
    "#Singly Linked List\n",
    "class SinglyLinkedListNode:\n",
    "    def __init__(self, data):\n",
    "        self.data = data\n",
    "        self.next = None\n",
    "\n",
    "    def __str__(self):\n",
    "        return str(self.data)\n",
    "    \n",
    "Head = SinglyLinkedListNode(1)\n",
    "A = SinglyLinkedListNode(2)\n",
    "B = SinglyLinkedListNode(3)\n",
    "Head.next = A\n",
    "A.next = B\n",
    "print(Head)  # Output: 1\n"
   ]
  },
  {
   "cell_type": "code",
   "execution_count": null,
   "id": "39fbfb9f",
   "metadata": {},
   "outputs": [],
   "source": [
    "\n",
    "\n",
    "def reverse(node):\n",
    "    if not node:\n",
    "        return None\n",
    "    \n",
    "    return reverse(node.next)\n",
    "    print(node)\n",
    "\n",
    "\n",
    "reverse(Head)  # Example usage, should reverse the linked list"
   ]
  },
  {
   "cell_type": "code",
   "execution_count": null,
   "id": "99037ee0",
   "metadata": {},
   "outputs": [],
   "source": []
  },
  {
   "cell_type": "code",
   "execution_count": null,
   "id": "107d7d8f",
   "metadata": {},
   "outputs": [],
   "source": []
  },
  {
   "cell_type": "code",
   "execution_count": null,
   "id": "3fff9a1a",
   "metadata": {},
   "outputs": [],
   "source": []
  },
  {
   "cell_type": "code",
   "execution_count": null,
   "metadata": {},
   "outputs": [],
   "source": []
  }
 ],
 "metadata": {
  "kernelspec": {
   "display_name": "Python 3",
   "language": "python",
   "name": "python3"
  },
  "language_info": {
   "codemirror_mode": {
    "name": "ipython",
    "version": 3
   },
   "file_extension": ".py",
   "mimetype": "text/x-python",
   "name": "python",
   "nbconvert_exporter": "python",
   "pygments_lexer": "ipython3",
   "version": "3.12.3"
  }
 },
 "nbformat": 4,
 "nbformat_minor": 5
}
