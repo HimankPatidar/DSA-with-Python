{
 "cells": [
  {
   "cell_type": "markdown",
   "metadata": {},
   "source": [
    "### Object-Oriented Programming\n",
    "Object-oriented programming (OOP) is a programming paradigm that revolves around the concept of objects and classes\n",
    "### Classes\n",
    "A class is a blueprint or a template that defines the properties and behavior of an object. \n",
    "### Objects\n",
    "An object is an instance of a class and has its own set of attributes (data) and methods.\n"
   ]
  },
  {
   "cell_type": "code",
   "execution_count": 1,
   "metadata": {},
   "outputs": [],
   "source": [
    "class Phone:\n",
    "    def call(self) :\n",
    "        print(\"You can call\")\n",
    "    def message(self) :\n",
    "        print(\"You can message\")"
   ]
  },
  {
   "cell_type": "code",
   "execution_count": 2,
   "metadata": {},
   "outputs": [],
   "source": [
    "p1 = Phone()"
   ]
  },
  {
   "cell_type": "code",
   "execution_count": 3,
   "metadata": {},
   "outputs": [
    {
     "name": "stdout",
     "output_type": "stream",
     "text": [
      "You can call\n"
     ]
    }
   ],
   "source": [
    "p1.call()"
   ]
  },
  {
   "cell_type": "code",
   "execution_count": 4,
   "metadata": {},
   "outputs": [
    {
     "name": "stdout",
     "output_type": "stream",
     "text": [
      "You can message\n"
     ]
    }
   ],
   "source": [
    "p1.message()"
   ]
  },
  {
   "cell_type": "code",
   "execution_count": 8,
   "metadata": {},
   "outputs": [],
   "source": [
    "class Phone:\n",
    "    def set_color(self,color) :\n",
    "        self.color = color\n",
    "    def set_cost(self,cost) :\n",
    "        self.cost = cost\n",
    "    def show_color(self) :\n",
    "        return self.color\n",
    "    def show_cost(self) :\n",
    "        return self.cost\n",
    "    def make_call(self) :\n",
    "        print(\"Making a call\")\n",
    "    def play_game(self) :\n",
    "        print(\"Playing a game\")\n",
    "    "
   ]
  },
  {
   "cell_type": "code",
   "execution_count": 9,
   "metadata": {},
   "outputs": [],
   "source": [
    "p2 = Phone()\n",
    "p2.set_color(\"Blue\")\n",
    "p2.set_cost(5000)"
   ]
  },
  {
   "cell_type": "code",
   "execution_count": 10,
   "metadata": {},
   "outputs": [
    {
     "data": {
      "text/plain": [
       "'Blue'"
      ]
     },
     "execution_count": 10,
     "metadata": {},
     "output_type": "execute_result"
    }
   ],
   "source": [
    "p2.show_color()"
   ]
  },
  {
   "cell_type": "code",
   "execution_count": 11,
   "metadata": {},
   "outputs": [
    {
     "data": {
      "text/plain": [
       "5000"
      ]
     },
     "execution_count": 11,
     "metadata": {},
     "output_type": "execute_result"
    }
   ],
   "source": [
    "p2.show_cost()"
   ]
  },
  {
   "cell_type": "code",
   "execution_count": 13,
   "metadata": {},
   "outputs": [
    {
     "name": "stdout",
     "output_type": "stream",
     "text": [
      "Making a call\n"
     ]
    }
   ],
   "source": [
    "p2.make_call()"
   ]
  },
  {
   "cell_type": "code",
   "execution_count": 14,
   "metadata": {},
   "outputs": [
    {
     "name": "stdout",
     "output_type": "stream",
     "text": [
      "Playing a game\n"
     ]
    }
   ],
   "source": [
    "p2.play_game()"
   ]
  },
  {
   "cell_type": "code",
   "execution_count": 15,
   "metadata": {},
   "outputs": [],
   "source": [
    "class Employee:\n",
    "    def __init__(self,name,age,salary,gender):\n",
    "        self.name = name\n",
    "        self.age = age\n",
    "        self.salary = salary\n",
    "        self.gender = gender\n",
    "    \n",
    "    def employee_details(self):\n",
    "        print(\"Name of the employee is\",self.name)\n",
    "        print(\"Age of the employee is\",self.age)\n",
    "        print(\"Salary of the employee is\",self.salary)\n",
    "        print(\"Gender of Employee is\",self.gender)"
   ]
  },
  {
   "cell_type": "code",
   "execution_count": 16,
   "metadata": {},
   "outputs": [],
   "source": [
    "e1 = Employee(\"julie\", 23, 30000,\"Female\")"
   ]
  },
  {
   "cell_type": "code",
   "execution_count": 17,
   "metadata": {},
   "outputs": [
    {
     "name": "stdout",
     "output_type": "stream",
     "text": [
      "Name of the employee is julie\n",
      "Age of the employee is 23\n",
      "Salary of the employee is 30000\n",
      "Gender of Employee is Female\n"
     ]
    }
   ],
   "source": [
    "e1.employee_details()"
   ]
  },
  {
   "cell_type": "markdown",
   "metadata": {},
   "source": [
    "### Types of variable in OOPS\n",
    "\n",
    "1.) Instance Variable.\n",
    "2.) Static (Class) Variable"
   ]
  },
  {
   "cell_type": "code",
   "execution_count": null,
   "metadata": {},
   "outputs": [],
   "source": [
    "class Car:\n",
    "    wheels = 4\n",
    "    def __init__(self,brand,milage):\n",
    "        self.brand = brand\n",
    "        self.milage = milage\n",
    "    def car_details(self):\n",
    "        print(\"Brand of the car is\",self.brand)\n",
    "        print(\"Milage of the car is\",self.milage)\n"
   ]
  },
  {
   "cell_type": "code",
   "execution_count": 11,
   "metadata": {},
   "outputs": [
    {
     "name": "stdout",
     "output_type": "stream",
     "text": [
      "BMW 8 5\n",
      "BMW 10 5\n"
     ]
    }
   ],
   "source": [
    "class Car:\n",
    "    wheels = 4  # Class variable (shared among all instances)\n",
    "\n",
    "    def __init__(self):\n",
    "        self.brand = \"BMW\"  # Instance variable (unique to each instance)\n",
    "        self.milage = 10     # Instance variable (unique to each instance)\n",
    "\n",
    "# Creating instances of Car\n",
    "c1 = Car()\n",
    "c2 = Car()\n",
    "\n",
    "# Modifying instance variable of c1\n",
    "c1.milage = 8\n",
    "\n",
    "# Modifying class variable using the class name\n",
    "Car.wheels = 5\n",
    "\n",
    "# Printing attributes of c1\n",
    "print(c1.brand, c1.milage, c1.wheels)  # Output: \"BMW 8 5\"\n",
    "\n",
    "# Printing attributes of c2\n",
    "print(c2.brand, c2.milage, c2.wheels)  # Output: \"BMW 10 5\"\n"
   ]
  },
  {
   "cell_type": "markdown",
   "metadata": {},
   "source": [
    "### Polymorphism\n"
   ]
  },
  {
   "cell_type": "code",
   "execution_count": 12,
   "metadata": {},
   "outputs": [
    {
     "name": "stdout",
     "output_type": "stream",
     "text": [
      "Meow\n",
      "I am a cat. My name is Tom. I am 2.5 years old.\n",
      "Meow\n",
      "Bark\n",
      "I am a dog. My name is Max. I am 4 years old.\n",
      "Bark\n"
     ]
    }
   ],
   "source": [
    "class Cat:\n",
    "    def __init__(self,name,age):\n",
    "        self.name = name\n",
    "        self.age = age\n",
    "\n",
    "    def info(self):\n",
    "        print(f\"I am a cat. My name is {self.name}. I am {self.age} years old.\")\n",
    "\n",
    "    def make_sound(self):\n",
    "        print(\"Meow\")\n",
    "\n",
    "\n",
    "class Dog :\n",
    "    def __init__(self,name,age):\n",
    "        self.name = name\n",
    "        self.age = age\n",
    "\n",
    "    def info(self):\n",
    "        print(f\"I am a dog. My name is {self.name}. I am {self.age} years old.\")\n",
    "\n",
    "    def make_sound(self):\n",
    "        print(\"Bark\")\n",
    "\n",
    "\n",
    "cat1 = Cat(\"Tom\", 2.5)\n",
    "dog1 = Dog(\"Max\", 4)\n",
    "\n",
    "for animal in (cat1, dog1):\n",
    "    animal.make_sound()\n",
    "    animal.info()\n",
    "    animal.make_sound()"
   ]
  },
  {
   "cell_type": "code",
   "execution_count": 14,
   "metadata": {},
   "outputs": [
    {
     "name": "stdout",
     "output_type": "stream",
     "text": [
      "Compiling\n",
      "Running\n",
      "Debugging\n",
      "Code Runner\n"
     ]
    }
   ],
   "source": [
    "class Pycharm :\n",
    "    def execute(self):\n",
    "        print(\"Compiling\")\n",
    "        print(\"Running\")\n",
    "class Intellij :\n",
    "    def execute(self):\n",
    "        print(\"Compiling\")\n",
    "        print(\"Running\")\n",
    "        print(\"Debugging\")\n",
    "        print(\"Code Runner\")\n",
    "\n",
    "class Laptop:\n",
    "    def code(self,ide):\n",
    "        ide.execute()\n",
    "\n",
    "ide = Intellij()\n",
    "lap = Laptop()\n",
    "lap.code(ide)\n",
    "\n"
   ]
  },
  {
   "cell_type": "markdown",
   "metadata": {},
   "source": [
    "### Opearator overloading"
   ]
  },
  {
   "cell_type": "code",
   "execution_count": 15,
   "metadata": {},
   "outputs": [
    {
     "name": "stdout",
     "output_type": "stream",
     "text": [
      "118\n",
      "134\n"
     ]
    }
   ],
   "source": [
    "class Student:\n",
    "    def __init__(self,m1,m2):\n",
    "        self.m1 = m1\n",
    "        self.m2 = m2\n",
    "\n",
    "    def __add__(self,other):\n",
    "        m1 = self.m1 + other.m1\n",
    "        m2 = self.m2 + other.m2\n",
    "        s3 = Student(m1,m2)\n",
    "\n",
    "        return s3\n",
    "    \n",
    "\n",
    "s1 = Student(58,69)\n",
    "s2 = Student(60,65)\n",
    "s3 = s1 + s2\n",
    "print(s3.m1)\n",
    "print(s3.m2)\n",
    "\n"
   ]
  },
  {
   "cell_type": "markdown",
   "metadata": {},
   "source": [
    "### Inheritance"
   ]
  },
  {
   "cell_type": "code",
   "execution_count": 16,
   "metadata": {},
   "outputs": [
    {
     "name": "stdout",
     "output_type": "stream",
     "text": [
      "John Doe\n"
     ]
    }
   ],
   "source": [
    "class Person :\n",
    "    def __init__(self,fname,lname):\n",
    "        self.firstname = fname\n",
    "        self.lastname = lname\n",
    "\n",
    "    def printname(self):\n",
    "        print(self.firstname,self.lastname)\n",
    "\n",
    "x = Person(\"John\",\"Doe\")\n",
    "x.printname()\n",
    "\n"
   ]
  },
  {
   "cell_type": "code",
   "execution_count": null,
   "metadata": {},
   "outputs": [],
   "source": [
    "class Vehicle:\n",
    "    def __init__(self,brand,milage):\n",
    "        self.brand = brand\n",
    "        self.milage = milage\n",
    "    def details(self):\n",
    "        print(\"Brand of the vehicle is\",self.brand)\n",
    "        print(\"Milage of the vehicle is\",self.milage)\n",
    "\n",
    "class Car(Vehicle):\n",
    "    def __init__(self,brand,milage,tyres,hp):\n",
    "        super().__init__(brand,milage)\n",
    "        self.tyres = tyres\n",
    "        self.hp = hp\n",
    "\n",
    "    def car_details(self):\n",
    "        print(\"Number of tyres are\",self.tyres)\n",
    "        print(\"Horsepower of the car is\",self.hp)\n",
    "\n",
    "\n",
    "    "
   ]
  },
  {
   "cell_type": "code",
   "execution_count": 18,
   "metadata": {},
   "outputs": [
    {
     "name": "stdout",
     "output_type": "stream",
     "text": [
      "Brand of the vehicle is BMW\n",
      "Milage of the vehicle is 10\n"
     ]
    }
   ],
   "source": [
    "class Vehicle :\n",
    "    def __init__(self,brand,milage):\n",
    "        self.brand = brand\n",
    "        self.milage = milage\n",
    "    def details(self):\n",
    "        print(\"Brand of the vehicle is\",self.brand)\n",
    "        print(\"Milage of the vehicle is\",self.milage)\n",
    "\n",
    "v1 = Vehicle(\"BMW\",10)\n",
    "v1.details()"
   ]
  },
  {
   "cell_type": "code",
   "execution_count": 23,
   "metadata": {},
   "outputs": [],
   "source": [
    "class Car(Vehicle):\n",
    "    def show_car(self):\n",
    "        print(\"S500\")"
   ]
  },
  {
   "cell_type": "code",
   "execution_count": 24,
   "metadata": {},
   "outputs": [],
   "source": [
    "c1 = Car(25,1000000)"
   ]
  },
  {
   "cell_type": "code",
   "execution_count": 25,
   "metadata": {},
   "outputs": [
    {
     "name": "stdout",
     "output_type": "stream",
     "text": [
      "Brand of the vehicle is 25\n",
      "Milage of the vehicle is 1000000\n",
      "S500\n"
     ]
    }
   ],
   "source": [
    "c1.details()\n",
    "c1.show_car()"
   ]
  },
  {
   "cell_type": "markdown",
   "metadata": {},
   "source": [
    "### MultiLevel Inheritance"
   ]
  },
  {
   "cell_type": "code",
   "execution_count": 28,
   "metadata": {},
   "outputs": [],
   "source": [
    "class Parent :\n",
    "    def get_name(self, name):\n",
    "        self.name = name\n",
    "    def show_name(self):\n",
    "        return self.name\n",
    "    "
   ]
  },
  {
   "cell_type": "code",
   "execution_count": 29,
   "metadata": {},
   "outputs": [],
   "source": [
    "class Child(Parent):\n",
    "    def get_age(self,age):\n",
    "        self.age = age\n",
    "    def show_age(self):\n",
    "        return self.age"
   ]
  },
  {
   "cell_type": "code",
   "execution_count": 30,
   "metadata": {},
   "outputs": [],
   "source": [
    "class GrandChild(Child):\n",
    "    def get_gender(self,gender):\n",
    "        self.gender = gender\n",
    "    def show_gender(self):\n",
    "        return self.gender"
   ]
  },
  {
   "cell_type": "code",
   "execution_count": 31,
   "metadata": {},
   "outputs": [],
   "source": [
    "gc = GrandChild()\n"
   ]
  },
  {
   "cell_type": "code",
   "execution_count": 32,
   "metadata": {},
   "outputs": [],
   "source": [
    "gc.get_name(\"John\")"
   ]
  },
  {
   "cell_type": "code",
   "execution_count": 33,
   "metadata": {},
   "outputs": [],
   "source": [
    "gc.get_age(23)"
   ]
  },
  {
   "cell_type": "code",
   "execution_count": 35,
   "metadata": {},
   "outputs": [],
   "source": [
    "gc.get_gender(\"Male\")"
   ]
  },
  {
   "cell_type": "code",
   "execution_count": 38,
   "metadata": {},
   "outputs": [
    {
     "name": "stdout",
     "output_type": "stream",
     "text": [
      "Name :  John\n",
      "Age :  23\n",
      "Gender :  Male\n"
     ]
    }
   ],
   "source": [
    "print(\"Name : \", gc.show_name())\n",
    "print(\"Age : \", gc.show_age())\n",
    "print(\"Gender : \", gc.gender)"
   ]
  },
  {
   "cell_type": "code",
   "execution_count": 39,
   "metadata": {},
   "outputs": [
    {
     "name": "stdout",
     "output_type": "stream",
     "text": [
      "Father is working.\n",
      "Mother is cooking.\n",
      "Child is playing.\n"
     ]
    }
   ],
   "source": [
    "class Father:\n",
    "    def work(self):\n",
    "        return \"Father is working.\"\n",
    "\n",
    "class Mother:\n",
    "    def cook(self):\n",
    "        return \"Mother is cooking.\"\n",
    "\n",
    "class Child(Father, Mother):  # Multiple Inheritance\n",
    "    def play(self):\n",
    "        return \"Child is playing.\"\n",
    "\n",
    "# Creating an object of Child\n",
    "c = Child()\n",
    "\n",
    "# Accessing methods from both parent classes\n",
    "print(c.work())  # Inherited from Father\n",
    "print(c.cook())  # Inherited from Mother\n",
    "print(c.play())  # Defined in Child class\n"
   ]
  },
  {
   "cell_type": "markdown",
   "metadata": {},
   "source": [
    "### Diamond Problem in Multiple Inheritance\n",
    "A common issue in multiple inheritance is the Diamond Problem, where a method is inherited from multiple sources, causing ambiguity.\n",
    "\n"
   ]
  },
  {
   "cell_type": "code",
   "execution_count": 40,
   "metadata": {},
   "outputs": [
    {
     "name": "stdout",
     "output_type": "stream",
     "text": [
      "B\n"
     ]
    }
   ],
   "source": [
    "class A:\n",
    "    def show(self):\n",
    "        return \"A\"\n",
    "\n",
    "class B(A):\n",
    "    def show(self):\n",
    "        return \"B\"\n",
    "\n",
    "class C(A):\n",
    "    def show(self):\n",
    "        return \"C\"\n",
    "\n",
    "class D(B, C):  # Inheriting from both B and C\n",
    "    pass\n",
    "\n",
    "d = D()\n",
    "print(d.show())  # Which show() method gets called?\n"
   ]
  },
  {
   "cell_type": "markdown",
   "metadata": {},
   "source": [
    "### Method Resolution Order (MRO)\n",
    "When a method is called on an object in multiple inheritance, Python follows MRO (Method Resolution Order) using C3 linearization (DFS with prioritization of parents from left to right).\n",
    "\n"
   ]
  },
  {
   "cell_type": "code",
   "execution_count": 41,
   "metadata": {},
   "outputs": [
    {
     "name": "stdout",
     "output_type": "stream",
     "text": [
      "[<class '__main__.D'>, <class '__main__.B'>, <class '__main__.C'>, <class '__main__.A'>, <class 'object'>]\n"
     ]
    }
   ],
   "source": [
    "print(D.mro())\n"
   ]
  },
  {
   "cell_type": "markdown",
   "metadata": {},
   "source": [
    "### Polymorphism and Inheritance"
   ]
  },
  {
   "cell_type": "code",
   "execution_count": 42,
   "metadata": {},
   "outputs": [
    {
     "name": "stdout",
     "output_type": "stream",
     "text": [
      "Drawing a Button\n",
      "Drawing a TextField\n"
     ]
    }
   ],
   "source": [
    "class Widget:\n",
    "    def draw(self):\n",
    "        raise NotImplementedError(\"Subclasses should implement this!\")\n",
    "\n",
    "class Button(Widget):\n",
    "    def draw(self):\n",
    "        return \"Drawing a Button\"\n",
    "\n",
    "class TextField(Widget):\n",
    "    def draw(self):\n",
    "        return \"Drawing a TextField\"\n",
    "\n",
    "def render(widget):\n",
    "    print(widget.draw())\n",
    "\n",
    "# Using polymorphism to render different types of widgets.\n",
    "widgets = [Button(), TextField()]\n",
    "for w in widgets:\n",
    "    render(w)\n"
   ]
  },
  {
   "cell_type": "markdown",
   "metadata": {},
   "source": [
    "### Regular expression"
   ]
  },
  {
   "cell_type": "code",
   "execution_count": 43,
   "metadata": {},
   "outputs": [],
   "source": [
    "import re\n",
    "\n",
    "s = '''Chintu is 24 and Mintu is 22 Pintu is 21 and Sintu in 20'''"
   ]
  },
  {
   "cell_type": "code",
   "execution_count": 44,
   "metadata": {},
   "outputs": [
    {
     "data": {
      "text/plain": [
       "'Chintu is 24 and Mintu is 22 Pintu is 21 and Sintu in 20'"
      ]
     },
     "execution_count": 44,
     "metadata": {},
     "output_type": "execute_result"
    }
   ],
   "source": [
    "s"
   ]
  },
  {
   "cell_type": "code",
   "execution_count": 45,
   "metadata": {},
   "outputs": [],
   "source": [
    "ages = re.findall(r'\\d{1,3}',s)"
   ]
  },
  {
   "cell_type": "code",
   "execution_count": 46,
   "metadata": {},
   "outputs": [
    {
     "data": {
      "text/plain": [
       "['24', '22', '21', '20']"
      ]
     },
     "execution_count": 46,
     "metadata": {},
     "output_type": "execute_result"
    }
   ],
   "source": [
    "ages"
   ]
  },
  {
   "cell_type": "code",
   "execution_count": 47,
   "metadata": {},
   "outputs": [
    {
     "data": {
      "text/plain": [
       "['Chintu', 'Mintu', 'Pintu', 'Sintu']"
      ]
     },
     "execution_count": 47,
     "metadata": {},
     "output_type": "execute_result"
    }
   ],
   "source": [
    "names = re.findall(r'[A-Z][a-z]*',s)\n",
    "names"
   ]
  },
  {
   "cell_type": "code",
   "execution_count": 48,
   "metadata": {},
   "outputs": [
    {
     "name": "stdout",
     "output_type": "stream",
     "text": [
      "{'Chintu': '24', 'Mintu': '22', 'Pintu': '21', 'Sintu': '20'}\n"
     ]
    }
   ],
   "source": [
    "dict = {}\n",
    "x=0\n",
    "for i in names:\n",
    "    dict[i] = ages[x]\n",
    "    x+=1\n",
    "\n",
    "print(dict)"
   ]
  },
  {
   "cell_type": "code",
   "execution_count": 50,
   "metadata": {},
   "outputs": [
    {
     "name": "stdout",
     "output_type": "stream",
     "text": [
      "Software engineer is present\n"
     ]
    }
   ],
   "source": [
    "s = \"\"\"Hey, I am a software engineer. I am 25 years old and I am working at Google.\"\"\"\n",
    "\n",
    "if re.search('software',s):\n",
    "    print(\"Software engineer is present\")"
   ]
  },
  {
   "cell_type": "code",
   "execution_count": 51,
   "metadata": {},
   "outputs": [
    {
     "name": "stdout",
     "output_type": "stream",
     "text": [
      "software\n"
     ]
    }
   ],
   "source": [
    "a = re.findall('software',s)\n",
    "for i in a :\n",
    "    print(i)"
   ]
  },
  {
   "cell_type": "code",
   "execution_count": 52,
   "metadata": {},
   "outputs": [
    {
     "name": "stdout",
     "output_type": "stream",
     "text": [
      "(12, 20)\n"
     ]
    }
   ],
   "source": [
    "for i in re.finditer('software',s):\n",
    "    print(i.span())\n",
    "    "
   ]
  },
  {
   "cell_type": "code",
   "execution_count": 53,
   "metadata": {},
   "outputs": [
    {
     "name": "stdout",
     "output_type": "stream",
     "text": [
      "Sat\n",
      "hat\n",
      "mat\n",
      "pat\n"
     ]
    }
   ],
   "source": [
    "str = 'Sat, hat, mat, pat'\n",
    "allstr = re.findall('[Shmp]at',str)\n",
    "for i in allstr:\n",
    "    print(i)\n",
    "    "
   ]
  },
  {
   "cell_type": "code",
   "execution_count": 54,
   "metadata": {},
   "outputs": [
    {
     "name": "stdout",
     "output_type": "stream",
     "text": [
      "food,hat,mat,pat\n"
     ]
    }
   ],
   "source": [
    "f = 'rat,hat,mat,pat'\n",
    "regex = re.compile('[r]at')\n",
    "f = regex.sub('food',f)\n",
    "print(f)"
   ]
  },
  {
   "cell_type": "code",
   "execution_count": 56,
   "metadata": {},
   "outputs": [
    {
     "name": "stdout",
     "output_type": "stream",
     "text": [
      "Valid phone number\n"
     ]
    },
    {
     "name": "stderr",
     "output_type": "stream",
     "text": [
      "<>:2: SyntaxWarning: invalid escape sequence '\\w'\n",
      "<>:2: SyntaxWarning: invalid escape sequence '\\w'\n",
      "C:\\Users\\patid\\AppData\\Local\\Temp\\ipykernel_15852\\1046638643.py:2: SyntaxWarning: invalid escape sequence '\\w'\n",
      "  if re.search(\"\\w{3}-{1}\\w{3}-{1}\\w{4}\",phn):\n"
     ]
    }
   ],
   "source": [
    "phn = \"888-777-5666\"\n",
    "if re.search(\"\\w{3}-{1}\\w{3}-{1}\\w{4}\",phn):\n",
    "    print(\"Valid phone number\")"
   ]
  },
  {
   "cell_type": "code",
   "execution_count": 57,
   "metadata": {},
   "outputs": [
    {
     "name": "stdout",
     "output_type": "stream",
     "text": [
      "Valid name\n"
     ]
    },
    {
     "name": "stderr",
     "output_type": "stream",
     "text": [
      "<>:1: SyntaxWarning: invalid escape sequence '\\w'\n",
      "<>:1: SyntaxWarning: invalid escape sequence '\\w'\n",
      "C:\\Users\\patid\\AppData\\Local\\Temp\\ipykernel_15852\\391867512.py:1: SyntaxWarning: invalid escape sequence '\\w'\n",
      "  if re.search(\"\\w{2,20}\\s\\w{2,20}\",\"Rahul kumar\"):\n"
     ]
    }
   ],
   "source": [
    "if re.search(\"\\w{2,20}\\s\\w{2,20}\",\"Rahul kumar\"):\n",
    "    print(\"Valid name\")"
   ]
  },
  {
   "cell_type": "code",
   "execution_count": 59,
   "metadata": {},
   "outputs": [
    {
     "name": "stderr",
     "output_type": "stream",
     "text": [
      "<>:2: SyntaxWarning: invalid escape sequence '\\w'\n",
      "<>:2: SyntaxWarning: invalid escape sequence '\\w'\n",
      "C:\\Users\\patid\\AppData\\Local\\Temp\\ipykernel_15852\\594368850.py:2: SyntaxWarning: invalid escape sequence '\\w'\n",
      "  emails = re.findall('[\\w._%+-]{1,20}@[\\w.-]{2,20}.[A-Za-z]{2,3}',email)\n"
     ]
    },
    {
     "data": {
      "text/plain": [
       "['abc@gmail.com', 'rbc@gmail.com']"
      ]
     },
     "execution_count": 59,
     "metadata": {},
     "output_type": "execute_result"
    }
   ],
   "source": [
    "email = \"abc@gmail.com  rbc@gmail.com @arf.com, jecrc.ac.in\"\n",
    "emails = re.findall('[\\w._%+-]{1,20}@[\\w.-]{2,20}.[A-Za-z]{2,3}',email)\n",
    "emails"
   ]
  },
  {
   "cell_type": "code",
   "execution_count": null,
   "metadata": {},
   "outputs": [],
   "source": []
  },
  {
   "cell_type": "code",
   "execution_count": null,
   "metadata": {},
   "outputs": [],
   "source": []
  },
  {
   "cell_type": "code",
   "execution_count": null,
   "metadata": {},
   "outputs": [],
   "source": []
  },
  {
   "cell_type": "code",
   "execution_count": null,
   "metadata": {},
   "outputs": [],
   "source": []
  },
  {
   "cell_type": "code",
   "execution_count": null,
   "metadata": {},
   "outputs": [],
   "source": []
  },
  {
   "cell_type": "code",
   "execution_count": null,
   "metadata": {},
   "outputs": [],
   "source": []
  }
 ],
 "metadata": {
  "kernelspec": {
   "display_name": "Python 3",
   "language": "python",
   "name": "python3"
  },
  "language_info": {
   "codemirror_mode": {
    "name": "ipython",
    "version": 3
   },
   "file_extension": ".py",
   "mimetype": "text/x-python",
   "name": "python",
   "nbconvert_exporter": "python",
   "pygments_lexer": "ipython3",
   "version": "3.12.3"
  }
 },
 "nbformat": 4,
 "nbformat_minor": 2
}
