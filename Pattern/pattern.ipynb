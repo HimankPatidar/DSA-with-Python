{
 "cells": [
  {
   "cell_type": "markdown",
   "metadata": {},
   "source": [
    "# Pattern"
   ]
  },
  {
   "attachments": {
    "image.png": {
     "image/png": "[encoded data removed]"
    }
   },
   "cell_type": "markdown",
   "metadata": {},
   "source": [
    "## Pattern 1\n",
    "![image.png](attachment:image.png)"
   ]
  },
  {
   "cell_type": "code",
   "execution_count": 4,
   "metadata": {},
   "outputs": [
    {
     "name": "stdout",
     "output_type": "stream",
     "text": [
      "* * * * * \n",
      "* * * * * \n",
      "* * * * * \n",
      "* * * * * \n",
      "* * * * * \n"
     ]
    }
   ],
   "source": [
    "for i in range(0,5):\n",
    "    for j in range(0,5):\n",
    "        print(\"* \",end=\"\")\n",
    "    print()"
   ]
  },
  {
   "attachments": {
    "image.png": {
     "image/png": "[encoded data removed]"
    }
   },
   "cell_type": "markdown",
   "metadata": {},
   "source": [
    "## Pattern 2\n",
    "![image.png](attachment:image.png)"
   ]
  },
  {
   "cell_type": "code",
   "execution_count": 6,
   "metadata": {},
   "outputs": [
    {
     "name": "stdout",
     "output_type": "stream",
     "text": [
      "* \n",
      "* * \n",
      "* * * \n",
      "* * * * \n",
      "* * * * * \n"
     ]
    }
   ],
   "source": [
    "for i in range(0,5):\n",
    "    for j in range(0,i+1):\n",
    "        print(\"* \", end=\"\")\n",
    "    print()"
   ]
  },
  {
   "cell_type": "code",
   "execution_count": 10,
   "metadata": {},
   "outputs": [
    {
     "name": "stdout",
     "output_type": "stream",
     "text": [
      "\n",
      "* \n",
      "* * \n",
      "* * * \n",
      "* * * * \n"
     ]
    }
   ],
   "source": [
    "for i in range(0,5):\n",
    "    for j in range(0,i):\n",
    "        print(\"* \", end=\"\")\n",
    "    print()"
   ]
  },
  {
   "cell_type": "code",
   "execution_count": 11,
   "metadata": {},
   "outputs": [
    {
     "name": "stdout",
     "output_type": "stream",
     "text": [
      "\n",
      "* \n",
      "* * \n",
      "* * * \n",
      "* * * * \n"
     ]
    }
   ],
   "source": [
    "for i in range(0,5):\n",
    "    for j in range(1,i+1):\n",
    "        print(\"* \", end=\"\")\n",
    "    print()"
   ]
  },
  {
   "attachments": {
    "image.png": {
     "image/png": "[encoded data removed]"
    }
   },
   "cell_type": "markdown",
   "metadata": {},
   "source": [
    "## Pattern 3\n",
    "![image.png](attachment:image.png)"
   ]
  },
  {
   "cell_type": "code",
   "execution_count": 14,
   "metadata": {},
   "outputs": [
    {
     "name": "stdout",
     "output_type": "stream",
     "text": [
      "\n",
      "\n",
      "1 \n",
      "1 2 \n",
      "1 2 3 \n"
     ]
    }
   ],
   "source": [
    "for i in range(0,5):\n",
    "    for j in range(1, i):\n",
    "        print(j, end=\" \")\n",
    "    print()"
   ]
  },
  {
   "attachments": {
    "image.png": {
     "image/png": "[encoded data removed]"
    }
   },
   "cell_type": "markdown",
   "metadata": {},
   "source": [
    "## Pattern 4\n",
    "![image.png](attachment:image.png)"
   ]
  },
  {
   "cell_type": "code",
   "execution_count": 17,
   "metadata": {},
   "outputs": [
    {
     "name": "stdout",
     "output_type": "stream",
     "text": [
      "\n",
      "1 \n",
      "2 2 \n",
      "3 3 3 \n",
      "4 4 4 4 \n"
     ]
    }
   ],
   "source": [
    "for i in range(0,5):\n",
    "    for j in range(0, i):\n",
    "        print(i, end=\" \")\n",
    "    print()"
   ]
  },
  {
   "attachments": {
    "image.png": {
     "image/png": "[encoded data removed]"
    }
   },
   "cell_type": "markdown",
   "metadata": {},
   "source": [
    "## Pattern 5\n",
    "![image.png](attachment:image.png)"
   ]
  },
  {
   "cell_type": "code",
   "execution_count": 20,
   "metadata": {},
   "outputs": [
    {
     "name": "stdout",
     "output_type": "stream",
     "text": [
      "* * * * * \n",
      "* * * * \n",
      "* * * \n",
      "* * \n",
      "* \n"
     ]
    }
   ],
   "source": [
    "for i in range(0,5):\n",
    "    for j in range(1, 5-i+1):\n",
    "        print('* ', end='')\n",
    "    print()    \n"
   ]
  },
  {
   "attachments": {
    "image.png": {
     "image/png": "[encoded data removed]"
    }
   },
   "cell_type": "markdown",
   "metadata": {},
   "source": [
    "## Pattern 6\n",
    "![image.png](attachment:image.png)"
   ]
  },
  {
   "cell_type": "code",
   "execution_count": 26,
   "metadata": {},
   "outputs": [
    {
     "name": "stdout",
     "output_type": "stream",
     "text": [
      "1 2 3 4 5 \n",
      "1 2 3 4 \n",
      "1 2 3 \n",
      "1 2 \n",
      "1 \n"
     ]
    }
   ],
   "source": [
    "for i in range(0,5):\n",
    "    for j in range(1, 5-i+1):\n",
    "        print(j, end=\" \")\n",
    "    print()"
   ]
  },
  {
   "attachments": {
    "image.png": {
     "image/png": "[encoded data removed]"
    }
   },
   "cell_type": "markdown",
   "metadata": {},
   "source": [
    "## Pattern 7\n",
    "![image.png](attachment:image.png)"
   ]
  },
  {
   "cell_type": "code",
   "execution_count": 31,
   "metadata": {},
   "outputs": [
    {
     "name": "stdout",
     "output_type": "stream",
     "text": [
      "    *      \n",
      "   *  *  *     \n",
      "  *  *  *  *  *    \n",
      " *  *  *  *  *  *  *   \n",
      "*  *  *  *  *  *  *  *  *  \n"
     ]
    }
   ],
   "source": [
    "for i in range(0,5):\n",
    "    # print spaces\n",
    "    for j in range(0,5-i-1):\n",
    "        print(\" \", end=\"\")\n",
    "    # print stars\n",
    "    for j in range(0,2*i+1):\n",
    "        print(\"* \", end=\" \")\n",
    "    #print Space\n",
    "    for j in range(0,5-i-1):\n",
    "        print(\" \", end=\"\")\n",
    "    print()\n"
   ]
  },
  {
   "cell_type": "code",
   "execution_count": 37,
   "metadata": {},
   "outputs": [
    {
     "name": "stdout",
     "output_type": "stream",
     "text": [
      "    *\n",
      "   ***\n",
      "  *****\n",
      " *******\n",
      "*********\n"
     ]
    }
   ],
   "source": [
    "class Solution:\n",
    "    def printTriangle(self, N):\n",
    "        for i in range(N):\n",
    "            # Create left padding and star pattern without extra spaces between stars.\n",
    "            row = \" \" * (N - i - 1) + \"*\" * (2 * i + 1)\n",
    "            print(row)\n",
    "\n",
    "# Example usage:\n",
    "sol = Solution()\n",
    "sol.printTriangle(5)\n"
   ]
  },
  {
   "cell_type": "code",
   "execution_count": 32,
   "metadata": {},
   "outputs": [
    {
     "name": "stdout",
     "output_type": "stream",
     "text": [
      "* * * * * \n",
      "* * * * \n",
      "* * * \n",
      "* * \n",
      "* \n"
     ]
    }
   ],
   "source": [
    "class Solution:\n",
    "    def printTriangle(self, N):\n",
    "        # Loop from 0 to N-1 (each row of the triangle)\n",
    "        for i in range(0, N):\n",
    "            # For each row, print (N - i) stars.\n",
    "            # Note: We use N (capital letter) instead of n because N is the parameter.\n",
    "            for j in range(1, N - i + 1):\n",
    "                print(\"*\", end=\" \")  # Print a star followed by a space, without moving to the next line\n",
    "            print()  # Move to the next line after printing all stars for the row\n",
    "\n",
    "# Example usage:\n",
    "sol = Solution()\n",
    "sol.printTriangle(5)\n"
   ]
  },
  {
   "attachments": {
    "image.png": {
     "image/png": "[encoded data removed]"
    }
   },
   "cell_type": "markdown",
   "metadata": {},
   "source": [
    "## Pattern 8\n",
    "![image.png](attachment:image.png)"
   ]
  },
  {
   "cell_type": "code",
   "execution_count": 38,
   "metadata": {},
   "outputs": [
    {
     "name": "stdout",
     "output_type": "stream",
     "text": [
      "*********\n",
      " *******\n",
      "  *****\n",
      "   ***\n",
      "    *\n"
     ]
    }
   ],
   "source": [
    "class Solution:\n",
    "    def printTriangle(self, N):\n",
    "        for i in range(N):\n",
    "            # Create left padding and star pattern without extra spaces between stars.\n",
    "            row = \" \" * (i)+ \"*\" * (2 * (N - i) - 1)\n",
    "            print(row)\n",
    "\n",
    "# Example usage:\n",
    "sol = Solution()\n",
    "sol.printTriangle(5)\n"
   ]
  },
  {
   "attachments": {
    "image.png": {
     "image/png": "[encoded data removed]"
    }
   },
   "cell_type": "markdown",
   "metadata": {},
   "source": [
    "## Pattern 9\n",
    "![image.png](attachment:image.png)"
   ]
  },
  {
   "cell_type": "code",
   "execution_count": 2,
   "metadata": {},
   "outputs": [
    {
     "name": "stdout",
     "output_type": "stream",
     "text": [
      "    *\n",
      "   ***\n",
      "  *****\n",
      " *******\n",
      "*********\n",
      "*********\n",
      " *******\n",
      "  *****\n",
      "   ***\n",
      "    *\n"
     ]
    }
   ],
   "source": [
    "N=5\n",
    "for j in range(N):\n",
    "    upper = \" \" * (N - j - 1) + \"*\" * (2 * j + 1)\n",
    "    print(upper)\n",
    "\n",
    "for i in range(N):\n",
    "    # Create left padding and star pattern without extra spaces between stars.\n",
    "    row = \" \" * (i)+ \"*\" * (2 * (N - i) - 1)\n",
    "    print(row)\n"
   ]
  },
  {
   "attachments": {
    "image.png": {
     "image/png": "[encoded data removed]"
    }
   },
   "cell_type": "markdown",
   "metadata": {},
   "source": [
    "## Pattern 10\n",
    "![image.png](attachment:image.png)"
   ]
  },
  {
   "cell_type": "code",
   "execution_count": 8,
   "metadata": {},
   "outputs": [
    {
     "name": "stdout",
     "output_type": "stream",
     "text": [
      "*     \n",
      "**    \n",
      "***   \n",
      "****  \n",
      "***** \n",
      "****  \n",
      "***   \n",
      "**    \n",
      "*     \n",
      "      \n"
     ]
    }
   ],
   "source": [
    "n =6\n",
    "\n",
    "for i in range(1, 2*n-1):\n",
    "    stars = i if i < n else 2*n-i-2\n",
    "    spaces = n-stars\n",
    "    print( \"*\"*stars + \" \"*spaces)\n",
    "    \n",
    "    "
   ]
  },
  {
   "cell_type": "code",
   "execution_count": null,
   "metadata": {},
   "outputs": [
    {
     "name": "stdout",
     "output_type": "stream",
     "text": [
      "*\n",
      "* *\n",
      "* * *\n",
      "* * * *\n",
      "* * * * *\n",
      "* * * *\n",
      "* * *\n",
      "* *\n",
      "*\n"
     ]
    }
   ],
   "source": [
    "for i in range(1, n + 1):\n",
    "    # (\"* \" * i) produces a string with i stars, each followed by a space.\n",
    "    # rstrip() removes the trailing space.\n",
    "    print((\"* \" * i).rstrip())\n",
    "    \n",
    "# Print the lower half of the diamond (n-1 down to 1 star)\n",
    "for i in range(n - 1, 0, -1):\n",
    "    print((\"* \" * i).rstrip())"
   ]
  },
  {
   "attachments": {
    "image.png": {
     "image/png": "[encoded data removed]"
    }
   },
   "cell_type": "markdown",
   "metadata": {},
   "source": [
    "# Pattern 11\n",
    "![image.png](attachment:image.png)"
   ]
  },
  {
   "cell_type": "code",
   "execution_count": 17,
   "metadata": {},
   "outputs": [
    {
     "name": "stdout",
     "output_type": "stream",
     "text": [
      "\n",
      "1 \n",
      "0 1 \n",
      "1 0 1 \n",
      "0 1 0 1 \n",
      "1 0 1 0 1 \n",
      "0 1 0 1 0 1 \n"
     ]
    }
   ],
   "source": [
    "N =8\n",
    "start = 1\n",
    "\n",
    "for i in range(1, N):\n",
    "    if i %2==0:\n",
    "        start = 1\n",
    "    else :\n",
    "        start = 0\n",
    "    for j in range(1, i):\n",
    "        print(start, end=\" \")\n",
    "        start = 1 - start\n",
    "    print()\n"
   ]
  },
  {
   "attachments": {
    "image.png": {
     "image/png": "[encoded data removed]"
    }
   },
   "cell_type": "markdown",
   "metadata": {},
   "source": [
    "## Pattern 12\n",
    "![image.png](attachment:image.png)"
   ]
  },
  {
   "cell_type": "code",
   "execution_count": null,
   "metadata": {},
   "outputs": [
    {
     "name": "stdout",
     "output_type": "stream",
     "text": [
      "1             1 \n",
      "1 2         2 1 \n",
      "1 2 3     3 2 1 \n",
      "1 2 3 4 4 3 2 1 \n"
     ]
    }
   ],
   "source": [
    "# Example: Create a symmetric number pattern (diamond-like) for n rows\n",
    "\n",
    "n = int(input(\"Enter n: \"))  # For example, 5\n",
    "\n",
    "for i in range(1, n + 1):\n",
    "    # Left side: print numbers from 1 to i\n",
    "    for j in range(1, i + 1):\n",
    "        print(j, end=\" \")\n",
    "    \n",
    "    # Middle: print spaces. Here we print 2*(n-i) spaces (each space printed with end=\"  \")\n",
    "    for k in range(2 * (n - i)):\n",
    "        print(\" \", end=\" \")\n",
    "    \n",
    "    # Right side: print numbers in reverse order from i to 1\n",
    "    for j in range(i, 0, -1):\n",
    "        print(j, end=\" \")\n",
    "    \n",
    "    # Move to the next line after completing the row\n",
    "    print()\n"
   ]
  },
  {
   "attachments": {
    "image.png": {
     "image/png": "[encoded data removed]"
    }
   },
   "cell_type": "markdown",
   "metadata": {},
   "source": [
    "## Pattern 13\n",
    "![image.png](attachment:image.png)"
   ]
  },
  {
   "cell_type": "code",
   "execution_count": 55,
   "metadata": {},
   "outputs": [
    {
     "name": "stdout",
     "output_type": "stream",
     "text": [
      "\n",
      "1 \n",
      "2 3 \n",
      "4 5 6 \n",
      "7 8 9 10 \n",
      "11 12 13 14 15 \n"
     ]
    }
   ],
   "source": [
    "num = 1\n",
    "n = 7\n",
    "for i in range(1,n):\n",
    "    for j in range(1, i):\n",
    "        print(num, end=\" \")\n",
    "        num = num + 1\n",
    "    print()"
   ]
  },
  {
   "attachments": {
    "image.png": {
     "image/png": "[encoded data removed]"
    }
   },
   "cell_type": "markdown",
   "metadata": {},
   "source": [
    "## Pattern 14\n",
    "![image.png](attachment:image.png)"
   ]
  },
  {
   "cell_type": "code",
   "execution_count": null,
   "metadata": {},
   "outputs": [
    {
     "name": "stdout",
     "output_type": "stream",
     "text": [
      "A \n",
      "A B \n",
      "A B C \n",
      "A B C D \n",
      "A B C D E \n"
     ]
    }
   ],
   "source": [
    "n = int(input(\"Enter n: \"))\n",
    "\n",
    "for i in range(n):\n",
    "    for ch in range(ord('A'), ord('A') + i + 1):\n",
    "        print(chr(ch), end=\" \")\n",
    "    print()  # Move to the next line after printing each row\n"
   ]
  },
  {
   "cell_type": "code",
   "execution_count": 57,
   "metadata": {},
   "outputs": [
    {
     "name": "stdout",
     "output_type": "stream",
     "text": [
      "A B C D \n",
      "A B C \n",
      "A B \n",
      "A \n",
      "\n"
     ]
    }
   ],
   "source": [
    "n = int(input(\"Enter n: \"))\n",
    "\n",
    "for i in range(n):\n",
    "    for ch in range(ord('A'), ord('A') + n -i -1):\n",
    "        print(chr(ch), end=\" \")\n",
    "    print() "
   ]
  },
  {
   "cell_type": "code",
   "execution_count": 58,
   "metadata": {},
   "outputs": [
    {
     "name": "stdout",
     "output_type": "stream",
     "text": [
      "    A    \n",
      "   ABA   \n",
      "  ABCBA  \n",
      " ABCDCBA \n",
      "ABCDEDCBA\n"
     ]
    }
   ],
   "source": [
    "def pattern17(N):\n",
    "    for i in range(N):\n",
    "        # Calculate leading/trailing spaces\n",
    "        spaces = ' ' * (N - i - 1)\n",
    "        \n",
    "        # Generate the character sequence\n",
    "        char_part = []\n",
    "        ch = ord('A')  # Start with 'A'\n",
    "        breakpoint = (2 * i + 1) // 2\n",
    "        \n",
    "        for j in range(1, 2 * i + 2):\n",
    "            char_part.append(chr(ch))\n",
    "            if j <= breakpoint:\n",
    "                ch += 1  # Increment character until breakpoint\n",
    "            else:\n",
    "                ch -= 1  # Decrement after breakpoint\n",
    "        \n",
    "        # Combine all parts and print\n",
    "        print(spaces + ''.join(char_part) + spaces)\n",
    "\n",
    "# Test with N = 5\n",
    "pattern17(5)"
   ]
  },
  {
   "cell_type": "code",
   "execution_count": 59,
   "metadata": {},
   "outputs": [
    {
     "name": "stdout",
     "output_type": "stream",
     "text": [
      "**********\n",
      "****  ****\n",
      "***    ***\n",
      "**      **\n",
      "*        *\n",
      "*        *\n",
      "**      **\n",
      "***    ***\n",
      "****  ****\n",
      "**********\n"
     ]
    }
   ],
   "source": [
    "def pattern19(N):\n",
    "    # Upper half of the pattern\n",
    "    iniS = 0\n",
    "    for i in range(N):\n",
    "        stars = N - i\n",
    "        print(\"*\" * stars + \" \" * iniS + \"*\" * stars)\n",
    "        iniS += 2\n",
    "\n",
    "    # Lower half of the pattern\n",
    "    iniS = 2 * N - 2\n",
    "    for i in range(1, N + 1):\n",
    "        print(\"*\" * i + \" \" * iniS + \"*\" * i)\n",
    "        iniS -= 2\n",
    "\n",
    "# Test with N = 5\n",
    "pattern19(5)"
   ]
  },
  {
   "cell_type": "code",
   "execution_count": 60,
   "metadata": {},
   "outputs": [
    {
     "name": "stdout",
     "output_type": "stream",
     "text": [
      "*        *\n",
      "**      **\n",
      "***    ***\n",
      "****  ****\n",
      "**********\n",
      "****  ****\n",
      "***    ***\n",
      "**      **\n",
      "*        *\n"
     ]
    }
   ],
   "source": [
    "def pattern20(n):\n",
    "    spaces = 2 * n - 2  # Initial space count\n",
    "    \n",
    "    for i in range(1, 2 * n):  # Loop from 1 to 2n-1 (inclusive)\n",
    "        # Determine number of stars for this row\n",
    "        stars = i if i <= n else 2 * n - i\n",
    "        \n",
    "        # Create the pattern line\n",
    "        line = '*' * stars + ' ' * spaces + '*' * stars\n",
    "        print(line)\n",
    "        \n",
    "        # Update spaces for next row\n",
    "        if i < n:\n",
    "            spaces -= 2  # Decrease spaces in upper half\n",
    "        else:\n",
    "            spaces += 2  # Increase spaces in lower half\n",
    "\n",
    "# Test with N = 5\n",
    "pattern20(5)"
   ]
  },
  {
   "cell_type": "code",
   "execution_count": 62,
   "metadata": {},
   "outputs": [
    {
     "name": "stdout",
     "output_type": "stream",
     "text": [
      "5 5 5 5 5 5 5 5 5\n",
      "5 4 4 4 4 4 4 4 5\n",
      "5 4 3 3 3 3 3 4 5\n",
      "5 4 3 2 2 2 3 4 5\n",
      "5 4 3 2 1 2 3 4 5\n",
      "5 4 3 2 2 2 3 4 5\n",
      "5 4 3 3 3 3 3 4 5\n",
      "5 4 4 4 4 4 4 4 5\n",
      "5 5 5 5 5 5 5 5 5\n"
     ]
    }
   ],
   "source": [
    "def pattern22_fixed(n):\n",
    "    size = 2 * n - 1\n",
    "    for i in range(size):\n",
    "        row = []\n",
    "        for j in range(size):\n",
    "            # Correct distance calculations\n",
    "            top = i\n",
    "            bottom = (size - 1) - i\n",
    "            left = j\n",
    "            right = (size - 1) - j\n",
    "            \n",
    "            min_dist = min(top, bottom, left, right)\n",
    "            row.append(str(n - min_dist))\n",
    "        print(' '.join(row))\n",
    "\n",
    "\n",
    "# Test with N = 5\n",
    "pattern22_fixed(5)\n"
   ]
  },
  {
   "cell_type": "code",
   "execution_count": 63,
   "metadata": {},
   "outputs": [
    {
     "name": "stdout",
     "output_type": "stream",
     "text": [
      "*****\n",
      "*   *\n",
      "*   *\n",
      "*   *\n",
      "*****\n"
     ]
    }
   ],
   "source": [
    "def pattern21(n):\n",
    "    for i in range(n):\n",
    "        # Create a row string\n",
    "        row = \"\"\n",
    "        for j in range(n):\n",
    "            # Check if current position is at the border\n",
    "            if i == 0 or i == n-1 or j == 0 or j == n-1:\n",
    "                row += \"*\"\n",
    "            else:\n",
    "                row += \" \"\n",
    "        print(row)\n",
    "\n",
    "# Test with N = 5\n",
    "pattern21(5)"
   ]
  }
 ],
 "metadata": {
  "kernelspec": {
   "display_name": "Python 3",
   "language": "python",
   "name": "python3"
  },
  "language_info": {
   "codemirror_mode": {
    "name": "ipython",
    "version": 3
   },
   "file_extension": ".py",
   "mimetype": "text/x-python",
   "name": "python",
   "nbconvert_exporter": "python",
   "pygments_lexer": "ipython3",
   "version": "3.12.3"
  }
 },
 "nbformat": 4,
 "nbformat_minor": 2
}
