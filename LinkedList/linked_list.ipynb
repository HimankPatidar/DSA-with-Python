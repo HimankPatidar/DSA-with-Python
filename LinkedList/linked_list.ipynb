{
 "cells": [
  {
   "cell_type": "code",
   "execution_count": 5,
   "metadata": {},
   "outputs": [],
   "source": [
    "# Singly Linked Lists\n",
    "\n",
    "class Node:\n",
    "    def __init__(self, val, next=None):\n",
    "        self.val = val\n",
    "        self.next = next\n",
    "\n",
    "    def __str__(self):\n",
    "        return str(self.val)\n",
    "    "
   ]
  },
  {
   "cell_type": "code",
   "execution_count": 6,
   "metadata": {},
   "outputs": [
    {
     "name": "stdout",
     "output_type": "stream",
     "text": [
      "1\n"
     ]
    }
   ],
   "source": [
    "Head = Node(1)\n",
    "A = Node(3)\n",
    "B = Node(4)\n",
    "C = Node(7)\n",
    "\n",
    "Head.next = A\n",
    "A.next = B\n",
    "B.next = C\n",
    "\n",
    "print(Head)"
   ]
  },
  {
   "cell_type": "code",
   "execution_count": 7,
   "metadata": {},
   "outputs": [
    {
     "name": "stdout",
     "output_type": "stream",
     "text": [
      "1\n",
      "3\n",
      "4\n",
      "7\n"
     ]
    }
   ],
   "source": [
    "# Travese the list -- O(n)\n",
    "\n",
    "curr = Head\n",
    "\n",
    "while curr:\n",
    "    print(curr)\n",
    "    curr = curr.next"
   ]
  },
  {
   "cell_type": "code",
   "execution_count": 8,
   "metadata": {},
   "outputs": [
    {
     "name": "stdout",
     "output_type": "stream",
     "text": [
      "1 -> 3 -> 4 -> 7\n"
     ]
    }
   ],
   "source": [
    "# Display linked Lit\n",
    "\n",
    "def display(head):\n",
    "    curr = head\n",
    "    elements = []\n",
    "    while curr:\n",
    "        elements.append(str(curr.val))\n",
    "        curr = curr.next\n",
    "    print(' -> '.join(elements))\n",
    "\n",
    "\n",
    "display(Head)"
   ]
  },
  {
   "cell_type": "code",
   "execution_count": 9,
   "metadata": {},
   "outputs": [
    {
     "data": {
      "text/plain": [
       "False"
      ]
     },
     "execution_count": 9,
     "metadata": {},
     "output_type": "execute_result"
    }
   ],
   "source": [
    "# Search for Node Value -- O(n)\n",
    "\n",
    "def search(head, val):\n",
    "    curr = head\n",
    "    while curr:\n",
    "        if val == curr.val:\n",
    "            return True\n",
    "        curr = curr.next\n",
    "\n",
    "    return False\n",
    "\n",
    "search(Head, 2)"
   ]
  },
  {
   "cell_type": "code",
   "execution_count": 10,
   "metadata": {},
   "outputs": [],
   "source": [
    "class Node:\n",
    "    def __init__(self, data, next = None):\n",
    "        self.data = data\n",
    "        self.next = next"
   ]
  },
  {
   "cell_type": "code",
   "execution_count": 11,
   "metadata": {},
   "outputs": [],
   "source": [
    "def printList(head):\n",
    "    while head:\n",
    "        print(head.data, end=\" \")\n",
    "        head = head.next\n",
    "    print()"
   ]
  },
  {
   "cell_type": "code",
   "execution_count": 12,
   "metadata": {},
   "outputs": [],
   "source": [
    "arr = [2,5,8,7,12,9,6,4]\n"
   ]
  },
  {
   "cell_type": "code",
   "execution_count": 13,
   "metadata": {},
   "outputs": [],
   "source": [
    "# Convert Array to Linked List\n",
    "\n",
    "def converArrToLL(arr):\n",
    "    if not arr:\n",
    "        return None\n",
    "    head = Node(arr[0])\n",
    "    mover = head\n",
    "    for val in arr[1:]:\n",
    "        mover.next = Node(val)\n",
    "        mover = mover.next\n",
    "    return head"
   ]
  },
  {
   "cell_type": "code",
   "execution_count": 14,
   "metadata": {},
   "outputs": [],
   "source": [
    "arr = [2,5,8,7,12,9,6,4]\n",
    "head = converArrToLL(arr)\n"
   ]
  },
  {
   "cell_type": "code",
   "execution_count": 15,
   "metadata": {},
   "outputs": [],
   "source": [
    "# Length of Linked List\n",
    "\n",
    "def lengthOfLL(head):\n",
    "    count = 0\n",
    "    while head:\n",
    "        count += 1\n",
    "        head = head.next\n",
    "    return count"
   ]
  },
  {
   "cell_type": "code",
   "execution_count": 16,
   "metadata": {},
   "outputs": [],
   "source": [
    "# Check if Value is Present\n",
    "\n",
    "def checkIfPresent(head, val):\n",
    "    while head:\n",
    "        if head.data == val:\n",
    "            return True\n",
    "        head = head.next\n",
    "    return False\n"
   ]
  },
  {
   "cell_type": "code",
   "execution_count": 17,
   "metadata": {},
   "outputs": [
    {
     "name": "stdout",
     "output_type": "stream",
     "text": [
      "Is 30 Present ?  False\n",
      "Is 7 Present ?  True\n"
     ]
    }
   ],
   "source": [
    "print(\"Is 30 Present ? \", checkIfPresent(head,30))\n",
    "print(\"Is 7 Present ? \", checkIfPresent(head,7))\n"
   ]
  },
  {
   "cell_type": "code",
   "execution_count": 18,
   "metadata": {},
   "outputs": [
    {
     "name": "stdout",
     "output_type": "stream",
     "text": [
      "5 8 7 12 9 6 4 \n"
     ]
    }
   ],
   "source": [
    "def removeHead(head):\n",
    "    if head is None:\n",
    "        return None\n",
    "    temp = head\n",
    "    head = head.next\n",
    "    del temp\n",
    "    return head\n",
    "\n",
    "head = removeHead(head)\n",
    "printList(head)\n",
    "\n",
    "\n"
   ]
  },
  {
   "cell_type": "code",
   "execution_count": 19,
   "metadata": {},
   "outputs": [],
   "source": [
    "# Delete From ENd\n",
    "def delete_from_end(head):\n",
    "    if head is None or head.next is None:\n",
    "        return None\n",
    "    temp = head\n",
    "    while temp.next.next is not None:\n",
    "        temp = temp.next\n",
    "    temp.next = None\n",
    "    return head"
   ]
  },
  {
   "cell_type": "code",
   "execution_count": 20,
   "metadata": {},
   "outputs": [],
   "source": [
    "# delete From Kth position (1-based)\n",
    "\n",
    "def deleteFromK(head, k):\n",
    "    if head is None:\n",
    "        return None\n",
    "    if k ==1:\n",
    "        return head.next\n",
    "    \n",
    "    temp = head\n",
    "    count = 1\n",
    "    while temp and count < k -1:\n",
    "        temp = temp.next\n",
    "        count += 1\n",
    "    if temp and temp.next:\n",
    "        temp.next = temp.next.next\n",
    "    return head\n",
    "\n"
   ]
  },
  {
   "cell_type": "code",
   "execution_count": 21,
   "metadata": {},
   "outputs": [],
   "source": [
    "# Delete Element By Value\n",
    "\n",
    "def deleteElement(head, el):\n",
    "    if head is None:\n",
    "        return None\n",
    "    \n",
    "    if head.data == el:\n",
    "        return head.next\n",
    "    prev = None\n",
    "    curr = head\n",
    "    while curr:\n",
    "        if curr.data == el:\n",
    "            prev.next = curr.next\n",
    "            break\n",
    "        prev = curr\n",
    "        curr = curr.next\n",
    "    return head\n"
   ]
  },
  {
   "cell_type": "code",
   "execution_count": 22,
   "metadata": {},
   "outputs": [],
   "source": [
    "# Insert At Beginning\n",
    "\n",
    "def insertAtBeg(head, val):\n",
    "    return Node(val, head)\n"
   ]
  },
  {
   "cell_type": "code",
   "execution_count": 23,
   "metadata": {},
   "outputs": [],
   "source": [
    "def insertAtEnd(head, val):\n",
    "    if head is None:\n",
    "        return Node(val)\n",
    "    \n",
    "    temp = head\n",
    "    while temp.next:\n",
    "        temp = temp.next\n",
    "    temp.next = Node(val)\n",
    "    return head"
   ]
  },
  {
   "cell_type": "code",
   "execution_count": 24,
   "metadata": {},
   "outputs": [],
   "source": [
    "def insertAtK(head, el, k):\n",
    "    if k < 1:\n",
    "        print(\"Invalid position: k must be ≥ 1.\")\n",
    "        return head\n",
    "    \n",
    "    # Insert at head (position 1)\n",
    "    if k == 1:\n",
    "        return Node(el, head)\n",
    "    \n",
    "    # Traverse to (k-1)-th node\n",
    "    temp = head\n",
    "    for _ in range(k - 2):\n",
    "        if temp is None:\n",
    "            break\n",
    "        temp = temp.next\n",
    "    \n",
    "    # Validate position\n",
    "    if temp is None:\n",
    "        print(f\"Position {k} is out of bounds.\")\n",
    "        return head\n",
    "    \n",
    "    # Insert new node\n",
    "    new_node = Node(el, temp.next)\n",
    "    temp.next = new_node\n",
    "    return head"
   ]
  },
  {
   "cell_type": "code",
   "execution_count": 25,
   "metadata": {},
   "outputs": [],
   "source": [
    "# Insert Before A Value\n",
    "\n",
    "def insertBeforeValue(head, el, val):\n",
    "    if head is None:\n",
    "        return None\n",
    "    \n",
    "    if head.data == val:\n",
    "        return Node(el, head)\n",
    "    temp = head\n",
    "    while temp.next:\n",
    "        if temp.next.data == val:\n",
    "            new_Node = Node(el, temp.next)\n",
    "            temp.next = new_Node\n",
    "            return head\n",
    "        temp = temp.next\n",
    "    print(\"Not Found\")\n",
    "    return head\n"
   ]
  },
  {
   "cell_type": "code",
   "execution_count": 26,
   "metadata": {},
   "outputs": [
    {
     "name": "stdout",
     "output_type": "stream",
     "text": [
      "Original list:\n",
      "2 5 8 7 12 9 6 4 \n"
     ]
    }
   ],
   "source": [
    "arr = [2, 5, 8, 7, 12, 9, 6, 4]\n",
    "head = converArrToLL(arr)\n",
    "print(\"Original list:\")\n",
    "printList(head)\n"
   ]
  },
  {
   "cell_type": "code",
   "execution_count": 27,
   "metadata": {},
   "outputs": [
    {
     "name": "stdout",
     "output_type": "stream",
     "text": [
      "\n",
      "Insert 100 at begining : \n",
      "100 2 5 8 7 12 9 6 4 \n"
     ]
    }
   ],
   "source": [
    "print(\"\\nInsert 100 at begining : \")\n",
    "head = insertAtBeg(head, 100)\n",
    "printList(head)\n"
   ]
  },
  {
   "cell_type": "code",
   "execution_count": 28,
   "metadata": {},
   "outputs": [
    {
     "name": "stdout",
     "output_type": "stream",
     "text": [
      "\n",
      "Insert 200 At END : \n",
      "100 2 5 8 7 12 9 6 4 200 \n"
     ]
    }
   ],
   "source": [
    "print(\"\\nInsert 200 At END : \")\n",
    "head = insertAtEnd(head, 200)\n",
    "printList(head)"
   ]
  },
  {
   "cell_type": "code",
   "execution_count": 29,
   "metadata": {},
   "outputs": [
    {
     "name": "stdout",
     "output_type": "stream",
     "text": [
      "\n",
      "Insert 300 at position 4:\n",
      "100 2 5 300 8 7 12 9 6 4 200 \n"
     ]
    }
   ],
   "source": [
    "print(\"\\nInsert 300 at position 4:\")\n",
    "head = insertAtK(head, 300, 4)\n",
    "printList(head)\n"
   ]
  },
  {
   "cell_type": "code",
   "execution_count": 30,
   "metadata": {},
   "outputs": [
    {
     "name": "stdout",
     "output_type": "stream",
     "text": [
      "\n",
      "Insert 500 before Value : 9\n",
      "100 2 5 300 8 7 12 500 9 6 4 200 \n"
     ]
    }
   ],
   "source": [
    "print(\"\\nInsert 500 before Value : 9\")\n",
    "head = insertBeforeValue(head, 500, 9)\n",
    "printList(head)"
   ]
  },
  {
   "cell_type": "code",
   "execution_count": 31,
   "metadata": {},
   "outputs": [
    {
     "name": "stdout",
     "output_type": "stream",
     "text": [
      "\n",
      "Length of Linked List:\n",
      "12\n"
     ]
    }
   ],
   "source": [
    "print(\"\\nLength of Linked List:\")\n",
    "print(lengthOfLL(head))\n"
   ]
  },
  {
   "cell_type": "code",
   "execution_count": 32,
   "metadata": {},
   "outputs": [
    {
     "name": "stdout",
     "output_type": "stream",
     "text": [
      "\n",
      "Check if 12 is present:\n",
      "Yes\n"
     ]
    }
   ],
   "source": [
    "print(\"\\nCheck if 12 is present:\")\n",
    "print(\"Yes\" if checkIfPresent(head, 12) else \"No\")\n"
   ]
  },
  {
   "cell_type": "code",
   "execution_count": 33,
   "metadata": {},
   "outputs": [
    {
     "name": "stdout",
     "output_type": "stream",
     "text": [
      "\n",
      "Delete Head : \n",
      "2 5 300 8 7 12 500 9 6 4 200 \n"
     ]
    }
   ],
   "source": [
    "print(\"\\nDelete Head : \")\n",
    "head = removeHead(head)\n",
    "printList(head)"
   ]
  },
  {
   "cell_type": "code",
   "execution_count": 34,
   "metadata": {},
   "outputs": [
    {
     "name": "stdout",
     "output_type": "stream",
     "text": [
      "\n",
      "Delete Last node: \n",
      "2 5 300 8 7 12 500 9 6 4 \n"
     ]
    }
   ],
   "source": [
    "print(\"\\nDelete Last node: \")\n",
    "head =  delete_from_end(head)\n",
    "printList(head)"
   ]
  },
  {
   "cell_type": "code",
   "execution_count": 35,
   "metadata": {},
   "outputs": [
    {
     "name": "stdout",
     "output_type": "stream",
     "text": [
      "\n",
      "Delete 4th Node: \n",
      "2 5 300 7 12 500 9 6 4 \n"
     ]
    }
   ],
   "source": [
    "print(\"\\nDelete 4th Node: \")\n",
    "head = deleteFromK(head, 4)\n",
    "printList(head)"
   ]
  },
  {
   "cell_type": "code",
   "execution_count": 36,
   "metadata": {},
   "outputs": [
    {
     "name": "stdout",
     "output_type": "stream",
     "text": [
      "\n",
      "Delete node with value 500:\n",
      "2 5 300 7 12 9 6 4 \n"
     ]
    }
   ],
   "source": [
    "print(\"\\nDelete node with value 500:\")\n",
    "head = deleteElement(head, 500)\n",
    "printList(head)\n"
   ]
  },
  {
   "cell_type": "code",
   "execution_count": 37,
   "metadata": {},
   "outputs": [],
   "source": [
    "def find_middle(head):\n",
    "    slow = head\n",
    "    fast = head\n",
    "    while fast and fast.next and slow:\n",
    "        fast = fast.next.next\n",
    "        slow = slow.next\n",
    "\n",
    "    return slow"
   ]
  },
  {
   "cell_type": "code",
   "execution_count": 38,
   "metadata": {},
   "outputs": [],
   "source": [
    "def countNodesInLoop(head):\n",
    "    if head is None:\n",
    "        return 0\n",
    "    \n",
    "    slow = head\n",
    "    fast = head\n",
    "\n",
    "    while fast and fast.next:\n",
    "        slow = slow.next\n",
    "        fast = fast.next.next\n",
    "        if slow == fast:\n",
    "            count = 1\n",
    "            temp = slow.next\n",
    "            while temp!=slow:\n",
    "                count += 1\n",
    "                temp = temp.next\n",
    "            return count\n",
    "    return 0"
   ]
  },
  {
   "cell_type": "code",
   "execution_count": null,
   "metadata": {},
   "outputs": [],
   "source": []
  },
  {
   "cell_type": "code",
   "execution_count": null,
   "metadata": {},
   "outputs": [
    {
     "name": "stdout",
     "output_type": "stream",
     "text": [
      "Original list:\n",
      "1 -> 2 -> 3 -> 4 -> 5 -> None\n",
      "Rotated list:\n",
      "4 -> 5 -> 1 -> 2 -> 3 -> None\n"
     ]
    }
   ],
   "source": [
    "def rotateRight(head, k):\n",
    "    if not head or not head.next or k == 0:\n",
    "        return head\n",
    "\n",
    "    # Step 1: Find the length of the linked list\n",
    "    length = 1\n",
    "    tail = head\n",
    "    while tail.next:\n",
    "        tail = tail.next\n",
    "        length += 1\n",
    "\n",
    "    # Step 2: Make it circular\n",
    "    tail.next = head\n",
    "\n",
    "    # Step 3: Find new head and break the circle\n",
    "    k = k % length  # Handle cases where k is greater than length\n",
    "    new_tail = length - k \n",
    "    current = head\n",
    "    for _ in range(new_tail - 1):\n",
    "        current = current.next\n",
    "\n",
    "    new_head = current.next\n",
    "    current.next = None  # 🔥 Important: Break the circle\n",
    "\n",
    "    return new_head\n",
    "\n",
    "\n",
    "\n",
    "arr = [1, 2, 3, 4, 5]\n",
    "head = converArrToLL(arr)\n",
    "print(\"Original list:\")\n",
    "printList(head)\n",
    "\n",
    "print(\"Rotated list:\")\n",
    "k = 2\n",
    "head = rotateRight(head, k)\n",
    "printList(head)\n",
    "\n"
   ]
  },
  {
   "cell_type": "code",
   "execution_count": null,
   "metadata": {},
   "outputs": [
    {
     "name": "stdout",
     "output_type": "stream",
     "text": [
      "Original Linked List:\n",
      "3 2 5 4 1 6 \n",
      "Sorted Linked List:\n",
      "1 2 3 4 5 6 \n"
     ]
    },
    {
     "ename": "",
     "evalue": "",
     "output_type": "error",
     "traceback": [
      "\u001b[1;31mThe Kernel crashed while executing code in the current cell or a previous cell. \n",
      "\u001b[1;31mPlease review the code in the cell(s) to identify a possible cause of the failure. \n",
      "\u001b[1;31mClick <a href='https://aka.ms/vscodeJupyterKernelCrash'>here</a> for more info. \n",
      "\u001b[1;31mView Jupyter <a href='command:jupyter.viewOutput'>log</a> for further details."
     ]
    }
   ],
   "source": [
    "def mergeTwoSortedLinkedList(list1, list2):\n",
    "    dummyNode = Node(-1)\n",
    "    temp = dummyNode\n",
    "\n",
    "    while list1 is not None and list2 is not None:\n",
    "        if list1.data < list2.data:\n",
    "            temp.next = list1\n",
    "            list1 = list1.next\n",
    "        else:\n",
    "            temp.next = list2\n",
    "            list2 = list2.next\n",
    "\n",
    "        temp = temp.next\n",
    "    \n",
    "    if list1 is not None:\n",
    "        temp.next = list1\n",
    "    else:\n",
    "        temp.next = list2\n",
    "\n",
    "    return dummyNode.next\n",
    "\n",
    "\n",
    "def find_middle(head):\n",
    "    if head is None or head.next is None:\n",
    "        return head\n",
    "    \n",
    "    slow = head\n",
    "    fast = head.next\n",
    "\n",
    "    while fast is not None and fast.next is not None:\n",
    "        slow  = slow.next\n",
    "        fast = fast.next.next\n",
    "    \n",
    "    return slow\n",
    "\n",
    "def sortLL(head):\n",
    "    if head is None or head.next is None:\n",
    "        return head\n",
    "    \n",
    "    middle = find_middle(head)\n",
    "\n",
    "    right = middle.next\n",
    "    middle.next = None\n",
    "    left = head\n",
    "\n",
    "    left = sortLL(left)\n",
    "    right = sortLL(right)\n",
    "\n",
    "    return mergeTwoSortedLinkedList(left, right)\n",
    "\n",
    "\n",
    "def printLinkedList(head):\n",
    "    temp = head\n",
    "    while temp is not None:\n",
    "        print(temp.data, end=\" \")\n",
    "        temp = temp.next\n",
    "\n",
    "    print()\n",
    "\n",
    "\n",
    "head = Node(3)\n",
    "head.next = Node(2)\n",
    "head.next.next = Node(5)\n",
    "head.next.next.next = Node(4)\n",
    "head.next.next.next.next = Node(1)\n",
    "head.next.next.next.next.next = Node(6)\n",
    "\n",
    "print(\"Original Linked List:\")\n",
    "printLinkedList(head)\n",
    "\n",
    "head = sortLL(head)\n",
    "print(\"Sorted Linked List:\")\n",
    "printLinkedList(head)"
   ]
  },
  {
   "cell_type": "code",
   "execution_count": null,
   "metadata": {},
   "outputs": [],
   "source": [
    "# Definition for singly-linked list.\n",
    "# class ListNode:\n",
    "#     def __init__(self, val=0, next=None):\n",
    "#         self.val = val\n",
    "#         self.next = next\n",
    "\n",
    "class Solution:\n",
    "    def mergeTwoLists(self, l1, l2):\n",
    "        dummy = ListNode(-1)\n",
    "        temp = dummy\n",
    "\n",
    "        while l1 and l2:\n",
    "            if l1.val < l2.val:\n",
    "                temp.next = l1\n",
    "                l1 = l1.next\n",
    "            else:\n",
    "                temp.next = l2\n",
    "                l2 = l2.next\n",
    "            temp = temp.next\n",
    "\n",
    "        temp.next = l1 if l1 else l2\n",
    "        return dummy.next\n",
    "\n",
    "    def findMiddle(self, head):\n",
    "        slow = head\n",
    "        fast = head.next\n",
    "\n",
    "        while fast and fast.next:\n",
    "            slow = slow.next\n",
    "            fast = fast.next.next\n",
    "\n",
    "        return slow\n",
    "\n",
    "    def sortList(self, head: Optional[ListNode]) -> Optional[ListNode]:\n",
    "        if not head or not head.next:\n",
    "            return head\n",
    "\n",
    "        mid = self.findMiddle(head)\n",
    "        right = mid.next\n",
    "        mid.next = None\n",
    "        left = head\n",
    "\n",
    "        sorted_left = self.sortList(left)\n",
    "        sorted_right = self.sortList(right)\n",
    "\n",
    "        return self.mergeTwoLists(sorted_left, sorted_right)\n"
   ]
  },
  {
   "cell_type": "code",
   "execution_count": null,
   "metadata": {},
   "outputs": [],
   "source": []
  },
  {
   "cell_type": "code",
   "execution_count": null,
   "metadata": {},
   "outputs": [],
   "source": []
  }
 ],
 "metadata": {
  "kernelspec": {
   "display_name": "Python 3",
   "language": "python",
   "name": "python3"
  },
  "language_info": {
   "codemirror_mode": {
    "name": "ipython",
    "version": 3
   },
   "file_extension": ".py",
   "mimetype": "text/x-python",
   "name": "python",
   "nbconvert_exporter": "python",
   "pygments_lexer": "ipython3",
   "version": "3.12.3"
  }
 },
 "nbformat": 4,
 "nbformat_minor": 2
}
