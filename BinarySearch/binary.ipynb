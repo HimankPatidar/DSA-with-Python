{
 "cells": [
  {
   "cell_type": "code",
   "execution_count": 1,
   "metadata": {},
   "outputs": [
    {
     "name": "stdout",
     "output_type": "stream",
     "text": [
      "The array is rotated 5 times\n"
     ]
    }
   ],
   "source": [
    "def findKRotation(arr : [int]) -> int:\n",
    "    low = 0\n",
    "    high = len(arr) - 1\n",
    "    ans = float('inf')\n",
    "    index = -1\n",
    "    while low <= high:\n",
    "        mid = (low + high) // 2\n",
    "        # Check if mid is the minimum element\n",
    "        # If search space is already sorted,\n",
    "        # then the minimum element will be at low index\n",
    "        if arr[low] <= arr[high]:\n",
    "            if arr[low] < ans:\n",
    "                ans = arr[low]\n",
    "                index = low\n",
    "            break\n",
    "\n",
    "        #  If left part is Sorted\n",
    "        if arr[low] <= arr[mid]:\n",
    "            if arr[low] < ans:\n",
    "                index = low\n",
    "                ans = arr[low]\n",
    "            \n",
    "            low = mid + 1\n",
    "\n",
    "        else:\n",
    "            # If right part is sorted\n",
    "            if arr[mid] < ans:\n",
    "                ans = arr[mid]\n",
    "                index = mid\n",
    "            high = mid - 1\n",
    "        \n",
    "    return index\n",
    "\n",
    "if __name__ == \"__main__\":\n",
    "    arr = [4,5,6,7,8,0,1,2,3]\n",
    "    ans = findKRotation(arr)\n",
    "    print(\"The array is rotated\", ans, \"times\")\n",
    "\n",
    "    \n"
   ]
  },
  {
   "cell_type": "code",
   "execution_count": 2,
   "metadata": {},
   "outputs": [
    {
     "name": "stdout",
     "output_type": "stream",
     "text": [
      "The array is rotated 6 times\n"
     ]
    }
   ],
   "source": [
    "def findKRotation(arr : [int]) -> int:\n",
    "    low = 0\n",
    "    high = len(arr) - 1\n",
    "    ans = float('inf')\n",
    "    index = -1\n",
    "    while low <= high:\n",
    "        mid = (low + high) // 2\n",
    "        # Check if mid is the minimum element\n",
    "        # If search space is already sorted,\n",
    "        # then the minimum element will be at low index\n",
    "        if arr[low] < arr[high]:\n",
    "            if arr[low] < ans:\n",
    "                ans = arr[low]\n",
    "                index = low\n",
    "            break\n",
    "\n",
    "        #  If left part is Sorted\n",
    "        if arr[low] <= arr[mid]:\n",
    "            if arr[low] < ans:\n",
    "                index = low\n",
    "                ans = arr[low]\n",
    "            \n",
    "            low = mid + 1\n",
    "        elif arr[low] == arr[mid] == arr[high]:\n",
    "            low += 1\n",
    "            high -= 1\n",
    "\n",
    "        else:\n",
    "            # If right part is sorted\n",
    "            if arr[mid] < ans:\n",
    "                ans = arr[mid]\n",
    "                index = mid\n",
    "            high = mid - 1\n",
    "        \n",
    "    return index\n",
    "\n",
    "if __name__ == \"__main__\":\n",
    "    arr = [2,2,2,2,2,2,0,1,2]\n",
    "    ans = findKRotation(arr)\n",
    "    print(\"The array is rotated\", ans, \"times\")\n",
    "\n",
    "    \n"
   ]
  },
  {
   "cell_type": "code",
   "execution_count": null,
   "metadata": {},
   "outputs": [],
   "source": [
    "\n",
    "\n",
    "\n",
    "def singleNonDuplicate(arr):\n",
    "    n = len(arr)  # Size of the array\n",
    "    if n == 1:\n",
    "        return arr[0]\n",
    "\n",
    "    for i in range(n):\n",
    "        # Check for first index\n",
    "        if i == 0:\n",
    "            if arr[i] != arr[i + 1]:\n",
    "                return arr[i]\n",
    "        # Check for last index\n",
    "        elif i == n - 1:\n",
    "            if arr[i] != arr[i - 1]:\n",
    "                return arr[i]\n",
    "        else:\n",
    "            if arr[i] != arr[i - 1] and arr[i] != arr[i + 1]:\n",
    "                return arr[i]\n",
    "\n",
    "    # Dummy return statement\n",
    "    return -1\n",
    "\n",
    "arr = [1, 1, 2, 2, 3, 3, 4, 5, 5, 6, 6]\n",
    "ans = singleNonDuplicate(arr)\n",
    "print(\"The single element is:\", ans)\n",
    "\n"
   ]
  },
  {
   "cell_type": "code",
   "execution_count": 6,
   "metadata": {},
   "outputs": [
    {
     "name": "stdout",
     "output_type": "stream",
     "text": [
      "The closest distance is: 2\n"
     ]
    }
   ],
   "source": [
    "def findClosest(x, y, z):\n",
    "    dist_x = abs(x - y)\n",
    "    dist_y = abs(y - z)\n",
    "\n",
    "    if dist_x < dist_y:\n",
    "        return 1\n",
    "    else:\n",
    "        return 2\n",
    "    \n",
    "    \n",
    "x = 2\n",
    "y = 7\n",
    "z =4\n",
    "\n",
    "ans = findClosest(x, y, z)\n",
    "print(\"The closest distance is:\", ans)"
   ]
  },
  {
   "cell_type": "code",
   "execution_count": 7,
   "metadata": {},
   "outputs": [
    {
     "name": "stdout",
     "output_type": "stream",
     "text": [
      "Sorted colors: [0, 0, 1, 1, 2, 2]\n"
     ]
    }
   ],
   "source": [
    "def sortColors(nums):\n",
    "    count = [0, 0, 0]\n",
    "\n",
    "    for num in nums:\n",
    "        count[num] += 1\n",
    "\n",
    "    i = 0\n",
    "    for color in range(3):\n",
    "        for _ in range(count[color]):\n",
    "            nums[i] = color\n",
    "            i += 1\n",
    "\n",
    "\n",
    "\n",
    "nums = [2, 0, 2, 1, 1, 0]\n",
    "sortColors(nums)\n",
    "print(\"Sorted colors:\", nums)\n"
   ]
  },
  {
   "cell_type": "code",
   "execution_count": null,
   "metadata": {},
   "outputs": [
    {
     "name": "stdout",
     "output_type": "stream",
     "text": [
      "Sorted colors: [0, 0, 1, 1, 2, 2]\n"
     ]
    }
   ],
   "source": [
    "class Solution:\n",
    "    def sortColors(self, nums):\n",
    "        low = 0       # pointer for 0\n",
    "        mid = 0       # pointer for current\n",
    "        high = len(nums) - 1  # pointer for 2\n",
    "\n",
    "        while mid <= high:\n",
    "            if nums[mid] == 0:\n",
    "                nums[low], nums[mid] = nums[mid], nums[low]\n",
    "                low += 1\n",
    "                mid += 1\n",
    "            elif nums[mid] == 1:\n",
    "                mid += 1\n",
    "            else:  # nums[mid] == 2\n",
    "                nums[mid], nums[high] = nums[high], nums[mid]\n",
    "                high -= 1\n",
    "\n",
    "\n",
    "        return nums\n",
    "    \n",
    "obj1 = Solution()\n",
    "nums = [2, 0, 2, 1, 1, 0]\n",
    "obj1.sortColors(nums)\n",
    "print(\"Sorted colors:\", nums)\n",
    "\n",
    "\n"
   ]
  }
 ],
 "metadata": {
  "kernelspec": {
   "display_name": "Python 3",
   "language": "python",
   "name": "python3"
  },
  "language_info": {
   "codemirror_mode": {
    "name": "ipython",
    "version": 3
   },
   "file_extension": ".py",
   "mimetype": "text/x-python",
   "name": "python",
   "nbconvert_exporter": "python",
   "pygments_lexer": "ipython3",
   "version": "3.12.3"
  }
 },
 "nbformat": 4,
 "nbformat_minor": 2
}
