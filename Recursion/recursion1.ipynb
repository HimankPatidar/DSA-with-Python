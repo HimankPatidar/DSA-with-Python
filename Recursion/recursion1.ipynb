{
 "cells": [
  {
   "cell_type": "markdown",
   "metadata": {},
   "source": [
    "# Recursion"
   ]
  },
  {
   "cell_type": "code",
   "execution_count": 18,
   "metadata": {},
   "outputs": [
    {
     "name": "stdout",
     "output_type": "stream",
     "text": [
      "6\n"
     ]
    }
   ],
   "source": [
    "def f1(n):\n",
    "    if n ==1:\n",
    "        return 1\n",
    "    s = n + f1(n-1)\n",
    "    return s\n",
    "\n",
    "r = f1(3)\n",
    "print(r)\n"
   ]
  },
  {
   "cell_type": "code",
   "execution_count": 19,
   "metadata": {},
   "outputs": [
    {
     "name": "stdout",
     "output_type": "stream",
     "text": [
      "5050\n"
     ]
    }
   ],
   "source": [
    "def func1(n):\n",
    "    if n ==1:\n",
    "        return 1\n",
    "    return n + func1(n-1)\n",
    "\n",
    "r = func1(100)\n",
    "print(r)"
   ]
  },
  {
   "cell_type": "code",
   "execution_count": 20,
   "metadata": {},
   "outputs": [
    {
     "name": "stdout",
     "output_type": "stream",
     "text": [
      "1 2 3 4 5 6 7 8 9 10 11 12 13 14 15 16 17 18 19 20 21 22 23 24 25 26 27 28 29 30 31 32 33 34 35 36 37 38 39 40 41 42 43 44 45 46 47 48 49 50 51 52 53 54 55 56 57 58 59 60 61 62 63 64 65 66 67 68 69 70 71 72 73 74 75 76 77 78 79 80 81 82 83 84 85 86 87 88 89 90 91 92 93 94 95 96 97 98 99 100 "
     ]
    }
   ],
   "source": [
    "def printNos( n):\n",
    "    if n == 0:\n",
    "        return\n",
    "    printNos(n-1)\n",
    "    print(n, end=' ')\n",
    "    return\n",
    "\n",
    "\n",
    "\n",
    "\n",
    "printNos(100)"
   ]
  },
  {
   "cell_type": "markdown",
   "metadata": {},
   "source": [
    "## Print n natural number in reverse Order"
   ]
  },
  {
   "cell_type": "code",
   "execution_count": 21,
   "metadata": {},
   "outputs": [
    {
     "name": "stdout",
     "output_type": "stream",
     "text": [
      "100 99 98 97 96 95 94 93 92 91 90 89 88 87 86 85 84 83 82 81 80 79 78 77 76 75 74 73 72 71 70 69 68 67 66 65 64 63 62 61 60 59 58 57 56 55 54 53 52 51 50 49 48 47 46 45 44 43 42 41 40 39 38 37 36 35 34 33 32 31 30 29 28 27 26 25 24 23 22 21 20 19 18 17 16 15 14 13 12 11 10 9 8 7 6 5 4 3 2 1 "
     ]
    }
   ],
   "source": [
    "def print_reverse(n):\n",
    "    if n > 0:\n",
    "        print(n, end=' ')\n",
    "        print_reverse(n-1)\n",
    "\n",
    "print_reverse(100)\n",
    "\n"
   ]
  },
  {
   "cell_type": "markdown",
   "metadata": {},
   "source": [
    "## Print first n Odd Natural Number"
   ]
  },
  {
   "cell_type": "code",
   "execution_count": 22,
   "metadata": {},
   "outputs": [
    {
     "name": "stdout",
     "output_type": "stream",
     "text": [
      "1 3 5 7 9 11 13 15 17 19 "
     ]
    }
   ],
   "source": [
    "def print_odd(n):\n",
    "    if n>0:\n",
    "        print_odd(n-1)\n",
    "        print(2*n-1, end=' ')\n",
    "    \n",
    "print_odd(10)\n"
   ]
  },
  {
   "cell_type": "markdown",
   "metadata": {},
   "source": [
    "## Print first n even Natural Muber"
   ]
  },
  {
   "cell_type": "code",
   "execution_count": 23,
   "metadata": {},
   "outputs": [
    {
     "name": "stdout",
     "output_type": "stream",
     "text": [
      "2 4 6 8 10 12 14 16 18 20 "
     ]
    }
   ],
   "source": [
    "def print_even(n):\n",
    "    if n>0:\n",
    "        print_even(n-1)\n",
    "        print(2*n, end=' ')\n",
    "\n",
    "print_even(10)"
   ]
  },
  {
   "cell_type": "markdown",
   "metadata": {},
   "source": [
    "## Print first n odd natural number in reverse"
   ]
  },
  {
   "cell_type": "code",
   "execution_count": 24,
   "metadata": {},
   "outputs": [
    {
     "name": "stdout",
     "output_type": "stream",
     "text": [
      "19 17 15 13 11 9 7 5 3 1 "
     ]
    }
   ],
   "source": [
    "def reverse_odd(n):\n",
    "    if n>0:\n",
    "        print(2*n-1, end=' ')\n",
    "        reverse_odd(n-1)\n",
    "\n",
    "reverse_odd(10)"
   ]
  },
  {
   "cell_type": "markdown",
   "metadata": {},
   "source": [
    "## Print first n even natural number in reverse"
   ]
  },
  {
   "cell_type": "code",
   "execution_count": 25,
   "metadata": {},
   "outputs": [
    {
     "name": "stdout",
     "output_type": "stream",
     "text": [
      "20 18 16 14 12 10 8 6 4 2 "
     ]
    }
   ],
   "source": [
    "def reverse_even(n):\n",
    "    if n>0:\n",
    "        print(2*n, end=' ')\n",
    "        reverse_even(n-1)\n",
    "    \n",
    "reverse_even(10)"
   ]
  },
  {
   "cell_type": "markdown",
   "metadata": {},
   "source": [
    "## Print to calculate sum of first N natural number"
   ]
  },
  {
   "cell_type": "code",
   "execution_count": 26,
   "metadata": {},
   "outputs": [
    {
     "name": "stdout",
     "output_type": "stream",
     "text": [
      "55\n"
     ]
    }
   ],
   "source": [
    "def func1(n):\n",
    "    if n ==1:\n",
    "        return 1\n",
    "    return n + func1(n-1)\n",
    "\n",
    "r = func1(10)\n",
    "print(r)"
   ]
  },
  {
   "cell_type": "code",
   "execution_count": 27,
   "metadata": {},
   "outputs": [
    {
     "name": "stdout",
     "output_type": "stream",
     "text": [
      "100\n"
     ]
    }
   ],
   "source": [
    "def sum_odd(n):\n",
    "    if n == 1:\n",
    "        return 1\n",
    "    return 2*n-1 + sum_odd(n-1)# Recursive call with n-1\n",
    "\n",
    "r = sum_odd(10)\n",
    "print(r)"
   ]
  },
  {
   "cell_type": "code",
   "execution_count": 28,
   "metadata": {},
   "outputs": [
    {
     "name": "stdout",
     "output_type": "stream",
     "text": [
      "110\n"
     ]
    }
   ],
   "source": [
    "def sum_even(n):\n",
    "    if n == 1:\n",
    "        return 2\n",
    "    return 2*n + sum_even(n-1)# Recursive call with n-1\n",
    "\n",
    "r = sum_even(10)\n",
    "print(r)"
   ]
  },
  {
   "cell_type": "code",
   "execution_count": 29,
   "metadata": {},
   "outputs": [
    {
     "name": "stdout",
     "output_type": "stream",
     "text": [
      "120\n"
     ]
    }
   ],
   "source": [
    "def fact(n):\n",
    "    if n == 0:\n",
    "        return 1\n",
    "    return n * fact(n-1)\n",
    "\n",
    "r = fact(5)\n",
    "print(r)"
   ]
  },
  {
   "cell_type": "code",
   "execution_count": 30,
   "metadata": {},
   "outputs": [
    {
     "name": "stdout",
     "output_type": "stream",
     "text": [
      "55\n"
     ]
    }
   ],
   "source": [
    "def square_sum(n):\n",
    "    if n == 1:\n",
    "        return 1\n",
    "    return n*n + square_sum(n-1)\n",
    "\n",
    "r = square_sum(5)\n",
    "print(r)"
   ]
  },
  {
   "cell_type": "code",
   "execution_count": 31,
   "metadata": {},
   "outputs": [],
   "source": [
    "def printn(n):\n",
    "    if n == 0:\n",
    "        return\n",
    "    return\n",
    "\n",
    "printn(3)"
   ]
  },
  {
   "cell_type": "code",
   "execution_count": 32,
   "metadata": {},
   "outputs": [
    {
     "name": "stdout",
     "output_type": "stream",
     "text": [
      "1\n",
      "None\n",
      "None\n",
      "None\n",
      "None\n",
      "None\n"
     ]
    }
   ],
   "source": [
    "def fact(n):\n",
    "    if n == 0:\n",
    "        return 1\n",
    "    print(fact(n-1))\n",
    "\n",
    "r = fact(5)\n",
    "print(r)"
   ]
  },
  {
   "cell_type": "code",
   "execution_count": 33,
   "metadata": {},
   "outputs": [
    {
     "name": "stdout",
     "output_type": "stream",
     "text": [
      "[1, 2]\n"
     ]
    }
   ],
   "source": [
    "def factorialNumbers(n):\n",
    "    result = []\n",
    "    current_factorial = 1\n",
    "    multiplier = 1\n",
    "    \n",
    "    while current_factorial <= n:\n",
    "        result.append(current_factorial)\n",
    "        multiplier += 1\n",
    "        current_factorial *= multiplier\n",
    "    \n",
    "    return result\n",
    "\n",
    "r = factorialNumbers(5)\n",
    "print(r)\n"
   ]
  },
  {
   "cell_type": "code",
   "execution_count": 34,
   "metadata": {},
   "outputs": [
    {
     "name": "stdout",
     "output_type": "stream",
     "text": [
      "[1, 2]\n"
     ]
    }
   ],
   "source": [
    "class Solution:\n",
    "    def factorialNumbers(self, n):\n",
    "        # Recursive helper function that builds the list of factorial numbers.\n",
    "        def helper(i, current_fact):\n",
    "            # Base case: if the current factorial exceeds n, stop recursion.\n",
    "            if current_fact > n:\n",
    "                return []\n",
    "            # Otherwise, include the current factorial and compute the next.\n",
    "            return [current_fact] + helper(i + 1, current_fact * (i + 1))\n",
    "        \n",
    "        # Start with i = 1 (for 1!) and current_fact = 1.\n",
    "        return helper(1, 1)\n",
    "\n",
    "s = Solution()\n",
    "r = s.factorialNumbers(5)\n",
    "print(r)\n"
   ]
  },
  {
   "cell_type": "markdown",
   "metadata": {},
   "source": [
    "## Reverse an array\n"
   ]
  },
  {
   "cell_type": "code",
   "execution_count": 35,
   "metadata": {},
   "outputs": [
    {
     "name": "stdout",
     "output_type": "stream",
     "text": [
      "[5, 4, 3, 2, 1]\n"
     ]
    }
   ],
   "source": [
    "arr = [1, 2, 3, 4, 5]\n",
    "\n",
    "def reverse_array(arr, start, end):\n",
    "    if start >= end :\n",
    "        return\n",
    "    arr[start], arr[end] = arr[end], arr[start]\n",
    "    reverse_array(arr, start+1, end-1)\n",
    "\n",
    "reverse_array(arr, 0, len(arr)-1)\n",
    "print(arr)\n",
    "\n",
    "\n",
    "\n"
   ]
  },
  {
   "cell_type": "code",
   "execution_count": null,
   "metadata": {},
   "outputs": [],
   "source": [
    "arr = [1, 2, 3, 4, 5]\n",
    "\n",
    "def reverse_array(arr):\n",
    "    start = 0\n",
    "    end = len(arr)-1\n",
    "    \n",
    "\n",
    "\n",
    "    if start >= end :\n",
    "        return\n",
    "    arr[start], arr[end] = arr[end], arr[start]\n",
    "    reverse_array(arr, start+1, end-1)\n",
    "\n",
    "reverse_array(arr, 0, len(arr)-1)\n",
    "print(arr)\n",
    "\n",
    "\n",
    "\n"
   ]
  },
  {
   "cell_type": "markdown",
   "metadata": {},
   "source": [
    "## Is Palindrome\n"
   ]
  },
  {
   "cell_type": "code",
   "execution_count": null,
   "metadata": {},
   "outputs": [],
   "source": [
    "def isPalindrom(str):\n",
    "    if len(str) <= 1:\n",
    "        return True\n",
    "    if str[0] != str[-1]:\n",
    "        return False\n",
    "    return isPalindrom(str[1:-1])\n"
   ]
  },
  {
   "cell_type": "code",
   "execution_count": 36,
   "metadata": {},
   "outputs": [
    {
     "name": "stdout",
     "output_type": "stream",
     "text": [
      "True\n"
     ]
    }
   ],
   "source": [
    "def isPalindrom(i, str):\n",
    "    if i >= len(str)//2:\n",
    "        return True \n",
    "    if str[i] != str[len(str)-1-i]:\n",
    "        return False\n",
    "    return isPalindrom(i+1, str)\n",
    "\n",
    "\n",
    "r = isPalindrom(0, 'madam')\n",
    "print(r)\n",
    "\n",
    "   \n"
   ]
  },
  {
   "cell_type": "code",
   "execution_count": null,
   "metadata": {},
   "outputs": [],
   "source": [
    "class Solution:\n",
    "    def isPalindrome(self, s: str) -> bool:\n",
    "        # Preprocess the string: remove non-alphanumeric characters and convert to lowercase\n",
    "        s = ''.join(filter(str.isalnum, s)).lower()\n",
    "        \n",
    "        def helper(i):\n",
    "            if i >= len(s) // 2:\n",
    "                return True\n",
    "            if s[i] != s[-i - 1]:\n",
    "                return False\n",
    "            return helper(i + 1)\n",
    "        \n",
    "        return helper(0)"
   ]
  },
  {
   "cell_type": "code",
   "execution_count": 37,
   "metadata": {},
   "outputs": [
    {
     "name": "stdout",
     "output_type": "stream",
     "text": [
      "True\n"
     ]
    }
   ],
   "source": [
    "class Solution:\n",
    "    def isPalindrome(self, s: str):\n",
    "        final_string = (\"\".join(char for char in s if char.isalnum())).lower()\n",
    "        mid_string = len(final_string)//2\n",
    "        for i in range(1,mid_string+1):\n",
    "            if final_string[i-1] != final_string[-i]:\n",
    "                return False\n",
    "        return True\n",
    "\n",
    "\n",
    "s = Solution()\n",
    "r = s.isPalindrome('madam')\n",
    "print(r)\n"
   ]
  },
  {
   "cell_type": "markdown",
   "metadata": {},
   "source": [
    "## Fibonacci number\n"
   ]
  },
  {
   "cell_type": "code",
   "execution_count": 2,
   "metadata": {},
   "outputs": [
    {
     "name": "stdout",
     "output_type": "stream",
     "text": [
      "55\n"
     ]
    }
   ],
   "source": [
    "def fibonacci(n):\n",
    "    if n <= 1:\n",
    "        return n\n",
    "    return fibonacci(n-1) + fibonacci(n-2)\n",
    "\n",
    "\n",
    "r = fibonacci(10)\n",
    "print(r)"
   ]
  },
  {
   "cell_type": "markdown",
   "metadata": {},
   "source": [
    "##  Print the subsequence"
   ]
  },
  {
   "cell_type": "code",
   "execution_count": 3,
   "metadata": {},
   "outputs": [
    {
     "name": "stdout",
     "output_type": "stream",
     "text": [
      "abc\n",
      "ab\n",
      "ac\n",
      "a\n",
      "bc\n",
      "b\n",
      "c\n",
      "\n"
     ]
    }
   ],
   "source": [
    "def print_Subsequence(s, index, current):\n",
    "    if index == len(s):\n",
    "        print(current)\n",
    "        return\n",
    "    print_Subsequence(s, index+1, current+s[index])\n",
    "    print_Subsequence(s, index+1, current)\n",
    "\n",
    "\n",
    "print_Subsequence('abc', 0, '')\n"
   ]
  },
  {
   "cell_type": "code",
   "execution_count": null,
   "metadata": {},
   "outputs": [],
   "source": []
  },
  {
   "cell_type": "code",
   "execution_count": null,
   "metadata": {},
   "outputs": [],
   "source": []
  },
  {
   "cell_type": "code",
   "execution_count": null,
   "metadata": {},
   "outputs": [],
   "source": []
  }
 ],
 "metadata": {
  "kernelspec": {
   "display_name": "Python 3",
   "language": "python",
   "name": "python3"
  },
  "language_info": {
   "codemirror_mode": {
    "name": "ipython",
    "version": 3
   },
   "file_extension": ".py",
   "mimetype": "text/x-python",
   "name": "python",
   "nbconvert_exporter": "python",
   "pygments_lexer": "ipython3",
   "version": "3.12.3"
  }
 },
 "nbformat": 4,
 "nbformat_minor": 2
}
