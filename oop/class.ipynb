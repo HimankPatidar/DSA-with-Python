{
 "cells": [
  {
   "cell_type": "markdown",
   "metadata": {},
   "source": [
    "# Class and Object"
   ]
  },
  {
   "cell_type": "code",
   "execution_count": null,
   "metadata": {},
   "outputs": [],
   "source": [
    "class Employee(object):\n",
    "    numEmployee = 0\n",
    "    def __init__(self, name, rate):\n",
    "        self.owed = 0\n",
    "        self.name = name\n",
    "        self.rate = rate\n",
    "        Employee.numEmployee += 1\n",
    "\n",
    "\n",
    "    def __del__(self):\n",
    "        Employee.numEmployee -= 1\n",
    "    \n",
    "    def  hours(self, numHours):\n",
    "        self.owed += numHours * self.rate\n",
    "        return(\"%.2f hours worked\" % numHours)\n",
    "\n",
    "    def pay(self):\n",
    "        self.owed = 0\n",
    "        return(\"payed %s\" % self.name)\n",
    "        \n"
   ]
  },
  {
   "cell_type": "code",
   "execution_count": 4,
   "metadata": {},
   "outputs": [
    {
     "name": "stdout",
     "output_type": "stream",
     "text": [
      "5\n",
      "5\n",
      "10\n",
      "5\n",
      "5\n",
      "hello\n",
      "None\n",
      "<class '__main__.Test'>\n",
      "<class '__main__.Test'>\n",
      "<class 'type'>\n",
      "Test\n",
      "Test\n",
      "type\n",
      "(<class 'object'>,)\n",
      "(<class 'object'>,)\n",
      "(<class 'object'>,)\n",
      "{'__module__': '__main__', 'x': 5, 'f1': <function Test.f1 at 0x0000026D97016D40>, '__dict__': <attribute '__dict__' of 'Test' objects>, '__weakref__': <attribute '__weakref__' of 'Test' objects>, '__doc__': None}\n",
      "{'__module__': '__main__', 'x': 5, 'f1': <function Test.f1 at 0x0000026D97016D40>, '__dict__': <attribute '__dict__' of 'Test' objects>, '__weakref__': <attribute '__weakref__' of 'Test' objects>, '__doc__': None}\n",
      "{'__new__': <built-in method __new__ of type object at 0x00007FF8B80F68F0>, '__repr__': <slot wrapper '__repr__' of 'type' objects>, '__call__': <slot wrapper '__call__' of 'type' objects>, '__getattribute__': <slot wrapper '__getattribute__' of 'type' objects>, '__setattr__': <slot wrapper '__setattr__' of 'type' objects>, '__delattr__': <slot wrapper '__delattr__' of 'type' objects>, '__init__': <slot wrapper '__init__' of 'type' objects>, '__or__': <slot wrapper '__or__' of 'type' objects>, '__ror__': <slot wrapper '__ror__' of 'type' objects>, 'mro': <method 'mro' of 'type' objects>, '__subclasses__': <method '__subclasses__' of 'type' objects>, '__prepare__': <method '__prepare__' of 'type' objects>, '__instancecheck__': <method '__instancecheck__' of 'type' objects>, '__subclasscheck__': <method '__subclasscheck__' of 'type' objects>, '__dir__': <method '__dir__' of 'type' objects>, '__sizeof__': <method '__sizeof__' of 'type' objects>, '__basicsize__': <member '__basicsize__' of 'type' objects>, '__itemsize__': <member '__itemsize__' of 'type' objects>, '__flags__': <member '__flags__' of 'type' objects>, '__weakrefoffset__': <member '__weakrefoffset__' of 'type' objects>, '__base__': <member '__base__' of 'type' objects>, '__dictoffset__': <member '__dictoffset__' of 'type' objects>, '__name__': <attribute '__name__' of 'type' objects>, '__qualname__': <attribute '__qualname__' of 'type' objects>, '__bases__': <attribute '__bases__' of 'type' objects>, '__mro__': <attribute '__mro__' of 'type' objects>, '__module__': <attribute '__module__' of 'type' objects>, '__abstractmethods__': <attribute '__abstractmethods__' of 'type' objects>, '__dict__': <attribute '__dict__' of 'type' objects>, '__doc__': <attribute '__doc__' of 'type' objects>, '__text_signature__': <attribute '__text_signature__' of 'type' objects>, '__annotations__': <attribute '__annotations__' of 'type' objects>, '__type_params__': <attribute '__type_params__' of 'type' objects>}\n"
     ]
    }
   ],
   "source": [
    "class Test :\n",
    "    x = 5\n",
    "    def f1():\n",
    "        print(\"hello\")\n",
    "\n",
    "\n",
    "t1 = Test()\n",
    "t2 = Test()\n",
    "print(t1.x)\n",
    "print(t2.x)\n",
    "t1.x = 10\n",
    "print(t1.x)\n",
    "print(t2.x)\n",
    "print(Test.x)\n",
    "# print(t1.f1())\n",
    "# print(t2.f1())\n",
    "print(Test.f1())\n",
    "print(t1.__class__)\n",
    "print(t2.__class__)\n",
    "print(Test.__class__)\n",
    "print(t1.__class__.__name__)\n",
    "print(t2.__class__.__name__)\n",
    "print(Test.__class__.__name__)\n",
    "print(t1.__class__.__bases__)\n",
    "print(t2.__class__.__bases__)\n",
    "print(Test.__class__.__bases__)\n",
    "print(t1.__class__.__dict__)\n",
    "print(t2.__class__.__dict__)\n",
    "print(Test.__class__.__dict__)\n",
    "\n"
   ]
  },
  {
   "cell_type": "code",
   "execution_count": 13,
   "metadata": {},
   "outputs": [
    {
     "name": "stdout",
     "output_type": "stream",
     "text": [
      "a =  12\n",
      "b =  15\n",
      "a =  5\n",
      "b =  1\n",
      "10\n",
      "12 15\n",
      "5 1\n"
     ]
    }
   ],
   "source": [
    "class Test :\n",
    "    def __init__(self, a, b):\n",
    "        self.a = a\n",
    "        self.b = b\n",
    "   \n",
    "    def display(self):\n",
    "        print(\"a = \", self.a)\n",
    "        print(\"b = \", self.b)\n",
    "    \n",
    "    @staticmethod\n",
    "    def f2():\n",
    "        pass\n",
    "\n",
    "    @classmethod\n",
    "    def f3(cls):\n",
    "        print(cls.x)\n",
    "\n",
    "\n",
    "t1 = Test(12, 15)\n",
    "t2 = Test(5,1)\n",
    "t1.display()\n",
    "t2.display()\n",
    "\n",
    "Test.x = 10\n",
    "Test.f3()\n",
    "\n",
    "\n",
    "\n",
    "print(t1.a, t1.b)\n",
    "print(t2.a, t2.b)"
   ]
  },
  {
   "cell_type": "code",
   "execution_count": 18,
   "metadata": {},
   "outputs": [
    {
     "name": "stdout",
     "output_type": "stream",
     "text": [
      "102\n",
      "Smith\n",
      "60000\n",
      "101\n",
      "John\n",
      "50000\n"
     ]
    }
   ],
   "source": [
    "class Employee:\n",
    "    def __init__(self, empid=None, ename=None, esal=None):\n",
    "        self.empid = empid\n",
    "        self.ename = ename\n",
    "        self.esal = esal\n",
    "\n",
    "    def setEmpid(self, empid):\n",
    "        self.empid = empid\n",
    "    \n",
    "    def getEmpid(self):\n",
    "        return self.empid\n",
    "    \n",
    "    def setEname(self, ename):\n",
    "        self.ename = ename\n",
    "\n",
    "    def getEname(self):\n",
    "        return self.ename\n",
    "\n",
    "    def setEsal(self, esal):\n",
    "        self.esal = esal\n",
    "    \n",
    "    def getEsal(self):\n",
    "        return self.esal\n",
    "    \n",
    "\n",
    "e1 = Employee()\n",
    "e2 = Employee(101, \"John\", 50000)\n",
    "e1.setEmpid(102)\n",
    "e1.setEname(\"Smith\")\n",
    "e1.setEsal(60000)\n",
    "print(e1.getEmpid())\n",
    "print(e1.getEname())\n",
    "print(e1.getEsal())\n",
    "print(e2.getEmpid())\n",
    "print(e2.getEname())\n",
    "print(e2.getEsal())\n",
    "\n",
    "\n",
    "\n"
   ]
  },
  {
   "cell_type": "code",
   "execution_count": 1,
   "metadata": {},
   "outputs": [
    {
     "name": "stdout",
     "output_type": "stream",
     "text": [
      "Name:  John\n",
      "Age:  25\n"
     ]
    }
   ],
   "source": [
    "class Person:\n",
    "\n",
    "    def __init__(self, name, age):\n",
    "        self.name = name\n",
    "        self.age = age\n",
    "\n",
    "    def display(self):\n",
    "        print(\"Name: \", self.name)\n",
    "        print(\"Age: \", self.age)\n",
    "\n",
    "a = Person(\"John\", 25)\n",
    "a.display()"
   ]
  },
  {
   "cell_type": "markdown",
   "metadata": {},
   "source": [
    "##  Decorator"
   ]
  },
  {
   "cell_type": "code",
   "execution_count": 8,
   "metadata": {},
   "outputs": [
    {
     "name": "stdout",
     "output_type": "stream",
     "text": [
      "Good Morning\n",
      "Hello\n",
      "How are you\n",
      "Good Morning\n",
      "Good Morning\n",
      "30\n",
      "How are you\n",
      "How are you\n"
     ]
    }
   ],
   "source": [
    "def greet(fx):\n",
    "    def mfx(*args, **kwargs): \n",
    "        print(\"Good Morning\")\n",
    "        fx(*args, **kwargs) \n",
    "        print(\"How are you\")\n",
    "    return mfx\n",
    "\n",
    "\n",
    "@greet\n",
    "def hello():\n",
    "    print(\"Hello\")\n",
    "\n",
    "@greet\n",
    "def add(a, b):\n",
    "    print(a+b)\n",
    "\n",
    "hello()\n",
    "greet(add)(10, 20)"
   ]
  },
  {
   "cell_type": "code",
   "execution_count": null,
   "metadata": {},
   "outputs": [],
   "source": [
    "# @decorator_function\n",
    "# def my_function():\n",
    "#     pass"
   ]
  },
  {
   "cell_type": "code",
   "execution_count": 10,
   "metadata": {},
   "outputs": [
    {
     "data": {
      "text/plain": [
       "132"
      ]
     },
     "execution_count": 10,
     "metadata": {},
     "output_type": "execute_result"
    }
   ],
   "source": [
    "import logging\n",
    "\n",
    "def log_function(func):\n",
    "    def decorated(*args, **kwrgs):\n",
    "        logging.info(f\"Calling {func.__name__} with {args} and {kwrgs}\")\n",
    "        result = func(*args, **kwrgs)\n",
    "        logging.info(f\"Function returned {result}\")\n",
    "        return result\n",
    "    return decorated\n",
    "\n",
    "\n",
    "@log_function\n",
    "def add(a, b):\n",
    "    return a + b\n",
    "\n",
    "add(12, 120)\n",
    "        "
   ]
  },
  {
   "cell_type": "code",
   "execution_count": 21,
   "metadata": {},
   "outputs": [
    {
     "name": "stdout",
     "output_type": "stream",
     "text": [
      "10\n",
      "67\n"
     ]
    }
   ],
   "source": [
    "class MyClass:\n",
    "    def __init__(self, value): \n",
    "        self.value = value\n",
    "\n",
    "    def show(self):\n",
    "        print(self.value)\n",
    "\n",
    "    @property\n",
    "    def value(self):\n",
    "        return self._value\n",
    "\n",
    "    @value.setter\n",
    "    def value(self, value):\n",
    "        self._value = value\n",
    "    \n",
    "\n",
    "obj = MyClass(10)\n",
    "obj.ten_value = 67\n",
    "obj.show()\n",
    "print(obj.ten_value)\n"
   ]
  },
  {
   "cell_type": "code",
   "execution_count": 22,
   "metadata": {},
   "outputs": [
    {
     "name": "stdout",
     "output_type": "stream",
     "text": [
      "67.0\n",
      "Value is 6.7\n"
     ]
    }
   ],
   "source": [
    "class MyClass:\n",
    "  def __init__(self, value):\n",
    "      self._value = value\n",
    "    \n",
    "  def show(self):\n",
    "    print(f\"Value is {self._value}\")\n",
    "    \n",
    "  @property\n",
    "  def ten_value(self):\n",
    "      return 10* self._value\n",
    "    \n",
    "  @ten_value.setter\n",
    "  def ten_value(self, new_value):\n",
    "      self._value = new_value/10\n",
    "\n",
    "obj = MyClass(10)\n",
    "obj.ten_value = 67\n",
    "print(obj.ten_value)\n",
    "obj.show()"
   ]
  },
  {
   "cell_type": "markdown",
   "metadata": {},
   "source": [
    "## Inheritance"
   ]
  },
  {
   "cell_type": "code",
   "execution_count": 28,
   "metadata": {},
   "outputs": [
    {
     "name": "stdout",
     "output_type": "stream",
     "text": [
      "Name: Rohan babu, Age: 25, Salary: 50000\n",
      "Name: John, Age: 30, Salary: 60000\n",
      "Name: Smith, Age: 35, Salary: 70000\n",
      "I know Python, Java, C++\n"
     ]
    }
   ],
   "source": [
    "class Employee:\n",
    "    def __init__(self, name, age, salary):\n",
    "        self.name = name\n",
    "        self.age = age\n",
    "        self.salary = salary\n",
    "    \n",
    "    def show_detail(self):\n",
    "        print(f\"Name: {self.name}, Age: {self.age}, Salary: {self.salary}\")\n",
    "\n",
    "\n",
    "class Programmer(Employee):\n",
    "    def showLanguages(self):\n",
    "        print(\"I know Python, Java, C++\")\n",
    "\n",
    "\n",
    "e1 = Employee(\"Rohan babu\", 25, 50000)\n",
    "e1.show_detail()  \n",
    "e2 = Employee(\"John\", 30, 60000)\n",
    "e2.show_detail()    \n",
    "p1 = Programmer(\"Smith\", 35, 70000)\n",
    "p1.show_detail()\n",
    "p1.showLanguages()"
   ]
  },
  {
   "cell_type": "markdown",
   "metadata": {},
   "source": [
    "## Access Modifier"
   ]
  },
  {
   "cell_type": "code",
   "execution_count": 29,
   "metadata": {},
   "outputs": [],
   "source": [
    "class Employee :\n",
    "    pass\n",
    "\n",
    "a = Employee()\n",
    "a.emp1 = 101"
   ]
  },
  {
   "cell_type": "code",
   "execution_count": 31,
   "metadata": {},
   "outputs": [
    {
     "name": "stdout",
     "output_type": "stream",
     "text": [
      "Khushi\n"
     ]
    }
   ],
   "source": [
    "class Employee:\n",
    "    def __init__(self):\n",
    "        self.name = \"Khushi\"\n",
    "\n",
    "a = Employee()\n",
    "print(a.name)"
   ]
  },
  {
   "cell_type": "code",
   "execution_count": 36,
   "metadata": {},
   "outputs": [
    {
     "name": "stdout",
     "output_type": "stream",
     "text": [
      "Khushi\n",
      "['_Employee__name', '__module__', '__init__', '__dict__', '__weakref__', '__doc__', '__new__', '__repr__', '__hash__', '__str__', '__getattribute__', '__setattr__', '__delattr__', '__lt__', '__le__', '__eq__', '__ne__', '__gt__', '__ge__', '__reduce_ex__', '__reduce__', '__getstate__', '__subclasshook__', '__init_subclass__', '__format__', '__sizeof__', '__dir__', '__class__']\n"
     ]
    }
   ],
   "source": [
    "class Employee:\n",
    "    def __init__(self):\n",
    "        self.__name = \"Khushi\"\n",
    "\n",
    "a = Employee()\n",
    "# print(a.__name)\n",
    "print(a._Employee__name)\n",
    "\n",
    "print(a.__dir__())"
   ]
  },
  {
   "cell_type": "code",
   "execution_count": 41,
   "metadata": {},
   "outputs": [
    {
     "name": "stdout",
     "output_type": "stream",
     "text": [
      "Hello\n",
      "123\n"
     ]
    }
   ],
   "source": [
    "class Student:\n",
    "    def __init__(self):\n",
    "        self.__id = 123\n",
    "        self.__name = \"John\"\n",
    "\n",
    "    def _funName(self):\n",
    "        print(\"Hello\")\n",
    "\n",
    "class Subject(Student):\n",
    "    def __init__(self):\n",
    "        self.__subject = \"Python\"\n",
    "\n",
    "obj = Student()\n",
    "obj1 = Subject()\n",
    "\n",
    "\n",
    "obj._funName()\n",
    "# obj.__id\n",
    "print(obj._Student__id)"
   ]
  },
  {
   "cell_type": "markdown",
   "metadata": {},
   "source": [
    "## Snake Water Gun"
   ]
  },
  {
   "cell_type": "code",
   "execution_count": 45,
   "metadata": {},
   "outputs": [
    {
     "name": "stdout",
     "output_type": "stream",
     "text": [
      "Welcome to Snake, Water, Gun Game\n",
      "Computer's Turn: Snake(0), Water(1), Gun(2)\n",
      "Computer has chosen\n",
      "Now it's your turn\n",
      "Your Turn: Snake(0), Water(1), Gun(2)\n",
      "You lose\n"
     ]
    }
   ],
   "source": [
    "import random\n",
    "\n",
    "def game(comp, user):\n",
    "    if comp == user:\n",
    "        return None\n",
    "    elif comp == 0:\n",
    "        if user == 1:\n",
    "            return True\n",
    "        elif user == 2:\n",
    "            return False\n",
    "    elif comp == 1:\n",
    "        if user == 0:\n",
    "            return False\n",
    "        elif user == 2:\n",
    "            return True\n",
    "    elif comp == 2:\n",
    "        if user == 0:\n",
    "            return True\n",
    "        elif user == 1:\n",
    "            return False\n",
    "        \n",
    "print(\"Welcome to Snake, Water, Gun Game\")\n",
    "        \n",
    "print(\"Computer's Turn: Snake(0), Water(1), Gun(2)\")\n",
    "comp = random.randint(0, 2)\n",
    "print(\"Computer has chosen\")\n",
    "print(\"Now it's your turn\")\n",
    "print(\"Your Turn: Snake(0), Water(1), Gun(2)\")\n",
    "user = int(input(\"Enter your choice: \"))\n",
    "a = game(comp, user)\n",
    "if a == None:\n",
    "    print(\"Game is a tie\")\n",
    "elif a:\n",
    "    print(\"You win\")\n",
    "else:\n",
    "    print(\"You lose\")\n",
    "\n",
    "\n",
    "\n"
   ]
  },
  {
   "cell_type": "code",
   "execution_count": 48,
   "metadata": {},
   "outputs": [],
   "source": [
    "# ## Library Management System\n",
    "\n",
    "# no_of_books = 100\n",
    "# books = [\"Book1\", \"Book2\", \"Book3\", \"Book4\", \"Book5\"]\n",
    "# def display_books():\n",
    "#     print(\"Books available are: \")\n",
    "#     for book in books:\n",
    "#         print(book)\n",
    "#         display_books()\n",
    "\n",
    "# def lend_book():\n",
    "#     book = input(\"Enter the name of the book you want to lend: \")\n",
    "#     if book in books:\n",
    "#         print(\"You have successfully lend the book\")\n",
    "#         books.remove(book)\n",
    "#     else:\n",
    "#         print(\"Sorry, the book is not available\")\n",
    "#         print(\"Please choose another book\")\n",
    "#         lend_book()\n",
    "\n",
    "# def add_book():\n",
    "#     book = input(\"Enter the name of the book you want to add: \")\n",
    "#     books.append(book)\n",
    "#     print(\"Book has been successfully added\")\n",
    "#     display_books()\n",
    "\n",
    "# def return_book():\n",
    "#     book = input(\"Enter the name of the book you want to return: \")\n",
    "#     books.append(book)\n",
    "#     print(\"Book has been successfully returned\")\n",
    "#     display_books()\n",
    "\n",
    "# def menu():\n",
    "#     print(\"Library Management System\")\n",
    "#     print(\"1. Display all books\")\n",
    "#     print(\"2. Lend a book\")\n",
    "#     print(\"3. Add a book\")\n",
    "#     print(\"4. Return a book\")\n",
    "#     print(\"5. Exit\")\n",
    "#     choice = input(\"Enter your choice: \")\n",
    "#     if choice == \"1\":\n",
    "#         display_books()\n",
    "#         menu()\n",
    "#     elif choice == \"2\":\n",
    "#         lend_book()\n",
    "#         menu()\n",
    "#     elif choice == \"3\":\n",
    "#         add_book()\n",
    "#         menu()\n",
    "#     elif choice == \"4\":\n",
    "#         return_book()\n",
    "#         menu()\n",
    "#     elif choice == \"5\":\n",
    "#         exit()\n",
    "#     else:\n",
    "#         print(\"Invalid choice\")\n",
    "#         menu()\n",
    "\n",
    "\n",
    "    \n",
    "# menu()\n"
   ]
  },
  {
   "cell_type": "markdown",
   "metadata": {},
   "source": [
    "## Static Method"
   ]
  },
  {
   "cell_type": "code",
   "execution_count": 59,
   "metadata": {},
   "outputs": [
    {
     "name": "stdout",
     "output_type": "stream",
     "text": [
      "10\n",
      "16\n",
      "256\n",
      "30\n",
      "31\n"
     ]
    }
   ],
   "source": [
    "class Math:\n",
    "    def __init__(self, num):\n",
    "        self.num = num\n",
    "    \n",
    "    def square(self):\n",
    "        return self.num ** 2\n",
    "    \n",
    "    def add_num(self, n):\n",
    "        self.num = self.num + n\n",
    "    \n",
    "    @staticmethod\n",
    "    def add(a, b):\n",
    "        return a + b\n",
    "    \n",
    "\n",
    "a = Math(10)\n",
    "# print(m.square())\n",
    "print(a.num)\n",
    "a.add_num(6)\n",
    "print(a.num)\n",
    "print(a.square())\n",
    "print(a.add(10, 20))\n",
    "print(Math.add(11, 20))\n",
    "\n",
    "\n",
    "\n"
   ]
  },
  {
   "cell_type": "code",
   "execution_count": null,
   "metadata": {},
   "outputs": [
    {
     "name": "stdout",
     "output_type": "stream",
     "text": [
      "a =  12\n",
      "b =  15\n",
      "a =  5\n",
      "b =  1\n",
      "10\n",
      "12 15\n",
      "5 1\n"
     ]
    }
   ],
   "source": [
    "class Test :\n",
    "    def __init__(self, a, b):\n",
    "        self.a = a\n",
    "        self.b = b\n",
    "   \n",
    "    def display(self):\n",
    "        print(\"a = \", self.a)\n",
    "        print(\"b = \", self.b)\n",
    "    \n",
    "    @staticmethod\n",
    "    def f2():\n",
    "        pass\n",
    "\n",
    "    @classmethod\n",
    "    def f3(cls):\n",
    "        print(cls.x)\n",
    "\n",
    "\n",
    "t1 = Test(12, 15)\n",
    "t2 = Test(5,1)\n",
    "t1.display()\n",
    "t2.display()\n",
    "\n",
    "Test.x = 10\n",
    "Test.f3()\n",
    "\n",
    "\n",
    "\n",
    "print(t1.a, t1.b)\n",
    "print(t2.a, t2.b)"
   ]
  },
  {
   "cell_type": "code",
   "execution_count": null,
   "metadata": {},
   "outputs": [
    {
     "name": "stdout",
     "output_type": "stream",
     "text": [
      "a =  12\n",
      "b =  15\n",
      "a =  5\n",
      "b =  1\n",
      "10\n",
      "12 15\n",
      "5 1\n"
     ]
    }
   ],
   "source": [
    "class Test :\n",
    "    def __init__(self, a, b):\n",
    "        self.a = a\n",
    "        self.b = b\n",
    "   \n",
    "    def display(self):\n",
    "        print(\"a = \", self.a)\n",
    "        print(\"b = \", self.b)\n",
    "    \n",
    "    @staticmethod\n",
    "    def f2():\n",
    "        pass\n",
    "\n",
    "    @classmethod\n",
    "    def f3(cls):\n",
    "        print(cls.x)\n",
    "\n",
    "\n",
    "t1 = Test(12, 15)\n",
    "t2 = Test(5,1)\n",
    "t1.display()\n",
    "t2.display()\n",
    "\n",
    "Test.x = 10\n",
    "Test.f3()\n",
    "\n",
    "\n",
    "\n",
    "print(t1.a, t1.b)\n",
    "print(t2.a, t2.b)"
   ]
  },
  {
   "cell_type": "code",
   "execution_count": null,
   "metadata": {},
   "outputs": [
    {
     "name": "stdout",
     "output_type": "stream",
     "text": [
      "a =  12\n",
      "b =  15\n",
      "a =  5\n",
      "b =  1\n",
      "10\n",
      "12 15\n",
      "5 1\n"
     ]
    }
   ],
   "source": [
    "class Test :\n",
    "    def __init__(self, a, b):\n",
    "        self.a = a\n",
    "        self.b = b\n",
    "   \n",
    "    def display(self):\n",
    "        print(\"a = \", self.a)\n",
    "        print(\"b = \", self.b)\n",
    "    \n",
    "    @staticmethod\n",
    "    def f2():\n",
    "        pass\n",
    "\n",
    "    @classmethod\n",
    "    def f3(cls):\n",
    "        print(cls.x)\n",
    "\n",
    "\n",
    "t1 = Test(12, 15)\n",
    "t2 = Test(5,1)\n",
    "t1.display()\n",
    "t2.display()\n",
    "\n",
    "Test.x = 10\n",
    "Test.f3()\n",
    "\n",
    "\n",
    "\n",
    "print(t1.a, t1.b)\n",
    "print(t2.a, t2.b)"
   ]
  },
  {
   "cell_type": "code",
   "execution_count": null,
   "metadata": {},
   "outputs": [],
   "source": []
  },
  {
   "cell_type": "code",
   "execution_count": null,
   "metadata": {},
   "outputs": [],
   "source": []
  },
  {
   "cell_type": "code",
   "execution_count": null,
   "metadata": {},
   "outputs": [],
   "source": []
  },
  {
   "cell_type": "code",
   "execution_count": null,
   "metadata": {},
   "outputs": [],
   "source": []
  }
 ],
 "metadata": {
  "kernelspec": {
   "display_name": "Python 3",
   "language": "python",
   "name": "python3"
  },
  "language_info": {
   "codemirror_mode": {
    "name": "ipython",
    "version": 3
   },
   "file_extension": ".py",
   "mimetype": "text/x-python",
   "name": "python",
   "nbconvert_exporter": "python",
   "pygments_lexer": "ipython3",
   "version": "3.12.3"
  }
 },
 "nbformat": 4,
 "nbformat_minor": 2
}
