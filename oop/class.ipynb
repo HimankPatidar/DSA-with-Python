{
 "cells": [
  {
   "cell_type": "markdown",
   "metadata": {},
   "source": [
    "# Class and Object"
   ]
  },
  {
   "cell_type": "code",
   "execution_count": null,
   "metadata": {},
   "outputs": [],
   "source": [
    "class Employee(object):\n",
    "    numEmployee = 0\n",
    "    def __init__(self, name, rate):\n",
    "        self.owed = 0\n",
    "        self.name = name\n",
    "        self.rate = rate\n",
    "        Employee.numEmployee += 1\n",
    "\n",
    "\n",
    "    def __del__(self):\n",
    "        Employee.numEmployee -= 1\n",
    "    \n",
    "    def  hours(self, numHours):\n",
    "        self.owed += numHours * self.rate\n",
    "        return(\"%.2f hours worked\" % numHours)\n",
    "\n",
    "    def pay(self):\n",
    "        self.owed = 0\n",
    "        return(\"payed %s\" % self.name)\n",
    "        \n"
   ]
  },
  {
   "cell_type": "code",
   "execution_count": 4,
   "metadata": {},
   "outputs": [
    {
     "name": "stdout",
     "output_type": "stream",
     "text": [
      "5\n",
      "5\n",
      "10\n",
      "5\n",
      "5\n",
      "hello\n",
      "None\n",
      "<class '__main__.Test'>\n",
      "<class '__main__.Test'>\n",
      "<class 'type'>\n",
      "Test\n",
      "Test\n",
      "type\n",
      "(<class 'object'>,)\n",
      "(<class 'object'>,)\n",
      "(<class 'object'>,)\n",
      "{'__module__': '__main__', 'x': 5, 'f1': <function Test.f1 at 0x0000026D97016D40>, '__dict__': <attribute '__dict__' of 'Test' objects>, '__weakref__': <attribute '__weakref__' of 'Test' objects>, '__doc__': None}\n",
      "{'__module__': '__main__', 'x': 5, 'f1': <function Test.f1 at 0x0000026D97016D40>, '__dict__': <attribute '__dict__' of 'Test' objects>, '__weakref__': <attribute '__weakref__' of 'Test' objects>, '__doc__': None}\n",
      "{'__new__': <built-in method __new__ of type object at 0x00007FF8B80F68F0>, '__repr__': <slot wrapper '__repr__' of 'type' objects>, '__call__': <slot wrapper '__call__' of 'type' objects>, '__getattribute__': <slot wrapper '__getattribute__' of 'type' objects>, '__setattr__': <slot wrapper '__setattr__' of 'type' objects>, '__delattr__': <slot wrapper '__delattr__' of 'type' objects>, '__init__': <slot wrapper '__init__' of 'type' objects>, '__or__': <slot wrapper '__or__' of 'type' objects>, '__ror__': <slot wrapper '__ror__' of 'type' objects>, 'mro': <method 'mro' of 'type' objects>, '__subclasses__': <method '__subclasses__' of 'type' objects>, '__prepare__': <method '__prepare__' of 'type' objects>, '__instancecheck__': <method '__instancecheck__' of 'type' objects>, '__subclasscheck__': <method '__subclasscheck__' of 'type' objects>, '__dir__': <method '__dir__' of 'type' objects>, '__sizeof__': <method '__sizeof__' of 'type' objects>, '__basicsize__': <member '__basicsize__' of 'type' objects>, '__itemsize__': <member '__itemsize__' of 'type' objects>, '__flags__': <member '__flags__' of 'type' objects>, '__weakrefoffset__': <member '__weakrefoffset__' of 'type' objects>, '__base__': <member '__base__' of 'type' objects>, '__dictoffset__': <member '__dictoffset__' of 'type' objects>, '__name__': <attribute '__name__' of 'type' objects>, '__qualname__': <attribute '__qualname__' of 'type' objects>, '__bases__': <attribute '__bases__' of 'type' objects>, '__mro__': <attribute '__mro__' of 'type' objects>, '__module__': <attribute '__module__' of 'type' objects>, '__abstractmethods__': <attribute '__abstractmethods__' of 'type' objects>, '__dict__': <attribute '__dict__' of 'type' objects>, '__doc__': <attribute '__doc__' of 'type' objects>, '__text_signature__': <attribute '__text_signature__' of 'type' objects>, '__annotations__': <attribute '__annotations__' of 'type' objects>, '__type_params__': <attribute '__type_params__' of 'type' objects>}\n"
     ]
    }
   ],
   "source": [
    "class Test :\n",
    "    x = 5\n",
    "    def f1():\n",
    "        print(\"hello\")\n",
    "\n",
    "\n",
    "t1 = Test()\n",
    "t2 = Test()\n",
    "print(t1.x)\n",
    "print(t2.x)\n",
    "t1.x = 10\n",
    "print(t1.x)\n",
    "print(t2.x)\n",
    "print(Test.x)\n",
    "# print(t1.f1())\n",
    "# print(t2.f1())\n",
    "print(Test.f1())\n",
    "print(t1.__class__)\n",
    "print(t2.__class__)\n",
    "print(Test.__class__)\n",
    "print(t1.__class__.__name__)\n",
    "print(t2.__class__.__name__)\n",
    "print(Test.__class__.__name__)\n",
    "print(t1.__class__.__bases__)\n",
    "print(t2.__class__.__bases__)\n",
    "print(Test.__class__.__bases__)\n",
    "print(t1.__class__.__dict__)\n",
    "print(t2.__class__.__dict__)\n",
    "print(Test.__class__.__dict__)\n",
    "\n"
   ]
  },
  {
   "cell_type": "code",
   "execution_count": 13,
   "metadata": {},
   "outputs": [
    {
     "name": "stdout",
     "output_type": "stream",
     "text": [
      "a =  12\n",
      "b =  15\n",
      "a =  5\n",
      "b =  1\n",
      "10\n",
      "12 15\n",
      "5 1\n"
     ]
    }
   ],
   "source": [
    "class Test :\n",
    "    def __init__(self, a, b):\n",
    "        self.a = a\n",
    "        self.b = b\n",
    "   \n",
    "    def display(self):\n",
    "        print(\"a = \", self.a)\n",
    "        print(\"b = \", self.b)\n",
    "    \n",
    "    @staticmethod\n",
    "    def f2():\n",
    "        pass\n",
    "\n",
    "    @classmethod\n",
    "    def f3(cls):\n",
    "        print(cls.x)\n",
    "\n",
    "\n",
    "t1 = Test(12, 15)\n",
    "t2 = Test(5,1)\n",
    "t1.display()\n",
    "t2.display()\n",
    "\n",
    "Test.x = 10\n",
    "Test.f3()\n",
    "\n",
    "\n",
    "\n",
    "print(t1.a, t1.b)\n",
    "print(t2.a, t2.b)"
   ]
  },
  {
   "cell_type": "code",
   "execution_count": 18,
   "metadata": {},
   "outputs": [
    {
     "name": "stdout",
     "output_type": "stream",
     "text": [
      "102\n",
      "Smith\n",
      "60000\n",
      "101\n",
      "John\n",
      "50000\n"
     ]
    }
   ],
   "source": [
    "class Employee:\n",
    "    def __init__(self, empid=None, ename=None, esal=None):\n",
    "        self.empid = empid\n",
    "        self.ename = ename\n",
    "        self.esal = esal\n",
    "\n",
    "    def setEmpid(self, empid):\n",
    "        self.empid = empid\n",
    "    \n",
    "    def getEmpid(self):\n",
    "        return self.empid\n",
    "    \n",
    "    def setEname(self, ename):\n",
    "        self.ename = ename\n",
    "\n",
    "    def getEname(self):\n",
    "        return self.ename\n",
    "\n",
    "    def setEsal(self, esal):\n",
    "        self.esal = esal\n",
    "    \n",
    "    def getEsal(self):\n",
    "        return self.esal\n",
    "    \n",
    "\n",
    "e1 = Employee()\n",
    "e2 = Employee(101, \"John\", 50000)\n",
    "e1.setEmpid(102)\n",
    "e1.setEname(\"Smith\")\n",
    "e1.setEsal(60000)\n",
    "print(e1.getEmpid())\n",
    "print(e1.getEname())\n",
    "print(e1.getEsal())\n",
    "print(e2.getEmpid())\n",
    "print(e2.getEname())\n",
    "print(e2.getEsal())\n",
    "\n",
    "\n",
    "\n"
   ]
  },
  {
   "cell_type": "code",
   "execution_count": 1,
   "metadata": {},
   "outputs": [
    {
     "name": "stdout",
     "output_type": "stream",
     "text": [
      "Name:  John\n",
      "Age:  25\n"
     ]
    }
   ],
   "source": [
    "class Person:\n",
    "\n",
    "    def __init__(self, name, age):\n",
    "        self.name = name\n",
    "        self.age = age\n",
    "\n",
    "    def display(self):\n",
    "        print(\"Name: \", self.name)\n",
    "        print(\"Age: \", self.age)\n",
    "\n",
    "a = Person(\"John\", 25)\n",
    "a.display()"
   ]
  },
  {
   "cell_type": "markdown",
   "metadata": {},
   "source": [
    "##  Decorator"
   ]
  },
  {
   "cell_type": "code",
   "execution_count": 8,
   "metadata": {},
   "outputs": [
    {
     "name": "stdout",
     "output_type": "stream",
     "text": [
      "Good Morning\n",
      "Hello\n",
      "How are you\n",
      "Good Morning\n",
      "Good Morning\n",
      "30\n",
      "How are you\n",
      "How are you\n"
     ]
    }
   ],
   "source": [
    "def greet(fx):\n",
    "    def mfx(*args, **kwargs): \n",
    "        print(\"Good Morning\")\n",
    "        fx(*args, **kwargs) \n",
    "        print(\"How are you\")\n",
    "    return mfx\n",
    "\n",
    "\n",
    "@greet\n",
    "def hello():\n",
    "    print(\"Hello\")\n",
    "\n",
    "@greet\n",
    "def add(a, b):\n",
    "    print(a+b)\n",
    "\n",
    "hello()\n",
    "greet(add)(10, 20)"
   ]
  },
  {
   "cell_type": "code",
   "execution_count": null,
   "metadata": {},
   "outputs": [],
   "source": [
    "# @decorator_function\n",
    "# def my_function():\n",
    "#     pass"
   ]
  },
  {
   "cell_type": "code",
   "execution_count": 10,
   "metadata": {},
   "outputs": [
    {
     "data": {
      "text/plain": [
       "132"
      ]
     },
     "execution_count": 10,
     "metadata": {},
     "output_type": "execute_result"
    }
   ],
   "source": [
    "import logging\n",
    "\n",
    "def log_function(func):\n",
    "    def decorated(*args, **kwrgs):\n",
    "        logging.info(f\"Calling {func.__name__} with {args} and {kwrgs}\")\n",
    "        result = func(*args, **kwrgs)\n",
    "        logging.info(f\"Function returned {result}\")\n",
    "        return result\n",
    "    return decorated\n",
    "\n",
    "\n",
    "@log_function\n",
    "def add(a, b):\n",
    "    return a + b\n",
    "\n",
    "add(12, 120)\n",
    "        "
   ]
  },
  {
   "cell_type": "code",
   "execution_count": 21,
   "metadata": {},
   "outputs": [
    {
     "name": "stdout",
     "output_type": "stream",
     "text": [
      "10\n",
      "67\n"
     ]
    }
   ],
   "source": [
    "class MyClass:\n",
    "    def __init__(self, value): \n",
    "        self.value = value\n",
    "\n",
    "    def show(self):\n",
    "        print(self.value)\n",
    "\n",
    "    @property\n",
    "    def value(self):\n",
    "        return self._value\n",
    "\n",
    "    @value.setter\n",
    "    def value(self, value):\n",
    "        self._value = value\n",
    "    \n",
    "\n",
    "obj = MyClass(10)\n",
    "obj.ten_value = 67\n",
    "obj.show()\n",
    "print(obj.ten_value)\n"
   ]
  },
  {
   "cell_type": "code",
   "execution_count": 22,
   "metadata": {},
   "outputs": [
    {
     "name": "stdout",
     "output_type": "stream",
     "text": [
      "67.0\n",
      "Value is 6.7\n"
     ]
    }
   ],
   "source": [
    "class MyClass:\n",
    "  def __init__(self, value):\n",
    "      self._value = value\n",
    "    \n",
    "  def show(self):\n",
    "    print(f\"Value is {self._value}\")\n",
    "    \n",
    "  @property\n",
    "  def ten_value(self):\n",
    "      return 10* self._value\n",
    "    \n",
    "  @ten_value.setter\n",
    "  def ten_value(self, new_value):\n",
    "      self._value = new_value/10\n",
    "\n",
    "obj = MyClass(10)\n",
    "obj.ten_value = 67\n",
    "print(obj.ten_value)\n",
    "obj.show()"
   ]
  },
  {
   "cell_type": "markdown",
   "metadata": {},
   "source": [
    "## Inheritance"
   ]
  },
  {
   "cell_type": "code",
   "execution_count": 28,
   "metadata": {},
   "outputs": [
    {
     "name": "stdout",
     "output_type": "stream",
     "text": [
      "Name: Rohan babu, Age: 25, Salary: 50000\n",
      "Name: John, Age: 30, Salary: 60000\n",
      "Name: Smith, Age: 35, Salary: 70000\n",
      "I know Python, Java, C++\n"
     ]
    }
   ],
   "source": [
    "class Employee:\n",
    "    def __init__(self, name, age, salary):\n",
    "        self.name = name\n",
    "        self.age = age\n",
    "        self.salary = salary\n",
    "    \n",
    "    def show_detail(self):\n",
    "        print(f\"Name: {self.name}, Age: {self.age}, Salary: {self.salary}\")\n",
    "\n",
    "\n",
    "class Programmer(Employee):\n",
    "    def showLanguages(self):\n",
    "        print(\"I know Python, Java, C++\")\n",
    "\n",
    "\n",
    "e1 = Employee(\"Rohan babu\", 25, 50000)\n",
    "e1.show_detail()  \n",
    "e2 = Employee(\"John\", 30, 60000)\n",
    "e2.show_detail()    \n",
    "p1 = Programmer(\"Smith\", 35, 70000)\n",
    "p1.show_detail()\n",
    "p1.showLanguages()"
   ]
  },
  {
   "cell_type": "markdown",
   "metadata": {},
   "source": [
    "## Access Modifier"
   ]
  },
  {
   "cell_type": "code",
   "execution_count": 29,
   "metadata": {},
   "outputs": [],
   "source": [
    "class Employee :\n",
    "    pass\n",
    "\n",
    "a = Employee()\n",
    "a.emp1 = 101"
   ]
  },
  {
   "cell_type": "code",
   "execution_count": 31,
   "metadata": {},
   "outputs": [
    {
     "name": "stdout",
     "output_type": "stream",
     "text": [
      "Khushi\n"
     ]
    }
   ],
   "source": [
    "class Employee:\n",
    "    def __init__(self):\n",
    "        self.name = \"Khushi\"\n",
    "\n",
    "a = Employee()\n",
    "print(a.name)"
   ]
  },
  {
   "cell_type": "code",
   "execution_count": 36,
   "metadata": {},
   "outputs": [
    {
     "name": "stdout",
     "output_type": "stream",
     "text": [
      "Khushi\n",
      "['_Employee__name', '__module__', '__init__', '__dict__', '__weakref__', '__doc__', '__new__', '__repr__', '__hash__', '__str__', '__getattribute__', '__setattr__', '__delattr__', '__lt__', '__le__', '__eq__', '__ne__', '__gt__', '__ge__', '__reduce_ex__', '__reduce__', '__getstate__', '__subclasshook__', '__init_subclass__', '__format__', '__sizeof__', '__dir__', '__class__']\n"
     ]
    }
   ],
   "source": [
    "class Employee:\n",
    "    def __init__(self):\n",
    "        self.__name = \"Khushi\"\n",
    "\n",
    "a = Employee()\n",
    "# print(a.__name)\n",
    "print(a._Employee__name)\n",
    "\n",
    "print(a.__dir__())"
   ]
  },
  {
   "cell_type": "code",
   "execution_count": 41,
   "metadata": {},
   "outputs": [
    {
     "name": "stdout",
     "output_type": "stream",
     "text": [
      "Hello\n",
      "123\n"
     ]
    }
   ],
   "source": [
    "class Student:\n",
    "    def __init__(self):\n",
    "        self.__id = 123\n",
    "        self.__name = \"John\"\n",
    "\n",
    "    def _funName(self):\n",
    "        print(\"Hello\")\n",
    "\n",
    "class Subject(Student):\n",
    "    def __init__(self):\n",
    "        self.__subject = \"Python\"\n",
    "\n",
    "obj = Student()\n",
    "obj1 = Subject()\n",
    "\n",
    "\n",
    "obj._funName()\n",
    "# obj.__id\n",
    "print(obj._Student__id)"
   ]
  },
  {
   "cell_type": "markdown",
   "metadata": {},
   "source": [
    "## Snake Water Gun"
   ]
  },
  {
   "cell_type": "code",
   "execution_count": 45,
   "metadata": {},
   "outputs": [
    {
     "name": "stdout",
     "output_type": "stream",
     "text": [
      "Welcome to Snake, Water, Gun Game\n",
      "Computer's Turn: Snake(0), Water(1), Gun(2)\n",
      "Computer has chosen\n",
      "Now it's your turn\n",
      "Your Turn: Snake(0), Water(1), Gun(2)\n",
      "You lose\n"
     ]
    }
   ],
   "source": [
    "import random\n",
    "\n",
    "def game(comp, user):\n",
    "    if comp == user:\n",
    "        return None\n",
    "    elif comp == 0:\n",
    "        if user == 1:\n",
    "            return True\n",
    "        elif user == 2:\n",
    "            return False\n",
    "    elif comp == 1:\n",
    "        if user == 0:\n",
    "            return False\n",
    "        elif user == 2:\n",
    "            return True\n",
    "    elif comp == 2:\n",
    "        if user == 0:\n",
    "            return True\n",
    "        elif user == 1:\n",
    "            return False\n",
    "        \n",
    "print(\"Welcome to Snake, Water, Gun Game\")\n",
    "        \n",
    "print(\"Computer's Turn: Snake(0), Water(1), Gun(2)\")\n",
    "comp = random.randint(0, 2)\n",
    "print(\"Computer has chosen\")\n",
    "print(\"Now it's your turn\")\n",
    "print(\"Your Turn: Snake(0), Water(1), Gun(2)\")\n",
    "user = int(input(\"Enter your choice: \"))\n",
    "a = game(comp, user)\n",
    "if a == None:\n",
    "    print(\"Game is a tie\")\n",
    "elif a:\n",
    "    print(\"You win\")\n",
    "else:\n",
    "    print(\"You lose\")\n",
    "\n",
    "\n",
    "\n"
   ]
  },
  {
   "cell_type": "code",
   "execution_count": 48,
   "metadata": {},
   "outputs": [],
   "source": [
    "# ## Library Management System\n",
    "\n",
    "# no_of_books = 100\n",
    "# books = [\"Book1\", \"Book2\", \"Book3\", \"Book4\", \"Book5\"]\n",
    "# def display_books():\n",
    "#     print(\"Books available are: \")\n",
    "#     for book in books:\n",
    "#         print(book)\n",
    "#         display_books()\n",
    "\n",
    "# def lend_book():\n",
    "#     book = input(\"Enter the name of the book you want to lend: \")\n",
    "#     if book in books:\n",
    "#         print(\"You have successfully lend the book\")\n",
    "#         books.remove(book)\n",
    "#     else:\n",
    "#         print(\"Sorry, the book is not available\")\n",
    "#         print(\"Please choose another book\")\n",
    "#         lend_book()\n",
    "\n",
    "# def add_book():\n",
    "#     book = input(\"Enter the name of the book you want to add: \")\n",
    "#     books.append(book)\n",
    "#     print(\"Book has been successfully added\")\n",
    "#     display_books()\n",
    "\n",
    "# def return_book():\n",
    "#     book = input(\"Enter the name of the book you want to return: \")\n",
    "#     books.append(book)\n",
    "#     print(\"Book has been successfully returned\")\n",
    "#     display_books()\n",
    "\n",
    "# def menu():\n",
    "#     print(\"Library Management System\")\n",
    "#     print(\"1. Display all books\")\n",
    "#     print(\"2. Lend a book\")\n",
    "#     print(\"3. Add a book\")\n",
    "#     print(\"4. Return a book\")\n",
    "#     print(\"5. Exit\")\n",
    "#     choice = input(\"Enter your choice: \")\n",
    "#     if choice == \"1\":\n",
    "#         display_books()\n",
    "#         menu()\n",
    "#     elif choice == \"2\":\n",
    "#         lend_book()\n",
    "#         menu()\n",
    "#     elif choice == \"3\":\n",
    "#         add_book()\n",
    "#         menu()\n",
    "#     elif choice == \"4\":\n",
    "#         return_book()\n",
    "#         menu()\n",
    "#     elif choice == \"5\":\n",
    "#         exit()\n",
    "#     else:\n",
    "#         print(\"Invalid choice\")\n",
    "#         menu()\n",
    "\n",
    "\n",
    "    \n",
    "# menu()\n"
   ]
  },
  {
   "cell_type": "markdown",
   "metadata": {},
   "source": [
    "## Static Method"
   ]
  },
  {
   "cell_type": "code",
   "execution_count": 59,
   "metadata": {},
   "outputs": [
    {
     "name": "stdout",
     "output_type": "stream",
     "text": [
      "10\n",
      "16\n",
      "256\n",
      "30\n",
      "31\n"
     ]
    }
   ],
   "source": [
    "class Math:\n",
    "    def __init__(self, num):\n",
    "        self.num = num\n",
    "    \n",
    "    def square(self):\n",
    "        return self.num ** 2\n",
    "    \n",
    "    def add_num(self, n):\n",
    "        self.num = self.num + n\n",
    "    \n",
    "    @staticmethod\n",
    "    def add(a, b):\n",
    "        return a + b\n",
    "    \n",
    "\n",
    "a = Math(10)\n",
    "# print(m.square())\n",
    "print(a.num)\n",
    "a.add_num(6)\n",
    "print(a.num)\n",
    "print(a.square())\n",
    "print(a.add(10, 20))\n",
    "print(Math.add(11, 20))\n",
    "\n",
    "\n",
    "\n"
   ]
  },
  {
   "cell_type": "code",
   "execution_count": null,
   "metadata": {},
   "outputs": [
    {
     "name": "stdout",
     "output_type": "stream",
     "text": [
      "a =  12\n",
      "b =  15\n",
      "a =  5\n",
      "b =  1\n",
      "10\n",
      "12 15\n",
      "5 1\n"
     ]
    }
   ],
   "source": [
    "class Test :\n",
    "    def __init__(self, a, b):\n",
    "        self.a = a\n",
    "        self.b = b\n",
    "   \n",
    "    def display(self):\n",
    "        print(\"a = \", self.a)\n",
    "        print(\"b = \", self.b)\n",
    "    \n",
    "    @staticmethod\n",
    "    def f2():\n",
    "        pass\n",
    "\n",
    "    @classmethod\n",
    "    def f3(cls):\n",
    "        print(cls.x)\n",
    "\n",
    "\n",
    "t1 = Test(12, 15)\n",
    "t2 = Test(5,1)\n",
    "t1.display()\n",
    "t2.display()\n",
    "\n",
    "Test.x = 10\n",
    "Test.f3()\n",
    "\n",
    "\n",
    "\n",
    "print(t1.a, t1.b)\n",
    "print(t2.a, t2.b)"
   ]
  },
  {
   "cell_type": "code",
   "execution_count": null,
   "metadata": {},
   "outputs": [
    {
     "name": "stdout",
     "output_type": "stream",
     "text": [
      "a =  12\n",
      "b =  15\n",
      "a =  5\n",
      "b =  1\n",
      "10\n",
      "12 15\n",
      "5 1\n"
     ]
    }
   ],
   "source": [
    "class Test :\n",
    "    def __init__(self, a, b):\n",
    "        self.a = a\n",
    "        self.b = b\n",
    "   \n",
    "    def display(self):\n",
    "        print(\"a = \", self.a)\n",
    "        print(\"b = \", self.b)\n",
    "    \n",
    "    @staticmethod\n",
    "    def f2():\n",
    "        pass\n",
    "\n",
    "    @classmethod\n",
    "    def f3(cls):\n",
    "        print(cls.x)\n",
    "\n",
    "\n",
    "t1 = Test(12, 15)\n",
    "t2 = Test(5,1)\n",
    "t1.display()\n",
    "t2.display()\n",
    "\n",
    "Test.x = 10\n",
    "Test.f3()\n",
    "\n",
    "\n",
    "\n",
    "print(t1.a, t1.b)\n",
    "print(t2.a, t2.b)"
   ]
  },
  {
   "cell_type": "code",
   "execution_count": null,
   "metadata": {},
   "outputs": [
    {
     "name": "stdout",
     "output_type": "stream",
     "text": [
      "a =  12\n",
      "b =  15\n",
      "a =  5\n",
      "b =  1\n",
      "10\n",
      "12 15\n",
      "5 1\n"
     ]
    }
   ],
   "source": [
    "class Test :\n",
    "    def __init__(self, a, b):\n",
    "        self.a = a\n",
    "        self.b = b\n",
    "   \n",
    "    def display(self):\n",
    "        print(\"a = \", self.a)\n",
    "        print(\"b = \", self.b)\n",
    "    \n",
    "    @staticmethod\n",
    "    def f2():\n",
    "        pass\n",
    "\n",
    "    @classmethod\n",
    "    def f3(cls):\n",
    "        print(cls.x)\n",
    "\n",
    "\n",
    "t1 = Test(12, 15)\n",
    "t2 = Test(5,1)\n",
    "t1.display()\n",
    "t2.display()\n",
    "\n",
    "Test.x = 10\n",
    "Test.f3()\n",
    "\n",
    "\n",
    "\n",
    "print(t1.a, t1.b)\n",
    "print(t2.a, t2.b)"
   ]
  },
  {
   "cell_type": "markdown",
   "metadata": {},
   "source": [
    "## Class"
   ]
  },
  {
   "cell_type": "code",
   "execution_count": 1,
   "metadata": {},
   "outputs": [],
   "source": [
    "class Student:\n",
    "    name = \"John Doe\"\n",
    "    "
   ]
  },
  {
   "cell_type": "code",
   "execution_count": 3,
   "metadata": {},
   "outputs": [
    {
     "name": "stdout",
     "output_type": "stream",
     "text": [
      "John Doe\n",
      "<__main__.Student object at 0x0000021819891F70>\n"
     ]
    }
   ],
   "source": [
    "s1 = Student()\n",
    "print(s1.name)\n",
    "print(s1)"
   ]
  },
  {
   "cell_type": "code",
   "execution_count": 4,
   "metadata": {},
   "outputs": [
    {
     "name": "stdout",
     "output_type": "stream",
     "text": [
      "John Doe\n",
      "<__main__.Student object at 0x00000218198938C0>\n"
     ]
    }
   ],
   "source": [
    "s2 = Student()\n",
    "print(s2.name)\n",
    "print(s2)"
   ]
  },
  {
   "cell_type": "code",
   "execution_count": 5,
   "metadata": {},
   "outputs": [
    {
     "name": "stdout",
     "output_type": "stream",
     "text": [
      "Red\n",
      "Sedan\n"
     ]
    }
   ],
   "source": [
    "class Car:\n",
    "    color = \"Red\"\n",
    "    model = \"Sedan\"\n",
    "\n",
    "car1 = Car()\n",
    "print(car1.color)\n",
    "print(car1.model)\n"
   ]
  },
  {
   "cell_type": "markdown",
   "metadata": {},
   "source": [
    "## Constructor"
   ]
  },
  {
   "cell_type": "code",
   "execution_count": 15,
   "metadata": {},
   "outputs": [
    {
     "name": "stdout",
     "output_type": "stream",
     "text": [
      "Constructor called\n",
      "Constructor called\n",
      "John Doe 20 85\n",
      "Khushi 22 90\n",
      "ABC University\n",
      "ABC University\n"
     ]
    }
   ],
   "source": [
    "class Student:\n",
    "    college_name = \"ABC University\"\n",
    "    name = \"John Doe\" # class attribute\n",
    "    # Default constructor\n",
    "    def __init__(self):\n",
    "        pass\n",
    "    # Parameterized constructor\n",
    "    def __init__(self, fullname, age, marks):\n",
    "        print(\"Constructor called\")\n",
    "        self.name = fullname  # obj attr  > class attr\n",
    "        self.age = age\n",
    "        self.marks = marks\n",
    "\n",
    "    \n",
    "s1 = Student(\"John Doe\", 20, 85)\n",
    "s2 = Student(\"Khushi\", 22, 90)\n",
    "\n",
    "print(s1.name, s1.age, s1.marks)\n",
    "print(s2.name, s2.age, s2.marks)\n",
    "print(s1.college_name)\n",
    "print(Student.college_name)  # Accessing class variable directly\n"
   ]
  },
  {
   "cell_type": "markdown",
   "metadata": {},
   "source": [
    "## Method"
   ]
  },
  {
   "cell_type": "code",
   "execution_count": 19,
   "metadata": {},
   "outputs": [
    {
     "name": "stdout",
     "output_type": "stream",
     "text": [
      "Constructor called\n",
      "Constructor called\n",
      "John Doe 20 85\n",
      "Khushi 22 90\n",
      "ABC University\n",
      "Name: John Doe, Age: 20, Marks: 85\n",
      "None\n",
      "Welcome Khushi to ABC University\n",
      "None\n",
      "85\n"
     ]
    }
   ],
   "source": [
    "class Student:\n",
    "    college_name = \"ABC University\"\n",
    "    name = \"John Doe\" # class attribute\n",
    "    # Default constructor\n",
    "    def __init__(self):\n",
    "        pass\n",
    "    # Parameterized constructor\n",
    "    def __init__(self, fullname, age, marks):\n",
    "        print(\"Constructor called\")\n",
    "        self.name = fullname  # obj attr  > class attr\n",
    "        self.age = age\n",
    "        self.marks = marks\n",
    "\n",
    "    # method\n",
    "    def display(self):\n",
    "        print(f\"Name: {self.name}, Age: {self.age}, Marks: {self.marks}\")\n",
    "    def welcome(self):\n",
    "        print(f\"Welcome {self.name} to {Student.college_name}\")\n",
    "    def get_marks(self):\n",
    "        return self.marks\n",
    "    \n",
    "s1 = Student(\"John Doe\", 20, 85)\n",
    "s2 = Student(\"Khushi\", 22, 90) \n",
    "print(s1.name, s1.age, s1.marks)\n",
    "print(s2.name, s2.age, s2.marks)\n",
    "print(s1.college_name)\n",
    "print(s1.display())  # Calling method on object\n",
    "print(s2.welcome())  # Calling method on object\n",
    "print(s1.get_marks())  # Calling method on object"
   ]
  },
  {
   "cell_type": "code",
   "execution_count": 30,
   "metadata": {},
   "outputs": [
    {
     "name": "stdout",
     "output_type": "stream",
     "text": [
      "hi Khushi your avg score is : 84.33333333333333\n"
     ]
    }
   ],
   "source": [
    "class Student:\n",
    "    def __init__(self, name, marks):\n",
    "        self.name = name\n",
    "        self.marks = marks\n",
    "\n",
    "    def display(self):\n",
    "        print(f\"Name: {self.name}, Age: {self.age}\")\n",
    "    \n",
    "    def get_avg(self):\n",
    "        sum = 0\n",
    "        for val in self.marks:\n",
    "            sum += val\n",
    "        print(\"hi\", self.name , \"your avg score is :\", sum/len(self.marks))\n",
    "\n",
    "s1 = Student(\"John Doe\", [85, 90, 78])\n",
    "# s1.marks = [85, 90, 78]\n",
    "# s1.display()\n",
    "s1.name = \"Khushi\"\n",
    "s1.get_avg()"
   ]
  },
  {
   "cell_type": "markdown",
   "metadata": {},
   "source": [
    "## Static Method"
   ]
  },
  {
   "cell_type": "code",
   "execution_count": 31,
   "metadata": {},
   "outputs": [
    {
     "name": "stdout",
     "output_type": "stream",
     "text": [
      "ABC University\n"
     ]
    }
   ],
   "source": [
    "class Student:\n",
    "    @staticmethod\n",
    "    def college():\n",
    "        return \"ABC University\"\n",
    "\n",
    "\n",
    "s1 = Student()\n",
    "print(s1.college())  # Calling static method on object\n",
    "    "
   ]
  },
  {
   "cell_type": "markdown",
   "metadata": {},
   "source": [
    "## Abstraction"
   ]
  },
  {
   "cell_type": "code",
   "execution_count": 32,
   "metadata": {},
   "outputs": [
    {
     "name": "stdout",
     "output_type": "stream",
     "text": [
      "Car started\n"
     ]
    }
   ],
   "source": [
    "class Car:\n",
    "    def __init__(self):\n",
    "        self.acc = False\n",
    "        self.brake = False\n",
    "        self.clutch = False\n",
    "\n",
    "    def start(self):\n",
    "        self.acc = True\n",
    "        self.acc = True\n",
    "        print(\"Car started\")\n",
    "\n",
    "\n",
    "car1 = Car()\n",
    "car1.start()\n"
   ]
  },
  {
   "cell_type": "markdown",
   "metadata": {},
   "source": [
    "## Encapsulation  --- Wrapped data and function into unit  ( Object like all we do above is encapuslation)"
   ]
  },
  {
   "cell_type": "code",
   "execution_count": 38,
   "metadata": {},
   "outputs": [
    {
     "name": "stdout",
     "output_type": "stream",
     "text": [
      "Account 12345 has balance: 10000\n",
      "Debited 200 from account 12345. New balance: 9800\n",
      "Account 12345 has balance: 9800\n",
      "Credited 500 to account 12345. New balance: 10300\n",
      "Account 12345 has balance: 10300\n"
     ]
    }
   ],
   "source": [
    "class Account:\n",
    "    def __init__(self, bal, acc):\n",
    "        self.bal = bal\n",
    "        self.acc = acc\n",
    "\n",
    "    # debit methos\n",
    "    def debit(self, amount):\n",
    "        self.bal -= amount\n",
    "        print(f\"Debited {amount} from account {self.acc}. New balance: {self.bal}\")\n",
    "    # credit method\n",
    "    def credit(self, amount):\n",
    "        self.bal += amount\n",
    "        print(f\"Credited {amount} to account {self.acc}. New balance: {self.bal}\")\n",
    "    \n",
    "    def display_balance(self):\n",
    "        print(f\"Account {self.acc} has balance: {self.bal}\")\n",
    "\n",
    "\n",
    "\n",
    "\n",
    "\n",
    "acc1 = Account(10000, \"12345\")\n",
    "acc2 = Account(20000, \"67890\")\n",
    "acc1.display_balance()\n",
    "acc1.debit(200)\n",
    "acc1.display_balance()\n",
    "acc1.credit(500)\n",
    "acc1.display_balance()\n",
    "\n"
   ]
  },
  {
   "cell_type": "code",
   "execution_count": 39,
   "metadata": {},
   "outputs": [
    {
     "ename": "NameError",
     "evalue": "name 'acc1' is not defined",
     "output_type": "error",
     "traceback": [
      "\u001b[1;31m---------------------------------------------------------------------------\u001b[0m",
      "\u001b[1;31mNameError\u001b[0m                                 Traceback (most recent call last)",
      "Cell \u001b[1;32mIn[39], line 25\u001b[0m\n\u001b[0;32m     23\u001b[0m acc2 \u001b[38;5;241m=\u001b[39m Account(\u001b[38;5;241m20000\u001b[39m, \u001b[38;5;124m\"\u001b[39m\u001b[38;5;124m67890\u001b[39m\u001b[38;5;124m\"\u001b[39m)\n\u001b[0;32m     24\u001b[0m \u001b[38;5;28;01mdel\u001b[39;00m acc1\n\u001b[1;32m---> 25\u001b[0m \u001b[43macc1\u001b[49m\u001b[38;5;241m.\u001b[39mdisplay_balance()\n\u001b[0;32m     26\u001b[0m acc1\u001b[38;5;241m.\u001b[39mdebit(\u001b[38;5;241m200\u001b[39m)\n\u001b[0;32m     27\u001b[0m acc1\u001b[38;5;241m.\u001b[39mdisplay_balance()\n",
      "\u001b[1;31mNameError\u001b[0m: name 'acc1' is not defined"
     ]
    }
   ],
   "source": [
    "class Account:\n",
    "    def __init__(self, bal, acc):\n",
    "        self.bal = bal\n",
    "        self.acc = acc\n",
    "\n",
    "    # debit methos\n",
    "    def debit(self, amount):\n",
    "        self.bal -= amount\n",
    "        print(f\"Debited {amount} from account {self.acc}. New balance: {self.bal}\")\n",
    "    # credit method\n",
    "    def credit(self, amount):\n",
    "        self.bal += amount\n",
    "        print(f\"Credited {amount} to account {self.acc}. New balance: {self.bal}\")\n",
    "    \n",
    "    def display_balance(self):\n",
    "        print(f\"Account {self.acc} has balance: {self.bal}\")\n",
    "\n",
    "\n",
    "\n",
    "\n",
    "\n",
    "acc1 = Account(10000, \"12345\")\n",
    "acc2 = Account(20000, \"67890\")\n",
    "del acc1\n",
    "acc1.display_balance()\n",
    "acc1.debit(200)\n",
    "acc1.display_balance()\n",
    "acc1.credit(500)\n",
    "acc1.display_balance()\n",
    "\n"
   ]
  },
  {
   "cell_type": "markdown",
   "metadata": {},
   "source": [
    "## Private class"
   ]
  },
  {
   "cell_type": "code",
   "execution_count": 45,
   "metadata": {},
   "outputs": [
    {
     "name": "stdout",
     "output_type": "stream",
     "text": [
      "12345\n",
      "password123\n"
     ]
    }
   ],
   "source": [
    "class Account:\n",
    "    def __init__(self, acc, acc_pass):\n",
    "        self.acc = acc\n",
    "        self.__acc_pass = acc_pass \n",
    "    def reset_password(self):\n",
    "        print(self.__acc_pass)\n",
    "    \n",
    "acc1 = Account(\"12345\", \"password123\")\n",
    "\n",
    "print(acc1.acc)  # Accessing public attribute\n",
    "# print(acc1.__acc_pass)  # Accessing private attribute (not recommended, but possible)\n",
    "acc1.reset_password()  # Accessing private method"
   ]
  },
  {
   "cell_type": "code",
   "execution_count": 53,
   "metadata": {},
   "outputs": [
    {
     "name": "stdout",
     "output_type": "stream",
     "text": [
      "Welcome to the Person class\n",
      "Hello from Person class\n",
      "None\n"
     ]
    }
   ],
   "source": [
    "class Person:\n",
    "    __name = \"aanya\"\n",
    "\n",
    "    def __hello(self):\n",
    "        print(\"Hello from Person class\")\n",
    "    \n",
    "    def welcome(self):\n",
    "        print(\"Welcome to the Person class\")\n",
    "        self.__hello()\n",
    "\n",
    "p1 = Person()\n",
    "# print(p1.__name)\n",
    "# print(p1.__hello())  # This will raise an error because __hello is private\n",
    "print(p1.welcome())"
   ]
  },
  {
   "cell_type": "markdown",
   "metadata": {},
   "source": [
    "## Inheritance\n",
    "\n",
    "### sINGLE iNHERITANCE"
   ]
  },
  {
   "cell_type": "code",
   "execution_count": null,
   "metadata": {},
   "outputs": [],
   "source": []
  },
  {
   "cell_type": "code",
   "execution_count": null,
   "metadata": {},
   "outputs": [
    {
     "name": "stdout",
     "output_type": "stream",
     "text": [
      "Car started\n",
      "Car stopped\n"
     ]
    },
    {
     "data": {
      "text/plain": [
       "'black'"
      ]
     },
     "execution_count": 57,
     "metadata": {},
     "output_type": "execute_result"
    }
   ],
   "source": [
    "class Car:\n",
    "    @staticmethod\n",
    "    def start():\n",
    "        print(\"Car started\")\n",
    "    \n",
    "    @staticmethod\n",
    "    def stop():\n",
    "        print(\"Car stopped\")\n",
    "\n",
    "class ToyataCar(Car):\n",
    "    def __init__(self, name):\n",
    "        self.name = name\n",
    "\n",
    "car1 = ToyataCar(\"Corolla\")\n",
    "car2 = ToyataCar(\"Camry\")\n",
    "car1.start()  # Calling static method from parent class\n",
    "car2.stop()  # Calling static method from parent class\n",
    "car1.color  # Changing class variable for car1\n"
   ]
  },
  {
   "cell_type": "code",
   "execution_count": 58,
   "metadata": {},
   "outputs": [
    {
     "name": "stdout",
     "output_type": "stream",
     "text": [
      "Car started\n",
      "Car stopped\n"
     ]
    }
   ],
   "source": [
    "class Car:\n",
    "    @staticmethod\n",
    "    def start():\n",
    "        print(\"Car started\")\n",
    "    \n",
    "    @staticmethod\n",
    "    def stop():\n",
    "        print(\"Car stopped\")\n",
    "\n",
    "class ToyataCar(Car):\n",
    "    def __init__(self, name):\n",
    "        self.name = name\n",
    "\n",
    "class Fortuner(ToyataCar):\n",
    "    def __init__(self, name):\n",
    "        super().__init__(name)  # Call parent class constructor\n",
    "        self.type = type\n",
    "\n",
    "car1 = Fortuner(\"Fortuner\")\n",
    "car1.start()  # Calling static method from parent class\n",
    "car1.stop()  # Calling static method from parent class"
   ]
  },
  {
   "cell_type": "markdown",
   "metadata": {},
   "source": [
    "## Multiple Inheritence"
   ]
  },
  {
   "cell_type": "code",
   "execution_count": 59,
   "metadata": {},
   "outputs": [
    {
     "name": "stdout",
     "output_type": "stream",
     "text": [
      "Wlcome to class A\n",
      "Wlcome to class B\n",
      "Wlcome to class C\n"
     ]
    }
   ],
   "source": [
    "class A:\n",
    "    varA = \"Wlcome to class A\"\n",
    "class B:\n",
    "    varB = \"Wlcome to class B\"\n",
    "class C(A, B):\n",
    "    varC = \"Wlcome to class C\"\n",
    "\n",
    "\n",
    "c1 = C()\n",
    "print(c1.varA)\n",
    "print(c1.varB)\n",
    "print(c1.varC)\n"
   ]
  },
  {
   "cell_type": "markdown",
   "metadata": {},
   "source": [
    "## Super()"
   ]
  },
  {
   "cell_type": "code",
   "execution_count": 62,
   "metadata": {},
   "outputs": [
    {
     "name": "stdout",
     "output_type": "stream",
     "text": [
      "electric\n"
     ]
    }
   ],
   "source": [
    "class Car:\n",
    "    def __init__(self, type):\n",
    "        self.type = type\n",
    "\n",
    "    @staticmethod\n",
    "    def start():\n",
    "        print(\"Car started\")\n",
    "    \n",
    "    @staticmethod\n",
    "    def stop():\n",
    "        print(\"Car stopped\")\n",
    "\n",
    "class ToyataCar(Car):\n",
    "    def __init__(self, name, type):\n",
    "        self.name = name\n",
    "        super().__init__(type)\n",
    "\n",
    "car1 = ToyataCar(\"Corolla\", \"electric\")\n",
    "print(car1.type)"
   ]
  },
  {
   "cell_type": "markdown",
   "metadata": {},
   "source": [
    "## Class method"
   ]
  },
  {
   "cell_type": "code",
   "execution_count": 68,
   "metadata": {},
   "outputs": [
    {
     "name": "stdout",
     "output_type": "stream",
     "text": [
      "Name changed to Khushi\n",
      "Khushi\n",
      "Khushi\n"
     ]
    }
   ],
   "source": [
    "class Person:\n",
    "    name = \"John Doe\"\n",
    "\n",
    "    @classmethod\n",
    "    def changeName(self, new_name):\n",
    "        self.name = new_name\n",
    "        print(f\"Name changed to {self.name}\")\n",
    "\n",
    "p1 = Person()\n",
    "p1.changeName(\"Khushi\")\n",
    "print(p1.name)\n",
    "print(Person.name)  # Accessing class variable directly"
   ]
  },
  {
   "cell_type": "markdown",
   "metadata": {},
   "source": [
    "## @Property"
   ]
  },
  {
   "cell_type": "code",
   "execution_count": 84,
   "metadata": {},
   "outputs": [
    {
     "name": "stdout",
     "output_type": "stream",
     "text": [
      "91.0%\n",
      "88.0%\n"
     ]
    }
   ],
   "source": [
    "class Student:\n",
    "    def __init__(self, phy, chem, math):\n",
    "        self.phy = phy\n",
    "        self.chem = chem\n",
    "        self.math = math\n",
    "    \n",
    "    # def calculate_percentage(self):\n",
    "    #     self.percentage = str((self.phy + self.chem + self.math) / 3) + \"%\"\n",
    "    @property\n",
    "    def percentage(self):\n",
    "        return str((self.phy + self.chem + self.math) / 3) + \"%\"\n",
    "    \n",
    "\n",
    "s1 = Student(99, 96, 78)\n",
    "print(s1.percentage)\n",
    "# s1.calculate_percentage()  # This will update the percentage based on current marks\n",
    "s1.phy = 90  # Changing the value of phy\n",
    "# print(s1.phy)\n",
    "# s1.calculate_percentage()  # This will update the percentage based on current marks\n",
    "print(s1.percentage)  # This will still show the old percentage because we didn't update it\n"
   ]
  },
  {
   "cell_type": "markdown",
   "metadata": {},
   "source": [
    "## Polymorphism\n",
    "\n",
    "### Operator Overloading"
   ]
  },
  {
   "cell_type": "code",
   "execution_count": 92,
   "metadata": {},
   "outputs": [
    {
     "name": "stdout",
     "output_type": "stream",
     "text": [
      "5 i + 6 j\n",
      "10 i + 20 j\n",
      "-5 i + -14 j\n"
     ]
    }
   ],
   "source": [
    "class Complex:\n",
    "    def __init__(self, real, img):\n",
    "        self.real = real\n",
    "        self.img = img\n",
    "\n",
    "    def showNumber(self):\n",
    "        print(self.real, \"i +\", self.img, \"j\")\n",
    "\n",
    "    def __add__(self, other):\n",
    "        return Complex(self.real + other.real, self.img + other.img)\n",
    "    # def add(self, num2):\n",
    "    #     new_real = self.real + num2.real\n",
    "    #     new_img = self.img + num2.img\n",
    "    #     return Complex(new_real, new_img)\n",
    "    def __sub__(self, other):\n",
    "        return Complex(self.real - other.real , self.img - other.img)\n",
    "\n",
    "\n",
    "\n",
    "c1 = Complex(5, 6)\n",
    "c1.showNumber()\n",
    "\n",
    "c2 = Complex(10, 20)\n",
    "c2.showNumber()\n",
    "\n",
    "c3 = c1 - c2\n",
    "c3.showNumber()"
   ]
  },
  {
   "cell_type": "code",
   "execution_count": 94,
   "metadata": {},
   "outputs": [
    {
     "name": "stdout",
     "output_type": "stream",
     "text": [
      "78.5\n",
      "31.400000000000002\n"
     ]
    }
   ],
   "source": [
    "class Circle:\n",
    "    def __init__(self, radius):\n",
    "        self.radius = radius\n",
    "    \n",
    "    def area(self):\n",
    "        return 3.14 * self.radius * self.radius\n",
    "    def perimeter(self):\n",
    "        return 2 * 3.14 * self.radius\n",
    "    \n",
    "    \n",
    "c1 = Circle(5)\n",
    "print(c1.area())\n",
    "print(c1.perimeter())"
   ]
  },
  {
   "cell_type": "code",
   "execution_count": 95,
   "metadata": {},
   "outputs": [
    {
     "name": "stdout",
     "output_type": "stream",
     "text": [
      "True\n"
     ]
    }
   ],
   "source": [
    "class Order:\n",
    "    def __init__(self, item, price):\n",
    "        self.item = item\n",
    "        self.price = price\n",
    "\n",
    "    def __gt__(self, odr2):\n",
    "        return self.price > odr2.price\n",
    "\n",
    "odr1 = Order(\"Book\", 500)\n",
    "odr2 = Order(\"Pen\", 20)\n",
    "\n",
    "print(odr1 > odr2)  # This will call the __gt__ method\n"
   ]
  },
  {
   "cell_type": "markdown",
   "metadata": {},
   "source": [
    "### Method Overriding\n"
   ]
  },
  {
   "cell_type": "code",
   "execution_count": 96,
   "metadata": {},
   "outputs": [
    {
     "name": "stdout",
     "output_type": "stream",
     "text": [
      "Cat meows\n",
      "None\n",
      "Dog barks\n",
      "None\n"
     ]
    }
   ],
   "source": [
    "class Animal:\n",
    "    def speak(self):\n",
    "        print(\"Animal speaks\")\n",
    "\n",
    "class Cat(Animal):\n",
    "    def speak(self):\n",
    "        print(\"Cat meows\")\n",
    "\n",
    "class Dog(Animal):\n",
    "    def speak(self):\n",
    "        print(\"Dog barks\")\n",
    "\n",
    "def animal_sound(animal):\n",
    "    print(animal.speak())\n",
    "\n",
    "my_cat = Cat()\n",
    "my_dog = Dog()\n",
    "\n",
    "animal_sound(my_cat)  # This will call the speak method of Cat class\n",
    "animal_sound(my_dog)  # This will call the speak method of Dog class"
   ]
  },
  {
   "cell_type": "markdown",
   "metadata": {},
   "source": [
    "### abstract method\n",
    "An abstract method is a method that is declared in a base class but has no implementation. It acts as a placeholder, forcing any child class that inherits from the base class to provide its own implementation for that method.\n",
    "\n",
    "In Python, you create abstract methods using the abc (Abstract Base Classes) module.\n",
    "\n",
    "How to Create an Abstract Method\n",
    "Import ABC and abstractmethod from the abc module.\n",
    "\n",
    "Make the base class inherit from ABC.\n",
    "\n",
    "Decorate the abstract method with @abstractmethod.\n",
    "\n",
    "This ensures that any object created from a child class must have an implementation for the decorated method.\n",
    "\n",
    "Example 🚗\n",
    "In this example, Vehicle is an abstract class with an abstract method drive(). The Car and Motorcycle classes are forced to implement their own versions of drive().\n",
    "\n"
   ]
  },
  {
   "cell_type": "code",
   "execution_count": 97,
   "metadata": {},
   "outputs": [
    {
     "name": "stdout",
     "output_type": "stream",
     "text": [
      "The Toyota car is driving on four wheels.\n",
      "The Honda motorcycle is driving on two wheels.\n"
     ]
    }
   ],
   "source": [
    "from abc import ABC, abstractmethod\n",
    "\n",
    "# Create an abstract base class\n",
    "class Vehicle(ABC):\n",
    "    def __init__(self, make):\n",
    "        self.make = make\n",
    "\n",
    "    @abstractmethod\n",
    "    def drive(self):\n",
    "        # This method has no implementation here\n",
    "        pass\n",
    "\n",
    "# Create a child class that implements the abstract method\n",
    "class Car(Vehicle):\n",
    "    def drive(self):\n",
    "        return f\"The {self.make} car is driving on four wheels.\"\n",
    "\n",
    "# Create another child class\n",
    "class Motorcycle(Vehicle):\n",
    "    def drive(self):\n",
    "        return f\"The {self.make} motorcycle is driving on two wheels.\"\n",
    "\n",
    "# --- Usage ---\n",
    "my_car = Car(\"Toyota\")\n",
    "my_motorcycle = Motorcycle(\"Honda\")\n",
    "\n",
    "print(my_car.drive())\n",
    "# Output: The Toyota car is driving on four wheels.\n",
    "\n",
    "print(my_motorcycle.drive())\n",
    "# Output: The Honda motorcycle is driving on two wheels.\n",
    "\n",
    "# You cannot create an instance of an abstract class itself\n",
    "# The following line would cause a TypeError\n",
    "# my_vehicle = Vehicle(\"Ford\")"
   ]
  },
  {
   "cell_type": "markdown",
   "metadata": {},
   "source": [
    "# Guess The Number"
   ]
  },
  {
   "cell_type": "code",
   "execution_count": 103,
   "metadata": {},
   "outputs": [
    {
     "name": "stdout",
     "output_type": "stream",
     "text": [
      "Welcome to Guess The Number Game\n",
      "Too high! Try again.\n",
      "Too low! Try again.\n",
      "You chose to quit the game.\n",
      "Game Over\n"
     ]
    }
   ],
   "source": [
    "import random\n",
    "target = random.randint(1, 100)\n",
    "print(\"Welcome to Guess The Number Game\")\n",
    "\n",
    "while True:\n",
    "    user_input = input(\"Enter a number between 1 and 100 or Quit(Q): \")\n",
    "    if user_input == 'Q' or user_input == 'q':\n",
    "        print(\"You chose to quit the game.\")\n",
    "        break\n",
    "    try:\n",
    "        userChoice = int(user_input)\n",
    "    except ValueError:\n",
    "        print(\"Invalid input. Please enter a number or Q to quit.\")\n",
    "        continue\n",
    "    if userChoice < target:\n",
    "        print(\"Too low! Try again.\")\n",
    "    elif userChoice > target:\n",
    "        print(\"Too high! Try again.\")\n",
    "    else:\n",
    "        print(\"Congratulations! You've guessed the number!\")\n",
    "        break\n",
    "\n",
    "print(\"Game Over\")"
   ]
  },
  {
   "cell_type": "markdown",
   "metadata": {},
   "source": [
    "## Random Password Generator"
   ]
  },
  {
   "cell_type": "code",
   "execution_count": 111,
   "metadata": {},
   "outputs": [
    {
     "name": "stdout",
     "output_type": "stream",
     "text": [
      "Generated Password:  AKmj8}Y6gK\\'\n"
     ]
    }
   ],
   "source": [
    "import random\n",
    "import string\n",
    "\n",
    "pass_len = 12\n",
    "char_val = string.punctuation + string.digits + string.ascii_letters \n",
    "\n",
    "# password = \"\"\n",
    "# for i in range(pass_len):\n",
    "#     password += random.choice(char_val)\n",
    "\n",
    "#List Comprehension [funciton for i in range(n)]\n",
    "res = \"\".join([random.choice(char_val) for i in range(pass_len)])\n",
    "\n",
    "print(\"Generated Password: \", res)\n",
    "\n",
    "\n"
   ]
  },
  {
   "cell_type": "code",
   "execution_count": null,
   "metadata": {},
   "outputs": [],
   "source": []
  }
 ],
 "metadata": {
  "kernelspec": {
   "display_name": "Python 3",
   "language": "python",
   "name": "python3"
  },
  "language_info": {
   "codemirror_mode": {
    "name": "ipython",
    "version": 3
   },
   "file_extension": ".py",
   "mimetype": "text/x-python",
   "name": "python",
   "nbconvert_exporter": "python",
   "pygments_lexer": "ipython3",
   "version": "3.12.3"
  }
 },
 "nbformat": 4,
 "nbformat_minor": 2
}
