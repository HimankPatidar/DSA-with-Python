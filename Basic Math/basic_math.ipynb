{
 "cells": [
  {
   "cell_type": "markdown",
   "metadata": {},
   "source": [
    "# Basic Math"
   ]
  },
  {
   "cell_type": "markdown",
   "metadata": {},
   "source": [
    "### Count Digit"
   ]
  },
  {
   "cell_type": "code",
   "execution_count": 2,
   "metadata": {},
   "outputs": [
    {
     "name": "stdout",
     "output_type": "stream",
     "text": [
      "4\n"
     ]
    }
   ],
   "source": [
    "N = 7789\n",
    "count = 0\n",
    "while N > 0 :\n",
    "    N = N // 10\n",
    "    count += 1\n",
    "print(count)\n"
   ]
  },
  {
   "cell_type": "code",
   "execution_count": 3,
   "metadata": {},
   "outputs": [
    {
     "name": "stdout",
     "output_type": "stream",
     "text": [
      "4\n"
     ]
    }
   ],
   "source": [
    "def count_digit(N):\n",
    "    if N == 0:\n",
    "        return 1\n",
    "    count = 0\n",
    "    N = abs(N) # Handle Negative Numbers\n",
    "    while N > 0:\n",
    "        N = N // 10\n",
    "        count += 1\n",
    "    return count\n",
    "\n",
    "print(count_digit(7789)) # 4"
   ]
  },
  {
   "cell_type": "markdown",
   "metadata": {},
   "source": [
    "## Reverse a Number"
   ]
  },
  {
   "cell_type": "code",
   "execution_count": 7,
   "metadata": {},
   "outputs": [
    {
     "name": "stdout",
     "output_type": "stream",
     "text": [
      "4321\n"
     ]
    }
   ],
   "source": [
    "def reverse_number(n):\n",
    "    reverse_number = 0\n",
    "    while n > 0:\n",
    "        last_digit = n % 10\n",
    "        reverse_number = (reverse_number * 10) + last_digit\n",
    "        n = n // 10\n",
    "    return reverse_number\n",
    "\n",
    "print(reverse_number(1234)) # 432\n"
   ]
  },
  {
   "cell_type": "markdown",
   "metadata": {},
   "source": [
    "## Palindrome Number"
   ]
  },
  {
   "cell_type": "code",
   "execution_count": 11,
   "metadata": {},
   "outputs": [
    {
     "name": "stdout",
     "output_type": "stream",
     "text": [
      "False\n"
     ]
    }
   ],
   "source": [
    "def palindrome(n):\n",
    "    reverse_number = 0\n",
    "    original_number = n\n",
    "    N = abs(n)\n",
    "    while n > 0:\n",
    "        last_digit = n % 10\n",
    "        reverse_number = (reverse_number * 10) + last_digit\n",
    "        n = n // 10\n",
    "    return reverse_number == original_number\n",
    "\n",
    "print(palindrome(-121)) # True"
   ]
  },
  {
   "cell_type": "markdown",
   "metadata": {},
   "source": [
    "## ArmStrong Number"
   ]
  },
  {
   "cell_type": "code",
   "execution_count": 22,
   "metadata": {},
   "outputs": [
    {
     "name": "stdout",
     "output_type": "stream",
     "text": [
      "True\n",
      "False\n"
     ]
    }
   ],
   "source": [
    "def ArmStrong(n):\n",
    "    sum = 0\n",
    "    original_number = n\n",
    "    N = abs(n)\n",
    "    while n > 0:\n",
    "        last_digit = n % 10\n",
    "        sum += last_digit ** 3\n",
    "        n = n // 10\n",
    "    return sum == original_number\n",
    "\n",
    "\n",
    "print(ArmStrong(153)) # True\n",
    "print(ArmStrong(35))"
   ]
  },
  {
   "cell_type": "code",
   "execution_count": 21,
   "metadata": {},
   "outputs": [
    {
     "name": "stdout",
     "output_type": "stream",
     "text": [
      "True\n"
     ]
    }
   ],
   "source": [
    "x = 371\n",
    "arm = []\n",
    "\n",
    "for i in str(x):\n",
    "    arm.append(int(i) ** 3)\n",
    "\n",
    "if sum(arm) == x:\n",
    "    print(True)\n",
    "else:\n",
    "    print(False)"
   ]
  },
  {
   "cell_type": "markdown",
   "metadata": {},
   "source": [
    "## Print All Divisor"
   ]
  },
  {
   "cell_type": "code",
   "execution_count": 26,
   "metadata": {},
   "outputs": [
    {
     "name": "stdout",
     "output_type": "stream",
     "text": [
      "1 2 3 4 6 9 12 18 36 "
     ]
    }
   ],
   "source": [
    "def print_divisor(n):\n",
    "    if n <= 0:\n",
    "        return\n",
    "    \n",
    "    for i in range(1, n+1):\n",
    "        if n % i == 0:\n",
    "            print(i, end=\" \")\n",
    "\n",
    "print_divisor(36)"
   ]
  },
  {
   "cell_type": "code",
   "execution_count": 38,
   "metadata": {},
   "outputs": [
    {
     "name": "stdout",
     "output_type": "stream",
     "text": [
      "7\n",
      "[1, 2, 4]\n"
     ]
    }
   ],
   "source": [
    "def print_divisor(n):\n",
    "    if n <= 0:\n",
    "        return\n",
    "    sum = 0\n",
    "    div_sum = []\n",
    "    for i in range(1, n+1):\n",
    "        if n % i == 0:\n",
    "            div_sum.append(i)\n",
    "            sum += i\n",
    "    print(sum)\n",
    "    print(div_sum)\n",
    "\n",
    "print_divisor(4)"
   ]
  },
  {
   "cell_type": "markdown",
   "metadata": {},
   "source": [
    "## Sum of all Divisior till n"
   ]
  },
  {
   "cell_type": "code",
   "execution_count": null,
   "metadata": {},
   "outputs": [],
   "source": [
    "n = 4\n",
    "sum = 0\n"
   ]
  },
  {
   "cell_type": "code",
   "execution_count": 41,
   "metadata": {},
   "outputs": [
    {
     "name": "stdout",
     "output_type": "stream",
     "text": [
      "15\n"
     ]
    }
   ],
   "source": [
    "def print_divisor(n):\n",
    "    if n<= 0:\n",
    "        return\n",
    "    sum = 0\n",
    "    for i in range(1, n+1):\n",
    "        if n % i == 0:\n",
    "            sum += i\n",
    "    return sum\n",
    "\n",
    "def total_divisor(n):\n",
    "    total = 0\n",
    "    for i in range(1, n+1):\n",
    "        total += print_divisor(i)\n",
    "    return total\n",
    "\n",
    "print(total_divisor(4))"
   ]
  },
  {
   "cell_type": "code",
   "execution_count": 50,
   "metadata": {},
   "outputs": [
    {
     "name": "stdout",
     "output_type": "stream",
     "text": [
      "15\n"
     ]
    }
   ],
   "source": [
    "def divisor_sum(n):\n",
    "    sum = 0\n",
    "    for i in range(1, n+1):\n",
    "        sum += int(n / i) * i\n",
    "    return sum\n",
    "\n",
    "print(divisor_sum(4))"
   ]
  },
  {
   "cell_type": "markdown",
   "metadata": {},
   "source": [
    "## Check Prime"
   ]
  },
  {
   "cell_type": "code",
   "execution_count": 53,
   "metadata": {},
   "outputs": [
    {
     "name": "stdout",
     "output_type": "stream",
     "text": [
      "False\n",
      "True\n"
     ]
    }
   ],
   "source": [
    "import math\n",
    "\n",
    "def is_Prime(n):\n",
    "    if n <= 1:\n",
    "        return False\n",
    "    \n",
    "    for i in range(2, int(math.sqrt(n)) + 1):\n",
    "        if n % i == 0:\n",
    "            return False\n",
    "    return True\n",
    "\n",
    "print(is_Prime(4))\n",
    "print(is_Prime(5))\n"
   ]
  },
  {
   "cell_type": "markdown",
   "metadata": {},
   "source": [
    "## GCD"
   ]
  },
  {
   "cell_type": "code",
   "execution_count": 56,
   "metadata": {},
   "outputs": [
    {
     "name": "stdout",
     "output_type": "stream",
     "text": [
      "[2, 12]\n",
      "[3, 18]\n",
      "[1, 143]\n",
      "[20, 40]\n"
     ]
    }
   ],
   "source": [
    "def find_gcd(n1, n2):\n",
    "    gcd = 1\n",
    "\n",
    "    for i in range(1, min(n1, n2) + 1):\n",
    "        if n1 % i == 0 and n2 % i == 0:\n",
    "            gcd = i\n",
    "            lcm = (n1 * n2) // gcd\n",
    "    return [gcd, lcm]\n",
    "\n",
    "\n",
    "\n",
    "print(find_gcd(4, 6))\n",
    "print(find_gcd(6, 9))\n",
    "print(find_gcd(11, 13))\n",
    "print(find_gcd(20, 40))\n"
   ]
  },
  {
   "cell_type": "code",
   "execution_count": null,
   "metadata": {},
   "outputs": [],
   "source": []
  },
  {
   "cell_type": "code",
   "execution_count": null,
   "metadata": {},
   "outputs": [],
   "source": []
  }
 ],
 "metadata": {
  "kernelspec": {
   "display_name": "Python 3",
   "language": "python",
   "name": "python3"
  },
  "language_info": {
   "codemirror_mode": {
    "name": "ipython",
    "version": 3
   },
   "file_extension": ".py",
   "mimetype": "text/x-python",
   "name": "python",
   "nbconvert_exporter": "python",
   "pygments_lexer": "ipython3",
   "version": "3.12.3"
  }
 },
 "nbformat": 4,
 "nbformat_minor": 2
}
