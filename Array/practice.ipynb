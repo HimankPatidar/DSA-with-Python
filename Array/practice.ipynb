{
  "cells": [
    {
      "cell_type": "code",
      "execution_count": null,
      "metadata": {},
      "outputs": [],
      "source": [
        "import pandas as pd\n",
        "\n",
        "# Creating the DataFrame\n",
        "data = {\n",
        "    'student_id': [101, 53, 128, 3],\n",
        "    'name': ['Ulysses', 'William', 'Henry', 'Henry'],\n",
        "    'age': [13, 10, 6, 11]\n",
        "}\n",
        "\n",
        "df = pd.DataFrame(data)\n",
        "\n",
        "# Retrieve information for student_id 101\n",
        "student_info = df[df['student_id'] == 101]\n",
        "\n",
        "# Displaying the name and age\n",
        "print(student_info[['name', 'age']])"
      ]
    },
    {
      "cell_type": "markdown",
      "metadata": {},
      "source": [
        "## Two Sum"
      ]
    },
    {
      "cell_type": "code",
      "execution_count": null,
      "metadata": {},
      "outputs": [
        {
          "name": "stdout",
          "output_type": "stream",
          "text": [
            "[]\n"
          ]
        }
      ],
      "source": [
        "def two_Sum(nums, target):\n",
        "    n = len(nums)\n",
        "    for i in range(0, n):\n",
        "        for j in range(i+1, n):\n",
        "            if nums[i] + nums[j] == target:\n",
        "                return [i, j]\n",
        "    return []\n",
        "        \n",
        "nums = [2, 7, 11, 15]\n",
        "target = \n",
        "print(two_Sum(nums, target))\n"
      ]
    },
    {
      "cell_type": "markdown",
      "metadata": {},
      "source": [
        "## Linear Search"
      ]
    },
    {
      "cell_type": "code",
      "execution_count": 7,
      "metadata": {},
      "outputs": [
        {
          "name": "stdout",
          "output_type": "stream",
          "text": [
            "True\n"
          ]
        }
      ],
      "source": [
        "def searchInSorted(arr, k):\n",
        "        #Your code here\n",
        "        n = len(arr)\n",
        "        for i in range(0, n):\n",
        "            if i == k:\n",
        "                return True\n",
        "            \n",
        "        return False\n",
        "\n",
        "arr = [1, 2, 3, 4, 5]\n",
        "k = 3\n",
        "print(searchInSorted(arr, k))\n",
        "\n",
        "            "
      ]
    },
    {
      "cell_type": "markdown",
      "metadata": {},
      "source": [
        "## Merge String"
      ]
    },
    {
      "cell_type": "code",
      "execution_count": 8,
      "metadata": {},
      "outputs": [
        {
          "name": "stdout",
          "output_type": "stream",
          "text": [
            "adbecf\n"
          ]
        }
      ],
      "source": [
        "def MergeString(s1, s2):\n",
        "    # code here\n",
        "    s = \"\"\n",
        "    i = 0\n",
        "    j = 0\n",
        "    while i < len(s1) and j < len(s2):\n",
        "        s += s1[i]\n",
        "        s += s2[j]\n",
        "        i += 1\n",
        "        j += 1\n",
        "    while i < len(s1):\n",
        "        s += s1[i]\n",
        "        i += 1\n",
        "    while j < len(s2):\n",
        "        s += s2[j]\n",
        "        j += 1\n",
        "    return s\n",
        "\n",
        "s1 = \"abc\"\n",
        "s2 = \"def\"\n",
        "print(MergeString(s1, s2))\n"
      ]
    },
    {
      "cell_type": "code",
      "execution_count": 10,
      "metadata": {},
      "outputs": [
        {
          "name": "stdout",
          "output_type": "stream",
          "text": [
            "adbecf\n"
          ]
        }
      ],
      "source": [
        "def merge_alternately(str1: str, str2: str) -> str:\n",
        "    merged = []\n",
        "    max_length = max(len(str1), len(str2))\n",
        "    for i in range(max_length):\n",
        "        if i < len(str1):\n",
        "            merged.append(str1[i])\n",
        "        if i < len(str2):\n",
        "            merged.append(str2[i])\n",
        "    return ''.join(merged)\n",
        "\n",
        "\n",
        "s1 = \"abc\"\n",
        "s2 = \"def\"\n",
        "print(merge_alternately(s1, s2))\n"
      ]
    },
    {
      "cell_type": "code",
      "execution_count": 11,
      "metadata": {},
      "outputs": [
        {
          "name": "stdout",
          "output_type": "stream",
          "text": [
            "adbecfaajsddak2\n"
          ]
        }
      ],
      "source": [
        "def MergeString(s1, s2):\n",
        "    s = []\n",
        "    i = 0\n",
        "    j = 0\n",
        "    while i<len(s1) and j < len(s2):\n",
        "        s.append(s1[i])\n",
        "        s.append(s2[j])\n",
        "        i += 1\n",
        "        j += 1\n",
        "    while i < len(s1):\n",
        "        s.append(s1[i])\n",
        "        i += 1\n",
        "    while j < len(s2):\n",
        "        s.append(s2[j])\n",
        "        j += 1\n",
        "\n",
        "    return ''.join(s)\n",
        "\n",
        "\n",
        "s1 = \"abcajdak2\"\n",
        "s2 = \"defasd\"\n",
        "print(MergeString(s1, s2))\n"
      ]
    },
    {
      "cell_type": "markdown",
      "metadata": {},
      "source": [
        "\n",
        "## Search insert Position of K in a Sorted Array"
      ]
    },
    {
      "cell_type": "code",
      "execution_count": 24,
      "metadata": {},
      "outputs": [
        {
          "name": "stdout",
          "output_type": "stream",
          "text": [
            "1\n"
          ]
        }
      ],
      "source": [
        "def searchk(arr, N, k):\n",
        "    for i in range(N):\n",
        "        if arr[i] >= k:\n",
        "            return i\n",
        "        \n",
        "    return 1\n",
        "\n",
        "\n",
        "arr = [1,3,5,6]\n",
        "N = 4\n",
        "k = 7\n",
        "print(searchk(arr, N, k))"
      ]
    },
    {
      "cell_type": "markdown",
      "metadata": {},
      "source": [
        "## Find the largest Almost Missing Integer\n",
        "\n",
        "[3,9,2,1,7]  , k = 3\n",
        "\n",
        "    "
      ]
    },
    {
      "cell_type": "code",
      "execution_count": 27,
      "metadata": {},
      "outputs": [
        {
          "name": "stdout",
          "output_type": "stream",
          "text": [
            "921\n"
          ]
        }
      ],
      "source": [
        "def largestInteger(nums, k):\n",
        "    if k <= 0 or k > len(nums):\n",
        "        return -1  # Handle invalid cases\n",
        "    subarrays = [nums[i:i+k] for i in range(len(nums) - k + 1)]\n",
        "    integers = [int(''.join(map(str, sub))) for sub in subarrays]\n",
        "    return max(integers) if integers else -1\n",
        "\n",
        "nums = [3,9,2,1,7]\n",
        "k = 3\n",
        "print(largestInteger(nums, k))  # Output: 921"
      ]
    },
    {
      "cell_type": "code",
      "execution_count": null,
      "metadata": {},
      "outputs": [
        {
          "name": "stdout",
          "output_type": "stream",
          "text": [
            "7\n"
          ]
        }
      ],
      "source": [
        "from collections import defaultdict\n",
        "\n",
        "def largestAlmostMissing(nums, k):\n",
        "    count = defaultdict(int)\n",
        "    n = len(nums)\n",
        "    for i in range(n - k + 1):  # Generate all subarrays of size k\n",
        "        sub = nums[i:i + k]\n",
        "        unique = set(sub)  # Unique elements in the subarray\n",
        "        for num in unique:\n",
        "            count[num] += 1  # Track how many subarrays each element appears in\n",
        "    max_num = -1\n",
        "    for num in count:\n",
        "        if count[num] == 1 and num > max_num:\n",
        "            max_num = num  # Find the largest valid candidate\n",
        "    return max_num if max_num != -1 else -1\n",
        "\n",
        "\n",
        "\n",
        "nums = [3,9,2,1,7]\n",
        "k = 3\n",
        "print(largestAlmostMissing(nums, k))  \n"
      ]
    },
    {
      "cell_type": "markdown",
      "metadata": {},
      "source": [
        "## Array Leader"
      ]
    },
    {
      "cell_type": "code",
      "execution_count": 31,
      "metadata": {},
      "outputs": [
        {
          "name": "stdout",
          "output_type": "stream",
          "text": [
            "[17, 4, 5, 2]\n"
          ]
        }
      ],
      "source": [
        "def leaders(arr):\n",
        "    n =  len(arr)\n",
        "    res = []\n",
        "    for i in range(n):\n",
        "        if i > 0 and i < n - 1:\n",
        "            if arr[i] > arr[i+1]:\n",
        "                res.append(arr[i])\n",
        "        elif i == n - 1:\n",
        "            res.append(arr[i])\n",
        "    return res\n",
        "\n",
        "\n",
        "arr = [16, 17, 4, 3, 5, 2]\n",
        "print(leaders(arr))\n"
      ]
    },
    {
      "cell_type": "code",
      "execution_count": 1,
      "metadata": {},
      "outputs": [
        {
          "name": "stdout",
          "output_type": "stream",
          "text": [
            "[17, 5, 2]\n"
          ]
        }
      ],
      "source": [
        "def leaders(arr):\n",
        "    n = len(arr)\n",
        "    max_right = arr[n - 1]\n",
        "    res = []\n",
        "\n",
        "    for i  in range(n-1, -1, -1):\n",
        "        if arr[i] >= max_right:\n",
        "            res.append(arr[i])\n",
        "            max_right = arr[i]\n",
        "\n",
        "    return res[::-1]\n",
        "\n",
        "arr = [16, 17, 4, 3, 5, 2]\n",
        "print(leaders(arr))"
      ]
    },
    {
      "cell_type": "markdown",
      "metadata": {},
      "source": [
        "### MOVE ZEROS\n",
        "[0,1,0,3,12]"
      ]
    },
    {
      "cell_type": "code",
      "execution_count": null,
      "metadata": {},
      "outputs": [
        {
          "name": "stdout",
          "output_type": "stream",
          "text": [
            "[12, 1, 12, 3, 12]\n"
          ]
        }
      ],
      "source": [
        "def moveZeros(nums):\n",
        "    n = len(nums)\n",
        "    for i in range(n):\n",
        "        if nums[i] == 0:\n",
        "            nums[i] = nums[-1]\n",
        "            \n",
        "    return nums\n",
        "\n",
        "\n",
        "nums = [0, 1, 0, 3, 12]\n",
        "print(moveZeros(nums))\n",
        "\n",
        "            "
      ]
    },
    {
      "cell_type": "markdown",
      "metadata": {},
      "source": [
        "#### sort array"
      ]
    },
    {
      "cell_type": "code",
      "execution_count": 3,
      "metadata": {},
      "outputs": [
        {
          "name": "stdout",
          "output_type": "stream",
          "text": [
            "[11, 12, 22, 25, 34, 64, 90]\n"
          ]
        }
      ],
      "source": [
        "def sortArray(arr):\n",
        "    n = len(arr)\n",
        "    for i in range(n):\n",
        "        for j in range(i+1, n):\n",
        "            if arr[i] > arr[j]:\n",
        "                arr[i], arr[j] = arr[j], arr[i]\n",
        "\n",
        "    return arr\n",
        "\n",
        "\n",
        "arr = [64, 34, 25, 12, 22, 11, 90]\n",
        "print(sortArray(arr))\n"
      ]
    },
    {
      "cell_type": "markdown",
      "metadata": {},
      "source": [
        "### Remove not int value from list"
      ]
    },
    {
      "cell_type": "code",
      "execution_count": 9,
      "metadata": {},
      "outputs": [
        {
          "name": "stdout",
          "output_type": "stream",
          "text": [
            "Original list: [1, 'apple', 2.5, 3, '4', True, False, 7, {'key': 'value'}, [1, 2, 3]]\n",
            "Filtered list: [1, 3, 7]\n"
          ]
        }
      ],
      "source": [
        "# Define the original heterogeneous list\n",
        "original_list = [1, \"apple\", 2.5, 3, \"4\", True, False, 7, {\"key\": \"value\"}, [1, 2, 3]]\n",
        "\n",
        "# Filter out non-integer values (including booleans)\n",
        "filtered_list = [element for element in original_list if type(element) is int]\n",
        "\n",
        "# Print the results\n",
        "print(\"Original list:\", original_list)\n",
        "\n",
        "print(\"Filtered list:\", filtered_list)"
      ]
    },
    {
      "cell_type": "markdown",
      "metadata": {},
      "source": [
        "### Average of elements of a list"
      ]
    },
    {
      "cell_type": "code",
      "execution_count": 10,
      "metadata": {},
      "outputs": [
        {
          "name": "stdout",
          "output_type": "stream",
          "text": [
            "3.0\n"
          ]
        }
      ],
      "source": [
        "def average(arr):\n",
        "    n = len(arr)\n",
        "    sum = 0\n",
        "    for i in range(n):\n",
        "        sum += arr[i]\n",
        "\n",
        "    return sum/n\n",
        "\n",
        "\n",
        "arr = [1, 2, 3, 4, 5]\n",
        "print(average(arr))\n",
        "\n"
      ]
    },
    {
      "cell_type": "markdown",
      "metadata": {},
      "source": [
        "### Create a list of First N Prime Numbers"
      ]
    },
    {
      "cell_type": "code",
      "execution_count": 12,
      "metadata": {},
      "outputs": [
        {
          "name": "stdout",
          "output_type": "stream",
          "text": [
            "[17, 3, 5, 2]\n"
          ]
        }
      ],
      "source": [
        "def isPrime(num):\n",
        "    if num < 2:\n",
        "        return False\n",
        "    \n",
        "    for j in range(2, num):\n",
        "        if num % j == 0:\n",
        "            return False\n",
        "    return True\n",
        "\n",
        "def prime_in_array(arr):\n",
        "    res = []\n",
        "    for num in arr:\n",
        "        if isPrime(num):\n",
        "            res.append(num)\n",
        "\n",
        "    return res\n",
        "\n",
        "\n",
        "arr = [16, 17,4,3,5,2]\n",
        "print(prime_in_array(arr))"
      ]
    },
    {
      "cell_type": "code",
      "execution_count": 14,
      "metadata": {},
      "outputs": [
        {
          "name": "stdout",
          "output_type": "stream",
          "text": [
            "[17, 3, 5, 2]\n"
          ]
        }
      ],
      "source": [
        "def primes_in_array(arr):\n",
        "    res = []\n",
        "    for num in arr:\n",
        "        if num < 2:\n",
        "            continue\n",
        "        is_prime = True\n",
        "        for j in range(2, num):\n",
        "            if num % j == 0:\n",
        "                is_prime = False\n",
        "                break\n",
        "        if is_prime:\n",
        "            res.append(num)\n",
        "    return res\n",
        "\n",
        "# Testing the function\n",
        "arr = [16, 17, 4, 3, 5, 2]\n",
        "print(primes_in_array(arr))  # Expected output: [17, 3, 5, 2]\n"
      ]
    },
    {
      "cell_type": "code",
      "execution_count": 16,
      "metadata": {},
      "outputs": [
        {
          "name": "stdout",
          "output_type": "stream",
          "text": [
            "34\n"
          ]
        }
      ],
      "source": [
        "def fibonacci_series(n):\n",
        " \n",
        "    if n <= 1:\n",
        "        return n\n",
        "    return fibonacci_series(n-1) + fibonacci_series(n-2)\n",
        "\n",
        "\n",
        "n = 9\n",
        "print(fibonacci_series(arr))\n",
        "\n"
      ]
    },
    {
      "cell_type": "code",
      "execution_count": 23,
      "metadata": {},
      "outputs": [
        {
          "name": "stdout",
          "output_type": "stream",
          "text": [
            "ABC\n"
          ]
        }
      ],
      "source": [
        "def gcdofStrin(str1, str2):\n",
        "    if len(str1) == len(str2):\n",
        "        if str1 == str2:\n",
        "            return str1\n",
        "        else:\n",
        "            return \"\"\n",
        "    if len(str1) > len(str2):\n",
        "        return gcdofStrin(str1[len(str2):], str2)\n",
        "    else:\n",
        "        return gcdofStrin(str1, str2[len(str1):])\n",
        "    \n",
        "\n",
        "\n",
        "\n",
        "str1 = \"ABCABC\"\n",
        "str2 = \"ABC\"\n",
        "print(gcdofStrin(str1, str2))\n"
      ]
    },
    {
      "cell_type": "code",
      "execution_count": 19,
      "metadata": {},
      "outputs": [
        {
          "name": "stdout",
          "output_type": "stream",
          "text": [
            "ABC\n"
          ]
        }
      ],
      "source": [
        "a = \"ABCABC\"\n",
        "b = \"ABC\"\n",
        "\n",
        "for i in b:\n",
        "    if a == b * (len(a) // len(b)):\n",
        "        print(b)\n",
        "        break\n",
        "\n",
        "    b = b[:-1]\n",
        "    "
      ]
    },
    {
      "cell_type": "markdown",
      "metadata": {},
      "source": [
        "### Kid with greatest no. of Candies"
      ]
    },
    {
      "cell_type": "code",
      "execution_count": 27,
      "metadata": {},
      "outputs": [
        {
          "name": "stdout",
          "output_type": "stream",
          "text": [
            "[True, False, False, False, False]\n"
          ]
        }
      ],
      "source": [
        "def kidsWithCandies(candies, extraCandies):\n",
        "    max_candies = max(candies)\n",
        "    res = []\n",
        "    for candy in candies :\n",
        "        if candy + extraCandies >= max_candies:\n",
        "            res.append(True)\n",
        "\n",
        "        else:\n",
        "            res.append(False)\n",
        "\n",
        "    return res\n",
        "\n",
        "\n",
        "# candies = [2, 3, 5, 1, 3]\n",
        "candies = [4,2,1,1,2]\n",
        "extraCandies = 1\n",
        "print(kidsWithCandies(candies, extraCandies))\n"
      ]
    },
    {
      "cell_type": "markdown",
      "metadata": {},
      "source": [
        "### Can Place Flower"
      ]
    },
    {
      "cell_type": "code",
      "execution_count": 1,
      "metadata": {},
      "outputs": [
        {
          "name": "stdout",
          "output_type": "stream",
          "text": [
            "True\n"
          ]
        }
      ],
      "source": [
        "def canPlaceFlowers(flowerbed, n):\n",
        "    count = 0\n",
        "    flowerbed_cp = flowerbed.copy()\n",
        "\n",
        "    length = len(flowerbed_cp)\n",
        "\n",
        "    for i in range(length):\n",
        "        if flowerbed_cp[i] == 0 and (i ==0 or flowerbed_cp[i-1] == 0) and (i == length-1 or flowerbed_cp[i+1] == 0):\n",
        "            flowerbed_cp[i] = 1\n",
        "            count += 1\n",
        "            if count >= n:\n",
        "                return True\n",
        "    return count >= n\n",
        "\n",
        "\n",
        "\n",
        "flowerbed = [1, 0, 0, 0, 1]\n",
        "n = 1\n",
        "print(canPlaceFlowers(flowerbed, n))"
      ]
    },
    {
      "cell_type": "markdown",
      "metadata": {},
      "source": [
        "### Max Consecutive Ones\n"
      ]
    },
    {
      "cell_type": "code",
      "execution_count": 1,
      "metadata": {},
      "outputs": [
        {
          "name": "stdout",
          "output_type": "stream",
          "text": [
            "3\n"
          ]
        }
      ],
      "source": [
        "def findMaxConsecutiveOnes(nums):\n",
        "    count = 0\n",
        "    max_count = 0\n",
        "    length = len(nums)\n",
        "    for i in range(length):\n",
        "        if nums[i] == 1:\n",
        "            count +=1\n",
        "            max_count = count if count > max_count else max_count\n",
        "        else:\n",
        "            count = 0\n",
        "\n",
        "    return max_count\n",
        "\n",
        "nums = [1,1,0,1,1,1]\n",
        "\n",
        "print(findMaxConsecutiveOnes(nums))\n",
        "\n"
      ]
    },
    {
      "cell_type": "code",
      "execution_count": null,
      "metadata": {},
      "outputs": [],
      "source": [
        "def findMaxConsecutiveOnes(nums):\n",
        "    count = 0\n",
        "    max_count = 0\n",
        "    length = len(nums)\n",
        "    for i in range(length):\n",
        "        if nums[i] == 1:\n",
        "            count +=1\n",
        "            max_count = max(count, max_count)\n",
        "        else:\n",
        "            count = 0\n",
        "\n",
        "    return max_count\n",
        "\n",
        "nums = [1,1,0,1,1,1]\n",
        "print(findMaxConsecutiveOnes(nums))  # Output: 3\n",
        "\n",
        "\n",
        "\n",
        "           \n",
        "\n"
      ]
    },
    {
      "cell_type": "markdown",
      "metadata": {},
      "source": [
        "### Find Numbers with Even Number oF Digits"
      ]
    },
    {
      "cell_type": "code",
      "execution_count": 2,
      "metadata": {},
      "outputs": [
        {
          "name": "stdout",
          "output_type": "stream",
          "text": [
            "2\n"
          ]
        }
      ],
      "source": [
        "def findNumbers(nums):\n",
        "    count = 0\n",
        "    for num in nums:\n",
        "        digit_count = 0\n",
        "        n = abs(num)  # Handle negative numbers\n",
        "        if n == 0:\n",
        "            digit_count = 1  # Special case: 0 has 1 digit\n",
        "        else:\n",
        "            while n > 0:\n",
        "                n = n // 10\n",
        "                digit_count += 1\n",
        "        if digit_count % 2 == 0:\n",
        "            count += 1\n",
        "    return count\n",
        "\n",
        "nums = [12, 345, 2, 6, 7896]\n",
        "print(findNumbers(nums))  # Output: 2"
      ]
    },
    {
      "cell_type": "markdown",
      "metadata": {},
      "source": [
        "### Square of Sorted Array"
      ]
    },
    {
      "cell_type": "code",
      "execution_count": 3,
      "metadata": {},
      "outputs": [
        {
          "name": "stdout",
          "output_type": "stream",
          "text": [
            "[0, 1, 9, 16, 100]\n"
          ]
        }
      ],
      "source": [
        "def sortedSquares(nums):\n",
        "    for i in range(len(nums)):\n",
        "        nums[i] = nums[i] * nums[i]\n",
        "    nums.sort()\n",
        "    return nums\n",
        "\n",
        "nums = [-4,-1,0,3,10]\n",
        "print(sortedSquares(nums))  # Output: [0,1,9,16,100]\n"
      ]
    },
    {
      "cell_type": "code",
      "execution_count": 4,
      "metadata": {},
      "outputs": [
        {
          "name": "stdout",
          "output_type": "stream",
          "text": [
            "[0, 1, 9, 16, 100]\n"
          ]
        }
      ],
      "source": [
        "nums = [-4,-1,0,3,10]\n",
        "for i in range(len(nums)):\n",
        "    nums[i] = nums[i] * nums[i]\n",
        "nums = sorted(nums)\n",
        "\n",
        "print(nums)  # Output: [0,1,9,16,100]\n"
      ]
    },
    {
      "cell_type": "code",
      "execution_count": 5,
      "metadata": {},
      "outputs": [
        {
          "name": "stdout",
          "output_type": "stream",
          "text": [
            "[0, 1, 9, 16, 100]\n"
          ]
        }
      ],
      "source": [
        "from typing import List\n",
        "\n",
        "class Solution:    \n",
        "    def sortedSquares(self, nums: List[int]) -> List[int]:\n",
        "        \n",
        "        last_negative_index = -1\n",
        "        n = len(nums)\n",
        "        for i in range(n):\n",
        "            if nums[i] < 0:\n",
        "                last_negative_index = i\n",
        "            nums[i] *= nums[i]\n",
        "\n",
        "        if last_negative_index == n-1:\n",
        "            return nums[::-1]\n",
        "        elif last_negative_index == -1:\n",
        "            return nums\n",
        "        else:\n",
        "            l1, l2 = nums[:last_negative_index+1][::-1], nums[last_negative_index+1:]\n",
        "\n",
        "        # merge two sorted list:\n",
        "\n",
        "        res = []\n",
        "        i, j = 0, 0\n",
        "\n",
        "        while i < len(l1) and j < len(l2):\n",
        "            if l1[i] < l2[j]:\n",
        "                res.append(l1[i])\n",
        "                i += 1\n",
        "            else:\n",
        "                res.append(l2[j])\n",
        "                j += 1\n",
        "        res.extend(l1[i:])\n",
        "        res.extend(l2[j:])\n",
        "        return res\n",
        "\n",
        "\n",
        "nums = [-4,-1,0,3,10]\n",
        "sol = Solution()\n",
        "print(sol.sortedSquares(nums))  # Output: [0,1,9,16,100]\n"
      ]
    },
    {
      "cell_type": "markdown",
      "metadata": {},
      "source": [
        "### Duplicate Zeros"
      ]
    },
    {
      "cell_type": "markdown",
      "metadata": {},
      "source": [
        "| Step                                   | Array State               |\n",
        "|----------------------------------------|---------------------------|\n",
        "| Initial                                | [1, 0, 2, 3, 0, 4, 5, 0] |\n",
        "| Found 0 at index 1, shift right       | [1, 0, 0, 2, 3, 0, 4, 5] |\n",
        "| Found 0 at index 4, shift right       | [1, 0, 0, 2, 3, 0, 0, 4] |\n",
        "| Found 0 at index 7, shift right (Ignored last zero) | [1, 0, 0, 2, 3, 0, 0, 4] |\n",
        "| Final Output                           | [1, 0, 0, 2, 3, 0, 0, 4] |\n"
      ]
    },
    {
      "cell_type": "markdown",
      "metadata": {},
      "source": [
        "O(N²) due to repeated shifting of elements.\n"
      ]
    },
    {
      "cell_type": "code",
      "execution_count": 14,
      "metadata": {},
      "outputs": [
        {
          "name": "stdout",
          "output_type": "stream",
          "text": [
            "[1, 0, 0, 2, 3, 0, 0, 4]\n"
          ]
        }
      ],
      "source": [
        "def duplicateZeros(arr):\n",
        "    n = len(arr)\n",
        "    i = 0\n",
        "\n",
        "    while i < n:\n",
        "        if arr[i] == 0:\n",
        "            for j in range(n -1 , i , -1):\n",
        "                arr[j] = arr[j - 1]\n",
        "            if i + 1 < n:\n",
        "                arr[i+1] = 0\n",
        "            i += 1\n",
        "        i += 1\n",
        "\n",
        "\n",
        "arr = [1,0,2,3,0,4,5,0]\n",
        "duplicateZeros(arr)\n",
        "print(arr)\n"
      ]
    },
    {
      "cell_type": "code",
      "execution_count": 15,
      "metadata": {},
      "outputs": [
        {
          "name": "stdout",
          "output_type": "stream",
          "text": [
            "[1, 0, 0, 2, 3, 0, 0, 4]\n"
          ]
        }
      ],
      "source": [
        "def duplicateZeros(arr):\n",
        "    n = len(arr)\n",
        "    zeros = arr.count(0)\n",
        "    i = n - 1\n",
        "    j = n + zeros - 1\n",
        "\n",
        "    while i >= 0:\n",
        "        if j < n:\n",
        "            arr[j] = arr[i]\n",
        "\n",
        "        j -= 1\n",
        "        if arr[i] == 0:\n",
        "            if j < n:\n",
        "                arr[j] = 0\n",
        "            j -= 1\n",
        "        i -= 1\n",
        "\n",
        "\n",
        "arr = [1,0,2,3,0,4,5,0]\n",
        "duplicateZeros(arr)\n",
        "print(arr)\n"
      ]
    },
    {
      "cell_type": "markdown",
      "metadata": {},
      "source": [
        "### Merge 2 Sorted Array"
      ]
    },
    {
      "cell_type": "code",
      "execution_count": 14,
      "metadata": {},
      "outputs": [
        {
          "name": "stdout",
          "output_type": "stream",
          "text": [
            "[1, 2, 2, 3, 6]\n"
          ]
        }
      ],
      "source": [
        "def merge(num1, m ,num2, n):\n",
        "    num1[m:] = num2\n",
        "    num1.sort()\n",
        "    return num1\n",
        "\n",
        "num1 = [1,2,3,0,0,0]\n",
        "m = 3\n",
        "num2 = [2,6]\n",
        "n = 2\n",
        "print(merge(num1, m, num2, n))\n"
      ]
    },
    {
      "cell_type": "code",
      "execution_count": 16,
      "metadata": {},
      "outputs": [
        {
          "name": "stdout",
          "output_type": "stream",
          "text": [
            "[1, 2, 2, 5]\n"
          ]
        }
      ],
      "source": [
        "num1 = [1,2, 0,0,0]\n",
        "m = 2\n",
        "num2 = [2,5]\n",
        "n = 3\n",
        "\n",
        "num1[m:]  = num2\n",
        "num1.sort()\n",
        "print(num1)\n"
      ]
    },
    {
      "cell_type": "markdown",
      "metadata": {},
      "source": [
        "### Valid mountain Array"
      ]
    },
    {
      "cell_type": "code",
      "execution_count": 3,
      "metadata": {},
      "outputs": [],
      "source": [
        "from typing import List\n",
        "\n",
        "class Solution:\n",
        "    def validMountainArray(self, arr: List[int]) -> bool:\n",
        "        # A mountain array must have at least three elements.\n",
        "        if len(arr) < 3:\n",
        "            return False\n",
        "\n",
        "        n = len(arr)\n",
        "        i = 0\n",
        "\n",
        "        # Walk up: while the next element is greater, increment i.\n",
        "        while i + 1 < n and arr[i] < arr[i + 1]:\n",
        "            i += 1\n",
        "\n",
        "        # The peak can't be the first or the last element.\n",
        "        if i == 0 or i == n - 1:\n",
        "            return False\n",
        "\n",
        "        # Walk down: while the next element is smaller, increment i.\n",
        "        while i + 1 < n and arr[i] > arr[i + 1]:\n",
        "            i += 1\n",
        "\n",
        "        # If we reached the end, it's a valid mountain array.\n",
        "        return i == n - 1\n"
      ]
    },
    {
      "cell_type": "markdown",
      "metadata": {},
      "source": [
        "### Replace element with greatest element on right side"
      ]
    },
    {
      "cell_type": "code",
      "execution_count": 1,
      "metadata": {},
      "outputs": [
        {
          "name": "stdout",
          "output_type": "stream",
          "text": [
            "[18, 6, 6, 6, 1, -1]\n"
          ]
        }
      ],
      "source": [
        "def replaceElement(arr):\n",
        "    max_value = -1\n",
        "\n",
        "    for i in range(len(arr) -1, -1, -1):\n",
        "        temp = arr[i]\n",
        "        arr[i] = max_value\n",
        "        max_value = max(max_value, temp)\n",
        "\n",
        "    return arr\n",
        "\n",
        "\n",
        "\n",
        "arr = [17,18,5,4,6,1]\n",
        "print(replaceElement(arr))  # Output: [18, 18, 17,"
      ]
    },
    {
      "cell_type": "markdown",
      "metadata": {},
      "source": [
        "### Remove Duplicates from sorted Array"
      ]
    },
    {
      "cell_type": "code",
      "execution_count": 3,
      "metadata": {},
      "outputs": [
        {
          "name": "stdout",
          "output_type": "stream",
          "text": [
            "[0, 1, 2, 3, 4]\n"
          ]
        }
      ],
      "source": [
        "def RemoveDuplicates(arr):\n",
        "    # Create an empty list to store unique elements\n",
        "    unique_elements = []\n",
        "\n",
        "    for i in arr:\n",
        "        if i not in unique_elements:\n",
        "            unique_elements.append(i)\n",
        "    return unique_elements\n",
        "\n",
        "arr = [0,0,1,1,1,2,2,3,3,4]\n",
        "print(RemoveDuplicates(arr))  # Output: [0, 1, 2,"
      ]
    },
    {
      "cell_type": "code",
      "execution_count": 16,
      "metadata": {},
      "outputs": [
        {
          "name": "stdout",
          "output_type": "stream",
          "text": [
            "5\n"
          ]
        }
      ],
      "source": [
        "def removeDuplicates(arr):\n",
        "    if not arr:\n",
        "        return 0\n",
        "    \n",
        "    j = 0\n",
        "    for i in range(1, len(arr)):\n",
        "        if arr[i] != arr[j]:\n",
        "            j += 1\n",
        "            arr[j] = arr[i]\n",
        "    return j+1\n",
        "\n",
        "\n",
        "arr =  [0,0,1,1,1,2,2,3,3,4]\n",
        "print(removeDuplicates(arr))"
      ]
    },
    {
      "cell_type": "code",
      "execution_count": 20,
      "metadata": {},
      "outputs": [
        {
          "name": "stdout",
          "output_type": "stream",
          "text": [
            "[0, 1, 2, 3, 4]\n"
          ]
        }
      ],
      "source": [
        "def removeDuplicates(arr):\n",
        "    if not arr:\n",
        "        return []\n",
        "    \n",
        "    j = 0\n",
        "    for i in range(1, len(arr)):\n",
        "        if arr[i] != arr[j]:\n",
        "            j += 1\n",
        "            arr[j] = arr[i]\n",
        "    \n",
        "    return arr[:j+1]  # Return only the unique part of the array\n",
        "\n",
        "arr = [0,0,1,1,1,2,2,3,3,4]\n",
        "print(removeDuplicates(arr))  # Output: [0, 1, 2, 3, 4]\n"
      ]
    },
    {
      "cell_type": "markdown",
      "metadata": {},
      "source": []
    },
    {
      "cell_type": "code",
      "execution_count": 26,
      "metadata": {},
      "outputs": [
        {
          "name": "stdout",
          "output_type": "stream",
          "text": [
            "[1, 3, 12, 0, 0]\n"
          ]
        }
      ],
      "source": [
        "def moveZeroes(nums):\n",
        "    i = 0\n",
        "    length = len(nums)\n",
        "\n",
        "    while i< length:\n",
        "        if nums[i] == 0:\n",
        "            nums.pop(i)\n",
        "            nums.append(0)\n",
        "            length -= 1\n",
        "        else:\n",
        "            i += 1\n",
        "\n",
        "    return nums\n",
        "\n",
        "nums = [0,1,0,3,12]\n",
        "print(moveZeroes(nums))"
      ]
    },
    {
      "cell_type": "code",
      "execution_count": 27,
      "metadata": {},
      "outputs": [
        {
          "name": "stdout",
          "output_type": "stream",
          "text": [
            "[1, 3, 12, 0, 0]\n"
          ]
        }
      ],
      "source": [
        "def moveZeroes( nums):\n",
        "    for i in range(0,len(nums)):\n",
        "        if nums[i]==0:\n",
        "            nums.remove(0)\n",
        "            nums.append(0)\n",
        "    return nums\n",
        "        \n",
        "nums = [0,1,0,3,12]\n",
        "print(moveZeroes(nums))\n"
      ]
    },
    {
      "cell_type": "markdown",
      "metadata": {},
      "source": [
        "### Remove Element"
      ]
    },
    {
      "cell_type": "code",
      "execution_count": 30,
      "metadata": {},
      "outputs": [
        {
          "name": "stdout",
          "output_type": "stream",
          "text": [
            "[2, 2]\n"
          ]
        }
      ],
      "source": [
        "def removeElement(nums, val):\n",
        "    i = 0\n",
        "\n",
        "    while i < len(nums):\n",
        "        if nums[i] == val :\n",
        "            nums.pop(i)\n",
        "        else:\n",
        "            i+=1\n",
        "\n",
        "    return nums\n",
        "\n",
        "\n",
        "nums = [3,2,2,3]\n",
        "val = 3\n",
        "print(removeElement(nums, val))\n"
      ]
    },
    {
      "cell_type": "markdown",
      "metadata": {},
      "source": [
        "##### Optimized code"
      ]
    },
    {
      "cell_type": "code",
      "execution_count": 39,
      "metadata": {},
      "outputs": [
        {
          "name": "stdout",
          "output_type": "stream",
          "text": [
            "2\n"
          ]
        }
      ],
      "source": [
        "def removeElement(nums, val):\n",
        "    k = 0\n",
        "    for num in nums:\n",
        "        if num != val:\n",
        "            nums[k] = num\n",
        "            k += 1  # Increment k when a non-val element is found\n",
        "    return k\n",
        "\n",
        "nums = [3, 2, 2, 3]\n",
        "val = 3\n",
        "print(removeElement(nums, val))  # Output: 2\n"
      ]
    },
    {
      "cell_type": "markdown",
      "metadata": {},
      "source": [
        "### Sort Array by Parity\n",
        "\n",
        "nums = [3,1,2,4]\n",
        "t0 == [2,4,3,1]\n",
        "\n",
        "[4,2,1,3], [2,4,1,3]"
      ]
    },
    {
      "cell_type": "code",
      "execution_count": 2,
      "metadata": {},
      "outputs": [
        {
          "name": "stdout",
          "output_type": "stream",
          "text": [
            "[2, 4, 1, 3]\n"
          ]
        }
      ],
      "source": [
        "def sortedArrayByParity(arr):\n",
        "    count =0 \n",
        "    for i in range(len(arr)):\n",
        "        if arr[i] % 2 == 0:\n",
        "            arr[i], arr[count] = arr[count], arr[i]\n",
        "            count += 1\n",
        "\n",
        "    return arr\n",
        "\n",
        "\n",
        "arr =[3,2,1,4]\n",
        "\n",
        "print(sortedArrayByParity(arr))  # Output: [2, 4, 3"
      ]
    },
    {
      "cell_type": "markdown",
      "metadata": {},
      "source": [
        "### Roman To Integer"
      ]
    },
    {
      "cell_type": "code",
      "execution_count": 3,
      "metadata": {},
      "outputs": [
        {
          "name": "stdout",
          "output_type": "stream",
          "text": [
            "1996\n"
          ]
        }
      ],
      "source": [
        "def romanToInt(s):\n",
        "    roman = {'I': 1, 'V': 5, 'X': 10, 'C':100, 'D':500, 'M':1000}\n",
        "    summ = 0\n",
        "    n = len(s)\n",
        "    i = 0\n",
        "    while i < n:\n",
        "        if i < n - 1 and roman[s[i]] < roman[s[i+1]]:\n",
        "            summ += roman[s[i+1]] - roman[s[i]]\n",
        "            i += 2\n",
        "\n",
        "        else:\n",
        "            summ += roman[s[i]]\n",
        "            i += 1\n",
        "\n",
        "\n",
        "    return summ\n",
        "\n",
        "\n",
        "s = \"MCMXCVI\"\n",
        "print(romanToInt(s))  # Output: 1996"
      ]
    },
    {
      "cell_type": "markdown",
      "metadata": {},
      "source": [
        "### Is SubSequence"
      ]
    },
    {
      "cell_type": "code",
      "execution_count": 9,
      "metadata": {},
      "outputs": [
        {
          "name": "stdout",
          "output_type": "stream",
          "text": [
            "True\n"
          ]
        }
      ],
      "source": [
        "def isSubsequence(s, t):\n",
        "    i = 0\n",
        "    j = 0\n",
        "    while i < len(s) and j < len(t):\n",
        "        if s[i] == t[j]:\n",
        "            i += 1\n",
        "        j+= 1\n",
        "        \n",
        "    return i == len(s)\n",
        "\n",
        "s = \"abc\"\n",
        "t = \"ahgbdc\"\n",
        "print(isSubsequence(s, t))  # Output: True\n"
      ]
    },
    {
      "cell_type": "markdown",
      "metadata": {},
      "source": [
        "### Find The Duplicate number"
      ]
    },
    {
      "cell_type": "code",
      "execution_count": null,
      "metadata": {},
      "outputs": [
        {
          "name": "stdout",
          "output_type": "stream",
          "text": [
            "3\n"
          ]
        }
      ],
      "source": [
        "def duplicate(arr):\n",
        "        arr.sort()\n",
        "        for i in range(1, len(arr)):\n",
        "                if arr[i] == arr[i-1]:\n",
        "                        return arr[i]\n",
        "                \n",
        "        \n",
        "\n",
        "\n",
        "arr = [1,7,3,4,3,3,5]\n",
        "print(duplicate(arr))\n",
        "                \n",
        "\n",
        "### Time Complexity -- O(nlogn)"
      ]
    },
    {
      "cell_type": "code",
      "execution_count": 19,
      "metadata": {},
      "outputs": [
        {
          "name": "stdout",
          "output_type": "stream",
          "text": [
            "2\n"
          ]
        }
      ],
      "source": [
        "def findDuplicateBruteForce(nums):\n",
        "    n = len(nums)\n",
        "    for i in range(n):\n",
        "        count = 0\n",
        "        for j in range(n):\n",
        "            if nums[i] == nums[j]:\n",
        "                count += 1\n",
        "        if count > 1:\n",
        "            return nums[i]\n",
        "            \n",
        "# Example usage:\n",
        "nums1 = [1, 3, 4, 2, 2]\n",
        "print(findDuplicateBruteForce(nums1))  # Output: 2\n",
        "\n"
      ]
    },
    {
      "cell_type": "markdown",
      "metadata": {},
      "source": [
        "### Max Profit"
      ]
    },
    {
      "cell_type": "code",
      "execution_count": null,
      "metadata": {},
      "outputs": [
        {
          "name": "stdout",
          "output_type": "stream",
          "text": [
            "5\n"
          ]
        }
      ],
      "source": [
        "def maxProfit(prices):\n",
        "    max_profit = float('-inf')\n",
        "    for i in range(len(prices)):\n",
        "        for j in range(i+1, len(prices)):\n",
        "            profit = prices[j] - prices[i]\n",
        "\n",
        "            if profit > 0:\n",
        "                 max_profit = max(max_profit, profit)\n",
        "    \n",
        "    return max_profit if max_profit> float('-inf') else 0\n",
        "\n",
        "prices = [7,1,4,5,6,2]\n",
        "print(maxProfit(prices))  # Output: 5\n",
        "\n",
        "\n",
        "# TC --- O(n^2)\n",
        "# Space : O(1)\n"
      ]
    },
    {
      "cell_type": "code",
      "execution_count": 22,
      "metadata": {},
      "outputs": [
        {
          "name": "stdout",
          "output_type": "stream",
          "text": [
            "5\n"
          ]
        }
      ],
      "source": [
        "def max_profit(arr):\n",
        "    # TIME: O(n)\n",
        "    # SPACE: O(1)\n",
        "\n",
        "    min_price = float('.inf')\n",
        "    max_profit = 0\n",
        "\n",
        "    for i in arr:\n",
        "        if i < min_price:\n",
        "            min_price = i\n",
        "\n",
        "        profit = i - min_price\n",
        "        if profit > max_profit:\n",
        "            max_profit = profit\n",
        "    \n",
        "    return max_profit\n",
        "\n",
        "\n",
        "arr = [7,1,5,3,4,6,2]\n",
        "print(maxProfit(arr))"
      ]
    },
    {
      "cell_type": "code",
      "execution_count": 82,
      "metadata": {},
      "outputs": [
        {
          "name": "stdout",
          "output_type": "stream",
          "text": [
            "2\n"
          ]
        }
      ],
      "source": [
        "def maxSubArray(arr):\n",
        "    max_sum = arr[0]\n",
        "    curr_sum = 0\n",
        "\n",
        "    for num in arr:\n",
        "        if curr_sum < 0:\n",
        "            curr_sum = 0\n",
        "        curr_sum *= num\n",
        "        max_sum = max(max_sum, curr_sum)\n",
        "\n",
        "    return max_sum\n",
        "\n",
        "# Example usage:\n",
        "arr = [2,3,-2,4]\n",
        "print(maxSubArray(arr))  # Expected output: 7\n"
      ]
    },
    {
      "cell_type": "code",
      "execution_count": null,
      "metadata": {},
      "outputs": [
        {
          "name": "stdout",
          "output_type": "stream",
          "text": [
            "[1]\n",
            "[1, 2]\n",
            "[1, 2, 3]\n",
            "[2]\n",
            "[2, 3]\n",
            "[3]\n"
          ]
        }
      ],
      "source": [
        "def print_all_subarray(arr):\n",
        "    n = len(arr)\n",
        "    for i in range(n):\n",
        "        for j in range(i+1, n+1):\n",
        "            print(arr[i:j])\n",
        "            \n",
        "\n",
        "\n",
        "arr = [1,2,3]\n",
        "print_all_subarray(arr)\n"
      ]
    },
    {
      "cell_type": "markdown",
      "metadata": {},
      "source": [
        "### Minimum Sub SubArray"
      ]
    },
    {
      "cell_type": "code",
      "execution_count": 26,
      "metadata": {},
      "outputs": [
        {
          "data": {
            "text/plain": [
              "1"
            ]
          },
          "execution_count": 26,
          "metadata": {},
          "output_type": "execute_result"
        }
      ],
      "source": [
        "def MinSumSubarray(arr):\n",
        "    min_sum = arr[0]\n",
        "    current_sum = 0\n",
        "\n",
        "    for num in arr:\n",
        "        if current_sum > 0 :\n",
        "            current_sum = 0\n",
        "        current_sum += num\n",
        "        min_sum = min(min_sum, current_sum)\n",
        "\n",
        "    \n",
        "    return min_sum\n",
        "\n",
        "\n",
        "arr = [1,2,3]\n",
        "MinSumSubarray(arr)\n"
      ]
    },
    {
      "cell_type": "markdown",
      "metadata": {},
      "source": [
        "### maJORITY eLEMENT\n"
      ]
    },
    {
      "cell_type": "code",
      "execution_count": null,
      "metadata": {},
      "outputs": [],
      "source": [
        "def majorityElement(arr):\n",
        "    n = len(arr)\n",
        "        "
      ]
    },
    {
      "cell_type": "code",
      "execution_count": 5,
      "metadata": {},
      "outputs": [
        {
          "name": "stdout",
          "output_type": "stream",
          "text": [
            "3\n"
          ]
        }
      ],
      "source": [
        "def majority_element(arr):\n",
        "    \n",
        "    n = len(arr)\n",
        "    for i in range(n):\n",
        "        count  = 0\n",
        "        for j in range(n):\n",
        "            if arr[i] == arr[j]:\n",
        "                count += 1\n",
        "    if count > n /2 :\n",
        "            return arr[i] \n",
        "        \n",
        "\n",
        "\n",
        "arr = [3,2,3]\n",
        "print(majority_element(arr))  # Output: 2"
      ]
    },
    {
      "cell_type": "code",
      "execution_count": 6,
      "metadata": {},
      "outputs": [
        {
          "name": "stdout",
          "output_type": "stream",
          "text": [
            "3\n"
          ]
        }
      ],
      "source": [
        "def majority_element(arr):\n",
        "    candidate , count = None, 0\n",
        "\n",
        "    for num in arr:\n",
        "        if count == 0:\n",
        "            candidate = num\n",
        "        count += (1 if num == candidate else -1)\n",
        "\n",
        "        if arr.count(candidate) > len(arr) // 2:\n",
        "            return candidate\n",
        "        else:\n",
        "            return \"No Majority Element\"\n",
        "        \n",
        "arr= [3,2,3]\n",
        "print(majority_element(arr))  # Output: 3"
      ]
    },
    {
      "cell_type": "code",
      "execution_count": 61,
      "metadata": {},
      "outputs": [
        {
          "name": "stdout",
          "output_type": "stream",
          "text": [
            "fl\n"
          ]
        }
      ],
      "source": [
        "def lcp(strs):\n",
        "    if not strs:\n",
        "        return \"\"\n",
        "    \n",
        "\n",
        "    min_length = float('inf')\n",
        "    for s in strs:\n",
        "        if len(s) < min_length:\n",
        "            min_length = len(s)\n",
        "    i=0\n",
        "    while i<= min_length:\n",
        "        for s in strs:\n",
        "            if s[i] != strs[0][i]:\n",
        "                return s[:i]\n",
        "                \n",
        "        i += 1\n",
        "\n",
        "    return s[:i]\n",
        "    \n",
        "\n",
        "strs = ['flower', 'flow', 'flight']\n",
        "print(lcp(strs))  # Output: 'fl'\n",
        "\n"
      ]
    },
    {
      "cell_type": "code",
      "execution_count": 51,
      "metadata": {},
      "outputs": [
        {
          "name": "stdout",
          "output_type": "stream",
          "text": [
            "[2, 2, 3]\n",
            "[1, 0, 0]\n"
          ]
        }
      ],
      "source": [
        "def plusOne(arr):\n",
        "    n = len(arr)\n",
        "    carry = 1\n",
        "\n",
        "    for i in range(n):\n",
        "        total = arr[i] + carry\n",
        "        arr[i] = total % 10\n",
        "        carry = total // 10\n",
        "\n",
        "    if carry:\n",
        "        arr.insert(0, carry)\n",
        "\n",
        "    return arr\n",
        "\n",
        "arr  = [1,2,3]\n",
        "print(plusOne(arr))  # Output: [1, 2, 4]\n",
        "arr = [9,9]\n",
        "print(plusOne(arr))  # Output: [1, 0, 0]"
      ]
    },
    {
      "cell_type": "code",
      "execution_count": 54,
      "metadata": {},
      "outputs": [
        {
          "name": "stdout",
          "output_type": "stream",
          "text": [
            "[1, 2, 4]\n",
            "[9, 0, 0]\n"
          ]
        }
      ],
      "source": [
        "def plusOne(arr):\n",
        "    n = len(arr)\n",
        "    carry = 1\n",
        "\n",
        "    for i in range(n-1, -1, -1):\n",
        "        total = arr[i] + carry\n",
        "        arr[i] = total % 10\n",
        "        carry = total // 10\n",
        "\n",
        "        if carry == 0:\n",
        "            return arr\n",
        "        \n",
        "\n",
        "    if carry:\n",
        "        arr.insert(0, carry)\n",
        "\n",
        "\n",
        "    return arr\n",
        "\n",
        "arr = [1,2,3]\n",
        "print(plusOne(arr))  # Output: [1, 2, 4]\n",
        "arr= [8,9,9]\n",
        "print(plusOne(arr))"
      ]
    },
    {
      "cell_type": "code",
      "execution_count": null,
      "metadata": {},
      "outputs": [],
      "source": [
        "class Solution:\n",
        "    def mergeAlternately(self, word1: str, word2: str) -> str:\n",
        "        s = []\n",
        "        i = 0 \n",
        "        j = 0\n",
        "        while i<len(word1) and j < len(word2):\n",
        "            s.append(word1[i])\n",
        "            s.append(word2[j])\n",
        "            i+= 1\n",
        "            j+= 1\n",
        "        while i<len(word1):\n",
        "            s.append(word1[i])\n",
        "            i+=1\n",
        "        while j<len(word2):\n",
        "            s.append(word2[j])\n",
        "            j+=1\n",
        "        return \"\".join(s)\n",
        "        "
      ]
    },
    {
      "cell_type": "code",
      "execution_count": null,
      "metadata": {},
      "outputs": [],
      "source": [
        "class Solution:\n",
        "    def findClosestNumber(self, nums: List[int]) -> int:\n",
        "        closest = nums[0]\n",
        "        for num in nums[1:]:\n",
        "            current_distance = abs(num)\n",
        "            closest_distance = abs(closest)\n",
        "            if current_distance < closest_distance:\n",
        "                closest = num\n",
        "            elif current_distance == closest_distance:\n",
        "                if num > closest:\n",
        "                    closest = num\n",
        "\n",
        "        return closest"
      ]
    },
    {
      "cell_type": "code",
      "execution_count": 63,
      "metadata": {},
      "outputs": [
        {
          "name": "stdout",
          "output_type": "stream",
          "text": [
            "[24, 12, 8, 6]\n"
          ]
        }
      ],
      "source": [
        "def productExceptitself(nums):\n",
        "    l_mult = 1\n",
        "    r_mult = 1\n",
        "    n = len(nums)\n",
        "    l_arr = [0] * n\n",
        "    r_arr = [0] * n\n",
        "\n",
        "    for i in range(n):\n",
        "        j = -i - 1   \n",
        "        l_arr[i] = l_mult\n",
        "        r_arr[j] = r_mult\n",
        "        l_mult *= nums[i]\n",
        "        r_mult *= nums[j] \n",
        "\n",
        "    return [l*r for l, r in zip(l_arr, r_arr)]\n",
        "\n",
        "\n",
        "arr = [1,2,3,4]\n",
        "print(productExceptitself(arr))"
      ]
    },
    {
      "cell_type": "code",
      "execution_count": null,
      "metadata": {},
      "outputs": [],
      "source": [
        "def productExceptitself(nums):\n",
        "    l_mult = 1\n",
        "    r_mult = 1\n",
        "    n = len(nums)\n",
        "    l_arr = [0] * n\n",
        "    r_arr = [0] * n\n",
        "\n",
        "    for i in range(n):\n",
        "        j = -i - 1   \n",
        "        l_arr[i] = l_mult\n",
        "        r_arr[j] = r_mult\n",
        "        l_mult *= nums[i]\n",
        "        r_mult *= nums[j] \n",
        "\n",
        "    result = []\n",
        "    for i in range(n):\n",
        "        result.append(l_arr[i] * r_arr[i])\n",
        "    return result\n",
        "\n",
        "arr = [1,2,3,4]\n",
        "print(productExceptitself(arr))  # Output: [24, 12, 8, 6]\n"
      ]
    },
    {
      "cell_type": "code",
      "execution_count": 68,
      "metadata": {},
      "outputs": [
        {
          "name": "stdout",
          "output_type": "stream",
          "text": [
            "False\n"
          ]
        }
      ],
      "source": [
        "arr = [[1, 3], [2, 6]]\n",
        "print(arr[0][1] <= arr[1][0])\n"
      ]
    },
    {
      "cell_type": "code",
      "execution_count": null,
      "metadata": {},
      "outputs": [
        {
          "name": "stdout",
          "output_type": "stream",
          "text": [
            "1 6\n"
          ]
        }
      ],
      "source": [
        "arr = [[1, 3], [2, 6]]\n",
        "if arr[0][1] >= arr[1][0]:\n",
        "    print(arr[0][0] , arr[1][1])\n"
      ]
    },
    {
      "cell_type": "code",
      "execution_count": 76,
      "metadata": {},
      "outputs": [
        {
          "name": "stdout",
          "output_type": "stream",
          "text": [
            "[[1, 6], [8, 10], [15, 18]]\n",
            "[[1, 5]]\n"
          ]
        }
      ],
      "source": [
        "def mergeIntervals(intervals):\n",
        "    if not intervals :\n",
        "        return []\n",
        "    \n",
        "    intervals.sort()\n",
        "\n",
        "    merged = [intervals[0]]\n",
        "\n",
        "    for i in range(1, len(intervals)):\n",
        "        if intervals[i][0] <= merged[-1][1]:\n",
        "            merged[-1][1] = max(merged[-1][1], intervals[i][1])\n",
        "        else:\n",
        "            merged.append(intervals[i])\n",
        "\n",
        "    \n",
        "    return merged\n",
        "\n",
        "intervals = [[1,3],[2,6],[8,10], [15,18]]\n",
        "print(mergeIntervals(intervals))  # Output: [[1, 6], [8\n",
        "\n",
        "intervals = [[1,4],[4,5]]\n",
        "print(mergeIntervals(intervals))"
      ]
    },
    {
      "cell_type": "code",
      "execution_count": 84,
      "metadata": {},
      "outputs": [
        {
          "name": "stdout",
          "output_type": "stream",
          "text": [
            "6\n"
          ]
        }
      ],
      "source": [
        "def MaxProductSub(arr):\n",
        "    if not arr:\n",
        "        return 0\n",
        "    \n",
        "    maxi = arr[0]\n",
        "    n = len(arr)\n",
        "    for i in range(n):\n",
        "        for j in range(i, n):\n",
        "            product = 1\n",
        "            for k in range(i, j):\n",
        "                product *= arr[k]\n",
        "            maxi = max(maxi, product)\n",
        "\n",
        "    return maxi\n",
        "\n",
        "arr = [2,3,-2,4]\n",
        "print(MaxProductSub(arr))"
      ]
    },
    {
      "cell_type": "code",
      "execution_count": null,
      "metadata": {},
      "outputs": [
        {
          "name": "stdout",
          "output_type": "stream",
          "text": [
            "4\n"
          ]
        }
      ],
      "source": [
        "\n",
        "\n",
        "arr = [2,3,-2,4]\n",
        "print(MaxProductSub(arr))"
      ]
    },
    {
      "cell_type": "code",
      "execution_count": 108,
      "metadata": {},
      "outputs": [
        {
          "name": "stdout",
          "output_type": "stream",
          "text": [
            "[1, 2, 2, 3, 5, 6]\n"
          ]
        }
      ],
      "source": [
        "def merge(nums1, m, nums2, n):\n",
        "    # Pointer for nums1 and nums2\n",
        "    i = m - 1  # Last valid element in nums1\n",
        "    j = n - 1  # Last valid element in nums2\n",
        "    k = m + n - 1  # Position for the last element in nums1\n",
        "\n",
        "    # Merge arrays starting from the end of both nums1 and nums2\n",
        "    while i >= 0 and j >= 0:\n",
        "        if nums1[i] > nums2[j]:\n",
        "            nums1[k] = nums1[i]\n",
        "            i -= 1\n",
        "        else:\n",
        "            nums1[k] = nums2[j]\n",
        "            j -= 1\n",
        "        k -= 1\n",
        "    \n",
        "    # If there are remaining elements in nums2, move them to nums1\n",
        "    while j >= 0:\n",
        "        nums1[k] = nums2[j]\n",
        "        j -= 1\n",
        "        k -= 1\n",
        "\n",
        "# Test cases\n",
        "nums1 = [1, 2, 3, 0, 0, 0]\n",
        "m = 3\n",
        "nums2 = [2, 5, 6]\n",
        "n = 3\n",
        "merge(nums1, m, nums2, n)\n",
        "print(nums1)  # Output: [1, 2, 2, 3, 5, 6]\n",
        "\n",
        "\n"
      ]
    },
    {
      "cell_type": "code",
      "execution_count": null,
      "metadata": {},
      "outputs": [],
      "source": [
        "def MinSumSubarray(arr):\n",
        "    min_sum = arr[0]\n",
        "    current_sum = 0\n",
        "\n",
        "    for num in arr:\n",
        "        if current_sum > 0 :\n",
        "            current_sum = 0\n",
        "        current_sum += num\n",
        "        min_sum = min(min_sum, current_sum)\n",
        "\n",
        "    \n",
        "    return min_sum\n",
        "\n",
        "\n",
        "arr = [1,2,3]\n",
        "MinSumSubarray(arr)\n"
      ]
    },
    {
      "cell_type": "code",
      "execution_count": 1,
      "metadata": {},
      "outputs": [
        {
          "name": "stdout",
          "output_type": "stream",
          "text": [
            "8\n"
          ]
        }
      ],
      "source": [
        "def numSubArrayProductLessThanK(nums, k):\n",
        "    if k <= 0:\n",
        "        return 0\n",
        "    \n",
        "    n = len(nums)\n",
        "    count = 0\n",
        "    for i in range(n):\n",
        "        product = 1\n",
        "        for j in range(i, n):\n",
        "            product *= nums[j]\n",
        "            if product < k:\n",
        "                count += 1\n",
        "            else:\n",
        "                break\n",
        "\n",
        "    \n",
        "    return count\n",
        "\n",
        "\n",
        "nums = [10,5,2,6]\n",
        "k = 100\n",
        "print(numSubArrayProductLessThanK(nums, k))  # Output: 8"
      ]
    },
    {
      "cell_type": "code",
      "execution_count": 8,
      "metadata": {},
      "outputs": [
        {
          "name": "stdout",
          "output_type": "stream",
          "text": [
            "8\n"
          ]
        }
      ],
      "source": [
        "def OptimalNumSubArrayProduct(nums, k):\n",
        "    if k<=1 :\n",
        "        return 0\n",
        "    \n",
        "    n = len(nums)\n",
        "    count = 0\n",
        "    left = 0\n",
        "    product = 1\n",
        "\n",
        "    for i in range(0,n):\n",
        "        product *= nums[i]\n",
        "        while product >= k:\n",
        "            \n",
        "            product /= nums[left]\n",
        "            left += 1\n",
        "\n",
        "        count += (i - left +1)\n",
        "\n",
        "    return count\n",
        "\n",
        "nums = [10,5,2,6]\n",
        "k = 100\n",
        "print(OptimalNumSubArrayProduct(nums,k))\n",
        "\n"
      ]
    },
    {
      "cell_type": "code",
      "execution_count": null,
      "metadata": {},
      "outputs": [
        {
          "name": "stdout",
          "output_type": "stream",
          "text": [
            "None\n",
            "[4, 5, 6, 1, 2, 3]\n"
          ]
        }
      ],
      "source": [
        "def rotate(nums, k):\n",
        "    n = len(nums)\n",
        "    k = k% n\n",
        "\n",
        "    for step in range(k):\n",
        "        last = nums[-1]\n",
        "\n",
        "        for i in range(n-1, 0, -1):\n",
        "            nums[i] = nums[i-1]\n",
        "\n",
        "        nums[0] = last\n",
        "\n",
        "\n",
        "nums = [1,2,3,4,5,6]\n",
        "k = 3\n",
        "rotate(nums, k)\n",
        "print(nums)"
      ]
    },
    {
      "cell_type": "code",
      "execution_count": null,
      "metadata": {},
      "outputs": [
        {
          "name": "stdout",
          "output_type": "stream",
          "text": [
            "[4, 5, 6, 1, 2, 3]\n"
          ]
        }
      ],
      "source": [
        "def rotate(nums, k):\n",
        "    n = len(nums)\n",
        "    k = k % n \n",
        "\n",
        "    rotated = [0] * n\n",
        "\n",
        "    for i in range(n):\n",
        "        new_index = (i + k) % n\n",
        "        rotated[new_index] = nums[i]\n",
        "\n",
        "    for i in range(n):\n",
        "        nums[i] = rotated[i]\n",
        "\n",
        "\n",
        "nums = [1,2,3,4,5,6]\n",
        "k = 3\n",
        "rotate(nums, k)\n",
        "print(nums)"
      ]
    },
    {
      "cell_type": "code",
      "execution_count": 15,
      "metadata": {},
      "outputs": [
        {
          "name": "stdout",
          "output_type": "stream",
          "text": [
            "4\n",
            "2\n"
          ]
        }
      ],
      "source": [
        "def max_alternating_subarray_length(nums):\n",
        "    n = len(nums)\n",
        "    max_len = 1\n",
        "\n",
        "    for i in range(n - 1):\n",
        "        if nums[i+1] == nums[i] + 1:\n",
        "            a = nums[i]\n",
        "            current_length = 2\n",
        "\n",
        "            for j in range(i+2,n):\n",
        "                expected = a if (j-i) % 2== 0 else a+1\n",
        "                if nums[j] == expected:\n",
        "                    current_length += 1\n",
        "                else:\n",
        "                    break\n",
        "\n",
        "            max_len = max(max_len, current_length)\n",
        "\n",
        "\n",
        "    return max_len\n",
        "\n",
        "\n",
        "nums1 = [2, 3, 4, 3, 4]\n",
        "print(max_alternating_subarray_length(nums1))  # Output: 4\n",
        "\n",
        "nums2 = [4, 5, 6]\n",
        "print(max_alternating_subarray_length(nums2))  # Output: 2\n",
        "\n"
      ]
    }
  ],
  "metadata": {
    "kernelspec": {
      "display_name": "Python 3",
      "language": "python",
      "name": "python3"
    },
    "language_info": {
      "codemirror_mode": {
        "name": "ipython",
        "version": 3
      },
      "file_extension": ".py",
      "mimetype": "text/x-python",
      "name": "python",
      "nbconvert_exporter": "python",
      "pygments_lexer": "ipython3",
      "version": "3.12.3"
    }
  },
  "nbformat": 4,
  "nbformat_minor": 4
}
