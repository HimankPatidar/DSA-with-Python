{
 "cells": [
  {
   "cell_type": "markdown",
   "metadata": {},
   "source": [
    "# List"
   ]
  },
  {
   "cell_type": "code",
   "execution_count": 2,
   "metadata": {},
   "outputs": [
    {
     "data": {
      "text/plain": [
       "array.array"
      ]
     },
     "execution_count": 2,
     "metadata": {},
     "output_type": "execute_result"
    }
   ],
   "source": [
    "from array import *\n",
    "\n",
    "a1 = array('i', [1, 2, 3, 4, 5])\n",
    "type(a1)"
   ]
  },
  {
   "cell_type": "code",
   "execution_count": 1,
   "metadata": {},
   "outputs": [
    {
     "name": "stdout",
     "output_type": "stream",
     "text": [
      "!!nohtyP olleH\n"
     ]
    }
   ],
   "source": [
    "with open(\"abc.txt\", 'r') as file:\n",
    "    for line in file:\n",
    "        print(line[::-1])"
   ]
  },
  {
   "cell_type": "code",
   "execution_count": null,
   "metadata": {},
   "outputs": [
    {
     "name": "stdout",
     "output_type": "stream",
     "text": [
      "Lines: 1\n",
      "Words: 2\n",
      "Characters: 14\n"
     ]
    }
   ],
   "source": [
    "def count_file_contents(filename):\n",
    "    try:\n",
    "        with open(filename, 'r') as file:\n",
    "            lines = file.readlines()\n",
    "            \n",
    "            num_lines = len(lines)\n",
    "            num_words = sum(len(line.split()) for line in lines)\n",
    "            num_chars = sum(len(line) for line in lines)\n",
    "\n",
    "            print(f\"Lines: {num_lines}\")\n",
    "            print(f\"Words: {num_words}\")\n",
    "            print(f\"Characters: {num_chars}\")     \n",
    "    except FileNotFoundError:\n",
    "        print(f\"Error: File '{filename}' not found.\")\n",
    "    except Exception as e:\n",
    "        print(f\"An error occurred: {e}\")\n",
    "\n",
    "# Example usage\n",
    "filename = 'abc.txt'  # Replace with the path to your file\n",
    "count_file_contents(filename)\n"
   ]
  },
  {
   "cell_type": "code",
   "execution_count": 3,
   "metadata": {},
   "outputs": [
    {
     "name": "stdout",
     "output_type": "stream",
     "text": [
      "Lines: 1\n",
      "Words: 2\n",
      "Characters: 14\n"
     ]
    }
   ],
   "source": [
    "num_lines = num_words = num_chars = 0\n",
    "\n",
    "with open(\"abc.txt\", 'r') as file:\n",
    "    for line in file:\n",
    "        num_lines += 1\n",
    "        num_words += len(line.split())\n",
    "        num_chars += len(line)\n",
    "\n",
    "        print(f\"Lines: {num_lines}\")\n",
    "        print(f\"Words: {num_words}\")\n",
    "        print(f\"Characters: {num_chars}\")\n"
   ]
  },
  {
   "cell_type": "code",
   "execution_count": 4,
   "metadata": {},
   "outputs": [
    {
     "name": "stdout",
     "output_type": "stream",
     "text": [
      "True\n",
      "True\n",
      "True\n",
      "True\n",
      "False\n"
     ]
    }
   ],
   "source": [
    "def nearly_equal(a, b):\n",
    "    # If the length difference is more than 1, they can't be nearly equal\n",
    "    if abs(len(a) - len(b)) > 1:\n",
    "        return False\n",
    "\n",
    "    i, j, mutations = 0, 0, 0  # Pointers for both strings and a mutation counter\n",
    "\n",
    "    while i < len(a) and j < len(b):\n",
    "        if a[i] == b[j]:\n",
    "            i += 1\n",
    "            j += 1\n",
    "        else:\n",
    "            mutations += 1\n",
    "            if mutations > 1:\n",
    "                return False\n",
    "            # For unequal lengths, try skipping one character in the longer string\n",
    "            if len(a) > len(b):\n",
    "                i += 1\n",
    "            elif len(b) > len(a):\n",
    "                j += 1\n",
    "            else:\n",
    "                i += 1\n",
    "                j += 1\n",
    "\n",
    "    # If one string has a leftover character, count that as a mutation.\n",
    "    if i < len(a) or j < len(b):\n",
    "        mutations += 1\n",
    "\n",
    "    return mutations == 1\n",
    "\n",
    "# Test examples:\n",
    "print(nearly_equal(\"cat\", \"cut\"))   # True (one substitution)\n",
    "print(nearly_equal(\"cat\", \"cats\"))  # True (one insertion)\n",
    "print(nearly_equal(\"cat\", \"at\"))    # True (one deletion)\n",
    "print(nearly_equal(\"cat\", \"cast\"))  # True (one insertion)\n",
    "print(nearly_equal(\"cat\", \"dog\"))   # False (more than one mutation)\n"
   ]
  },
  {
   "cell_type": "code",
   "execution_count": 8,
   "metadata": {},
   "outputs": [
    {
     "name": "stdout",
     "output_type": "stream",
     "text": [
      "Sorted array: [1, 4, 6, 7, 12, 23, 51]\n"
     ]
    }
   ],
   "source": [
    "def merge(arr, low, mid, high):\n",
    "    n1 = mid-low+1\n",
    "    n2 = high-mid\n",
    "    # create temporary arrays\n",
    "    left = [0]*n1\n",
    "    right = [0] * n2\n",
    "\n",
    "    for i in range(0,n1):\n",
    "        left[i] = arr[low+i]\n",
    "\n",
    "    for i in range(n2):\n",
    "        right[i] = arr[mid+1+i]\n",
    "\n",
    "    i = 0\n",
    "    j =0\n",
    "    k = low\n",
    "\n",
    "    while i<n1 and j<n2 :\n",
    "        if left[i] <= right[j]:\n",
    "            arr[k] = left[i]\n",
    "            i += 1\n",
    "            k += 1\n",
    "\n",
    "        else:\n",
    "            arr[k] = right[j]\n",
    "            k += 1\n",
    "            j += 1\n",
    "    \n",
    "    while i<n1:\n",
    "        arr[k] = left[i]\n",
    "        k += 1\n",
    "        i += 1\n",
    "\n",
    "    while j<n2:\n",
    "        arr[k] = right[j]\n",
    "        k += 1\n",
    "        j += 1\n",
    "\n",
    "\n",
    "\n",
    "def mergeSort(arr, low, high):\n",
    "    if low>=high:\n",
    "        return\n",
    "    \n",
    "    mid = (low+high) // 2\n",
    "    mergeSort(arr, low, mid)\n",
    "    mergeSort(arr, mid+1, high)\n",
    "    merge(arr, low, mid, high)\n",
    "\n",
    "\n",
    "\n",
    "arr = [12,51,23,6,4,7,1]\n",
    "mergeSort(arr, 0, len(arr)-1)\n",
    "print(\"Sorted array:\", arr)\n",
    "\n"
   ]
  },
  {
   "cell_type": "code",
   "execution_count": 9,
   "metadata": {},
   "outputs": [
    {
     "name": "stdout",
     "output_type": "stream",
     "text": [
      "[1, 4, 6, 7, 12, 23, 51]\n"
     ]
    }
   ],
   "source": [
    "def selection_sort(arr, n):\n",
    "    for i in range(n-1):\n",
    "        min_idx = i\n",
    "        for j in range(i+1, n):\n",
    "            if arr[j] < arr[min_idx]:\n",
    "                min_idx = j\n",
    "        \n",
    "        temp = arr[min_idx]\n",
    "        arr[min_idx] = arr[i]\n",
    "        arr[i] = temp\n",
    "\n",
    "        \n",
    "\n",
    "arr = [12,51,23,6,4,7,1]\n",
    "n = len(arr)\n",
    "selection_sort(arr, n)\n",
    "print(arr)  # Output: [1, 4, 6, 7,"
   ]
  },
  {
   "cell_type": "code",
   "execution_count": 14,
   "metadata": {},
   "outputs": [
    {
     "name": "stdout",
     "output_type": "stream",
     "text": [
      "[1, 4, 6, 7, 12, 23, 51]\n"
     ]
    }
   ],
   "source": [
    "def insertion_sort(arr, n):\n",
    "    # Start from index 1 because the element at index 0 is already considered \"sorted.\"\n",
    "    for i in range(1, n):\n",
    "        key = arr[i]\n",
    "        j = i - 1\n",
    "        # Shift elements of arr[0..i-1] that are greater than key to one position ahead.\n",
    "        while j >= 0 and arr[j] > key:\n",
    "            arr[j+1] = arr[j]\n",
    "            j -= 1\n",
    "        # Place key at the correct position\n",
    "        arr[j+1] = key\n",
    "    return arr\n",
    "\n",
    "# Test array\n",
    "arr = [12, 51, 23, 6, 4, 7, 1]\n",
    "n = len(arr)\n",
    "insertion_sort(arr, n)\n",
    "print(arr)  # Expected Output: [1, 4, 6, 7, 12, 23, 51]\n"
   ]
  },
  {
   "cell_type": "code",
   "execution_count": null,
   "metadata": {},
   "outputs": [],
   "source": []
  },
  {
   "cell_type": "code",
   "execution_count": 4,
   "metadata": {},
   "outputs": [
    {
     "name": "stdout",
     "output_type": "stream",
     "text": [
      "array('i', [1, 2, 3, 4, 5])\n"
     ]
    }
   ],
   "source": [
    "print(a1)"
   ]
  },
  {
   "cell_type": "code",
   "execution_count": 5,
   "metadata": {},
   "outputs": [
    {
     "name": "stdout",
     "output_type": "stream",
     "text": [
      "1\n",
      "2\n",
      "3\n",
      "4\n",
      "5\n"
     ]
    }
   ],
   "source": [
    "for x in a1:\n",
    "    print(x)"
   ]
  },
  {
   "cell_type": "code",
   "execution_count": 6,
   "metadata": {},
   "outputs": [],
   "source": [
    "a1.append(20)"
   ]
  },
  {
   "cell_type": "code",
   "execution_count": 9,
   "metadata": {},
   "outputs": [
    {
     "data": {
      "text/plain": [
       "1"
      ]
     },
     "execution_count": 9,
     "metadata": {},
     "output_type": "execute_result"
    }
   ],
   "source": [
    "a1.count(2)"
   ]
  },
  {
   "cell_type": "code",
   "execution_count": 10,
   "metadata": {},
   "outputs": [
    {
     "data": {
      "text/plain": [
       "20"
      ]
     },
     "execution_count": 10,
     "metadata": {},
     "output_type": "execute_result"
    }
   ],
   "source": [
    "a1.pop()"
   ]
  },
  {
   "cell_type": "code",
   "execution_count": 11,
   "metadata": {},
   "outputs": [
    {
     "data": {
      "text/plain": [
       "array('i', [1, 2, 3, 4, 5])"
      ]
     },
     "execution_count": 11,
     "metadata": {},
     "output_type": "execute_result"
    }
   ],
   "source": [
    "a1"
   ]
  },
  {
   "cell_type": "code",
   "execution_count": 12,
   "metadata": {},
   "outputs": [],
   "source": [
    "a1.remove(3)"
   ]
  },
  {
   "cell_type": "code",
   "execution_count": 13,
   "metadata": {},
   "outputs": [
    {
     "data": {
      "text/plain": [
       "1"
      ]
     },
     "execution_count": 13,
     "metadata": {},
     "output_type": "execute_result"
    }
   ],
   "source": [
    "a1.pop(0)"
   ]
  },
  {
   "cell_type": "code",
   "execution_count": 14,
   "metadata": {},
   "outputs": [
    {
     "data": {
      "text/plain": [
       "array('i', [2, 4, 5])"
      ]
     },
     "execution_count": 14,
     "metadata": {},
     "output_type": "execute_result"
    }
   ],
   "source": [
    "a1"
   ]
  },
  {
   "cell_type": "code",
   "execution_count": 15,
   "metadata": {},
   "outputs": [],
   "source": [
    "a1.reverse()"
   ]
  },
  {
   "cell_type": "code",
   "execution_count": 16,
   "metadata": {},
   "outputs": [
    {
     "data": {
      "text/plain": [
       "array('i', [5, 4, 2])"
      ]
     },
     "execution_count": 16,
     "metadata": {},
     "output_type": "execute_result"
    }
   ],
   "source": [
    "a1"
   ]
  },
  {
   "cell_type": "code",
   "execution_count": 17,
   "metadata": {},
   "outputs": [
    {
     "data": {
      "text/plain": [
       "[5, 4, 2]"
      ]
     },
     "execution_count": 17,
     "metadata": {},
     "output_type": "execute_result"
    }
   ],
   "source": [
    "a1.tolist()\n"
   ]
  },
  {
   "cell_type": "code",
   "execution_count": 18,
   "metadata": {},
   "outputs": [
    {
     "data": {
      "text/plain": [
       "[2, 3, 6, 12, 21, 34, 51]"
      ]
     },
     "execution_count": 18,
     "metadata": {},
     "output_type": "execute_result"
    }
   ],
   "source": [
    "n = [12,2,51,3,6,21,34]\n",
    "n.sort()\n",
    "n"
   ]
  },
  {
   "cell_type": "code",
   "execution_count": 2,
   "metadata": {},
   "outputs": [
    {
     "name": "stdout",
     "output_type": "stream",
     "text": [
      "11\n",
      "20\n"
     ]
    }
   ],
   "source": [
    "a =10\n",
    "b =20\n",
    "\n",
    "def my_function():\n",
    "    global a\n",
    "    a =11 \n",
    "    b =21\n",
    "\n",
    "my_function()\n",
    "print(a)\n",
    "print(b)"
   ]
  },
  {
   "cell_type": "markdown",
   "metadata": {},
   "source": [
    "## Flow control and iteration\n"
   ]
  },
  {
   "cell_type": "code",
   "execution_count": 3,
   "metadata": {},
   "outputs": [
    {
     "name": "stdout",
     "output_type": "stream",
     "text": [
      "Something else\n"
     ]
    }
   ],
   "source": [
    "x = 'one'\n",
    "if x == 0:\n",
    "    print('False')\n",
    "elif x == 1:\n",
    "    print('True')\n",
    "else: \n",
    "    print('Something else')\n",
    "\n"
   ]
  },
  {
   "cell_type": "code",
   "execution_count": 33,
   "metadata": {},
   "outputs": [
    {
     "data": {
      "text/plain": [
       "['hello', 'world']"
      ]
     },
     "execution_count": 33,
     "metadata": {},
     "output_type": "execute_result"
    }
   ],
   "source": [
    "t = []\n",
    "s = \"hello world\"\n",
    "s.count(\"e\")\n",
    "s.expandtabs(2)\n",
    "s.find(\"o\", 5, 10)\n",
    "s.isalnum()\n",
    "s.isalpha()\n",
    "s.isascii()\n",
    "s.isdigit()\n",
    "s.join(t)\n",
    "s.lower()\n",
    "s.replace(\"o\", \"0\")\n",
    "s.split()\n",
    "s.strip(\"hd\")\n",
    "s.split(\" \")  # or s.split(\",\") depending on what separator you want to use"
   ]
  },
  {
   "cell_type": "code",
   "execution_count": 34,
   "metadata": {},
   "outputs": [
    {
     "data": {
      "text/plain": [
       "'e'"
      ]
     },
     "execution_count": 34,
     "metadata": {},
     "output_type": "execute_result"
    }
   ],
   "source": [
    "s[1:2]"
   ]
  },
  {
   "cell_type": "code",
   "execution_count": 39,
   "metadata": {},
   "outputs": [
    {
     "data": {
      "text/plain": [
       "'hlow'"
      ]
     },
     "execution_count": 39,
     "metadata": {},
     "output_type": "execute_result"
    }
   ],
   "source": [
    "greet = \"hello world\"\n",
    "greet[0:5]\n",
    "greet[6:11]\n",
    "greet[0:8]\n",
    "greet[0:8:2]"
   ]
  },
  {
   "cell_type": "code",
   "execution_count": 40,
   "metadata": {},
   "outputs": [
    {
     "data": {
      "text/plain": [
       "'l'"
      ]
     },
     "execution_count": 40,
     "metadata": {},
     "output_type": "execute_result"
    }
   ],
   "source": [
    "greet[1+2]"
   ]
  },
  {
   "cell_type": "code",
   "execution_count": 41,
   "metadata": {},
   "outputs": [
    {
     "name": "stdout",
     "output_type": "stream",
     "text": [
      "(0, 'h')\n",
      "(1, 'e')\n",
      "(2, 'l')\n",
      "(3, 'l')\n",
      "(4, 'o')\n",
      "(5, ' ')\n",
      "(6, 'w')\n",
      "(7, 'o')\n"
     ]
    }
   ],
   "source": [
    "for i in enumerate(greet[0:8]):\n",
    "    print(i)"
   ]
  },
  {
   "cell_type": "code",
   "execution_count": 42,
   "metadata": {},
   "outputs": [
    {
     "data": {
      "text/plain": [
       "'hello wonderful world'"
      ]
     },
     "execution_count": 42,
     "metadata": {},
     "output_type": "execute_result"
    }
   ],
   "source": [
    "greet[:5] + \" wonderful\" + greet[5:]"
   ]
  },
  {
   "cell_type": "code",
   "execution_count": 44,
   "metadata": {},
   "outputs": [
    {
     "data": {
      "text/plain": [
       "7"
      ]
     },
     "execution_count": 44,
     "metadata": {},
     "output_type": "execute_result"
    }
   ],
   "source": [
    "x = \"3\" ; y = \"4\"\n",
    "x + y\n",
    "int(x) + int(y)"
   ]
  },
  {
   "cell_type": "markdown",
   "metadata": {},
   "source": [
    "# List"
   ]
  },
  {
   "cell_type": "code",
   "execution_count": 56,
   "metadata": {},
   "outputs": [
    {
     "data": {
      "text/plain": [
       "False"
      ]
     },
     "execution_count": 56,
     "metadata": {},
     "output_type": "execute_result"
    }
   ],
   "source": [
    "chars = list(s)\n",
    "chars.append(x)\n",
    "chars\n",
    "chars.extend(x)\n",
    "s.count(\"o\")\n",
    "s.find(\"o\")\n",
    "s.index(\"o\")\n",
    "s.replace(\"o\", \"0\")\n",
    "s.split()\n",
    "s.strip()\n",
    "s.upper()\n",
    "s.lower()\n",
    "s.title()\n",
    "s.capitalize()\n",
    "s.swapcase()\n",
    "s.isalnum()\n",
    "s.isalpha()\n",
    "\n"
   ]
  },
  {
   "cell_type": "code",
   "execution_count": 60,
   "metadata": {},
   "outputs": [
    {
     "data": {
      "text/plain": [
       "[1, 2, 3]"
      ]
     },
     "execution_count": 60,
     "metadata": {},
     "output_type": "execute_result"
    }
   ],
   "source": [
    "x =1; y =2; z= 3\n",
    "list1 = [x, y, z]\n",
    "list2 = list1\n",
    "list2[1]\n",
    "list1"
   ]
  },
  {
   "cell_type": "code",
   "execution_count": 61,
   "metadata": {},
   "outputs": [
    {
     "name": "stdout",
     "output_type": "stream",
     "text": [
      "Product: rice Price: 2.4 Quality: 8\n",
      "Product: flour Price: 1.9 Quality: 5\n",
      "Product: corn Price: 4.7 Quality: 6\n"
     ]
    }
   ],
   "source": [
    "items = [[\"rice\" , 2.4, 8], [\"flour\", 1.9, 5], [\"corn\", 4.7, 6]]\n",
    "for item in items:\n",
    "    print(f\"Product: {item[0]} Price: {item[1]} Quality: {item[2]}\")\n",
    "    "
   ]
  },
  {
   "cell_type": "code",
   "execution_count": 63,
   "metadata": {},
   "outputs": [
    {
     "data": {
      "text/plain": [
       "2.28"
      ]
     },
     "execution_count": 63,
     "metadata": {},
     "output_type": "execute_result"
    }
   ],
   "source": [
    "items[1][1]  = items[1][1] * 1.2\n",
    "items[1][1]\n"
   ]
  },
  {
   "cell_type": "code",
   "execution_count": 64,
   "metadata": {},
   "outputs": [
    {
     "data": {
      "text/plain": [
       "[1, 8, 27, 64, 125]"
      ]
     },
     "execution_count": 64,
     "metadata": {},
     "output_type": "execute_result"
    }
   ],
   "source": [
    "l = [1, 2, 3, 4, 5]\n",
    "\n",
    "[i ** 3 for i in l]"
   ]
  },
  {
   "cell_type": "code",
   "execution_count": 65,
   "metadata": {},
   "outputs": [
    {
     "name": "stdout",
     "output_type": "stream",
     "text": [
      "[0, 8, 16, 24, 32, 40, 48, 56, 64, 72, 80, 88, 96, 104, 112, 120]\n",
      "[0, 8, 16, 24, 32, 40, 48, 56, 64, 72, 80, 88, 96, 104, 112, 120]\n"
     ]
    }
   ],
   "source": [
    "def f1(x): return x*2\n",
    "def f2(x) : return x*4\n",
    "\n",
    "\n",
    "lst = []\n",
    "\n",
    "for i in range(16):\n",
    "    lst.append(f1(f2(i)))\n",
    "\n",
    "\n",
    "print(lst)\n",
    "print([f1(x) for x in range(64)  if x in [f2(j) for j in range(16)]])\n"
   ]
  },
  {
   "cell_type": "code",
   "execution_count": 68,
   "metadata": {},
   "outputs": [
    {
     "data": {
      "text/plain": [
       "[4, 5, 6, 8, 10, 12, 12, 15, 18]"
      ]
     },
     "execution_count": 68,
     "metadata": {},
     "output_type": "execute_result"
    }
   ],
   "source": [
    "list1 = [[1,2,3], [4,5,6], [7,8,9]]\n",
    "\n",
    "[i * j for i in list1[0] for j in list1[1]]"
   ]
  },
  {
   "cell_type": "code",
   "execution_count": 69,
   "metadata": {},
   "outputs": [
    {
     "data": {
      "text/plain": [
       "[['here', 4], ['is', 2], ['a', 1], ['sentence', 8]]"
      ]
     },
     "execution_count": 69,
     "metadata": {},
     "output_type": "execute_result"
    }
   ],
   "source": [
    "words = 'here is a sentence'.split()\n",
    "[[word, len(word)] for word in words]"
   ]
  },
  {
   "cell_type": "markdown",
   "metadata": {},
   "source": [
    "## Function as first class object"
   ]
  },
  {
   "cell_type": "code",
   "execution_count": 74,
   "metadata": {},
   "outputs": [
    {
     "data": {
      "text/plain": [
       "'bonjour le monde'"
      ]
     },
     "execution_count": 74,
     "metadata": {},
     "output_type": "execute_result"
    }
   ],
   "source": [
    "def greeting(language):\n",
    "    if language == 'eng':\n",
    "        return 'hello world'\n",
    "    if language == 'fr':\n",
    "        return 'bonjour le monde'\n",
    "    else:\n",
    "        return 'language not supported'\n",
    "    \n",
    "l = [greeting('eng'), greeting('fr'), greeting('es')]\n",
    "l[1]"
   ]
  },
  {
   "cell_type": "code",
   "execution_count": 75,
   "metadata": {},
   "outputs": [
    {
     "data": {
      "text/plain": [
       "'hello world'"
      ]
     },
     "execution_count": 75,
     "metadata": {},
     "output_type": "execute_result"
    }
   ],
   "source": [
    "def callf(f):\n",
    "    lang = \"eng\"\n",
    "    return (f(lang))\n",
    "\n",
    "callf(greeting)\n",
    "\n"
   ]
  },
  {
   "cell_type": "code",
   "execution_count": 76,
   "metadata": {},
   "outputs": [
    {
     "data": {
      "text/plain": [
       "[1, 4, 9, 16]"
      ]
     },
     "execution_count": 76,
     "metadata": {},
     "output_type": "execute_result"
    }
   ],
   "source": [
    "lst = [1,2,3,4]\n",
    "list(map(lambda x: x**2, lst))\n"
   ]
  },
  {
   "cell_type": "code",
   "execution_count": 78,
   "metadata": {},
   "outputs": [
    {
     "data": {
      "text/plain": [
       "[1, 2]"
      ]
     },
     "execution_count": 78,
     "metadata": {},
     "output_type": "execute_result"
    }
   ],
   "source": [
    "## Filter\n",
    "\n",
    "list(filter((lambda x: x<3), lst))"
   ]
  },
  {
   "cell_type": "code",
   "execution_count": 79,
   "metadata": {},
   "outputs": [
    {
     "data": {
      "text/plain": [
       "['The', 'fox', 'the', 'dog', 'over', 'lazy', 'quick', 'brown', 'jumps']"
      ]
     },
     "execution_count": 79,
     "metadata": {},
     "output_type": "execute_result"
    }
   ],
   "source": [
    "words = str.split('The quick brown fox jumps over the lazy dog')\n",
    "\n",
    "sorted(words, key= len)\n"
   ]
  },
  {
   "cell_type": "code",
   "execution_count": 83,
   "metadata": {},
   "outputs": [],
   "source": [
    "sl = ['A', 'b', 'a', 'C', 'c']\n",
    "sl.sort( key = str.lower)"
   ]
  },
  {
   "cell_type": "code",
   "execution_count": 84,
   "metadata": {},
   "outputs": [
    {
     "data": {
      "text/plain": [
       "['A', 'a', 'b', 'C', 'c']"
      ]
     },
     "execution_count": 84,
     "metadata": {},
     "output_type": "execute_result"
    }
   ],
   "source": [
    "sl"
   ]
  },
  {
   "cell_type": "code",
   "execution_count": 85,
   "metadata": {},
   "outputs": [
    {
     "data": {
      "text/plain": [
       "['corn', 4.7, 6]"
      ]
     },
     "execution_count": 85,
     "metadata": {},
     "output_type": "execute_result"
    }
   ],
   "source": [
    "items.sort(key= lambda item: item[1])\n",
    "item"
   ]
  },
  {
   "cell_type": "code",
   "execution_count": 89,
   "metadata": {},
   "outputs": [
    {
     "name": "stdout",
     "output_type": "stream",
     "text": [
      "1\n",
      "2\n",
      "3\n",
      "4\n",
      "5\n"
     ]
    }
   ],
   "source": [
    "def iterTest(low, high):\n",
    "    while low <= high:\n",
    "        print(low)\n",
    "        low += 1\n",
    "\n",
    "def recurTest(low, high):\n",
    "    if low <= high:\n",
    "        print(low)\n",
    "        recurTest(low + 1, high)# recursive call with updated low value\n",
    "\n",
    "\n",
    "# iterTest(1, 5)\n",
    "recurTest(1, 5)\n"
   ]
  },
  {
   "cell_type": "markdown",
   "metadata": {},
   "source": [
    "## Generators and co-routine"
   ]
  },
  {
   "cell_type": "code",
   "execution_count": 90,
   "metadata": {},
   "outputs": [
    {
     "name": "stdout",
     "output_type": "stream",
     "text": [
      "Time to sum an iterator:  0.15935182571411133\n",
      "Time to build and sum a list:  0.14708971977233887\n"
     ]
    }
   ],
   "source": [
    "import time\n",
    "# generator function creates an iterator of odd numbers between n and m\n",
    "\n",
    "def oddGen(n, m):\n",
    "    while n<m:\n",
    "        if n % 2 == 1:\n",
    "            yield n\n",
    "        n += 1\n",
    "\n",
    "# build a list of odd number between n and m\n",
    "def oddlst(n, m):\n",
    "    lst = []\n",
    "    while n<m:\n",
    "        if n % 2 == 1:\n",
    "            lst.append(n)\n",
    "        n += 1\n",
    "    return lst\n",
    "\n",
    "t1 = time.time()\n",
    "sum(oddGen(1, 1000000))\n",
    "print('Time to sum an iterator: ', time.time() - t1)\n",
    "\n",
    "\n",
    "t1 = time.time()\n",
    "sum(oddlst(1, 1000000))\n",
    "print('Time to build and sum a list: ', time.time() - t1)\n"
   ]
  },
  {
   "cell_type": "code",
   "execution_count": null,
   "metadata": {},
   "outputs": [],
   "source": []
  }
 ],
 "metadata": {
  "kernelspec": {
   "display_name": "Python 3",
   "language": "python",
   "name": "python3"
  },
  "language_info": {
   "codemirror_mode": {
    "name": "ipython",
    "version": 3
   },
   "file_extension": ".py",
   "mimetype": "text/x-python",
   "name": "python",
   "nbconvert_exporter": "python",
   "pygments_lexer": "ipython3",
   "version": "3.12.3"
  }
 },
 "nbformat": 4,
 "nbformat_minor": 2
}
